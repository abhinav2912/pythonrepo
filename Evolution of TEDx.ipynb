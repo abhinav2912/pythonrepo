{
  "nbformat": 4,
  "nbformat_minor": 0,
  "metadata": {
    "colab": {
      "name": "TEDx.ipynb",
      "version": "0.3.2",
      "provenance": []
    },
    "kernelspec": {
      "name": "python3",
      "display_name": "Python 3"
    }
  },
  "cells": [
    {
      "metadata": {
        "id": "qqFCksL9aySs",
        "colab_type": "text"
      },
      "cell_type": "markdown",
      "source": [
        "# TEDx"
      ]
    },
    {
      "metadata": {
        "id": "2VmTQ-kJV6_x",
        "colab_type": "text"
      },
      "cell_type": "markdown",
      "source": [
        "Trying to classify TED talk's success based on characteristics of the talk and way audience perceives it."
      ]
    },
    {
      "metadata": {
        "id": "9f8w6O16duCp",
        "colab_type": "code",
        "colab": {}
      },
      "cell_type": "code",
      "source": [
        "import pandas as pd\n",
        "import numpy as np\n",
        "from functools import reduce\n",
        "from datetime import datetime\n",
        "from textblob import TextBlob\n",
        "from sklearn.decomposition import PCA\n",
        "from sklearn.preprocessing import StandardScaler\n",
        "from sklearn.model_selection import train_test_split\n",
        "from sklearn.ensemble import RandomForestClassifier\n",
        "from sklearn import preprocessing\n",
        "import matplotlib.pyplot as plt\n",
        "%matplotlib inline\n",
        "import io\n",
        "import seaborn as sns"
      ],
      "execution_count": 0,
      "outputs": []
    },
    {
      "metadata": {
        "id": "VeYkLds_a2kE",
        "colab_type": "text"
      },
      "cell_type": "markdown",
      "source": [
        "## Ingestion"
      ]
    },
    {
      "metadata": {
        "id": "vjV6ej9afFJt",
        "colab_type": "code",
        "outputId": "cc90de2a-6ae1-4703-fa13-60a46e926bb9",
        "colab": {
          "base_uri": "https://localhost:8080/",
          "height": 36
        }
      },
      "cell_type": "code",
      "source": [
        "from google.colab import drive\n",
        "drive.mount('/content/gdrive')"
      ],
      "execution_count": 0,
      "outputs": [
        {
          "output_type": "stream",
          "text": [
            "Drive already mounted at /content/gdrive; to attempt to forcibly remount, call drive.mount(\"/content/gdrive\", force_remount=True).\n"
          ],
          "name": "stdout"
        }
      ]
    },
    {
      "metadata": {
        "id": "CY9KwPtHgsbI",
        "colab_type": "code",
        "colab": {}
      },
      "cell_type": "code",
      "source": [
        "\n",
        "import os;os.listdir(\"/content/gdrive/My Drive/Colab Notebooks\")\n",
        "!pip install -U -q kaggle\n",
        "!mkdir -p ~/.kaggle\n",
        "!cp /content/gdrive/My\\ Drive/Colab\\ Notebooks/kaggle.json ~/.kaggle/kaggle.json"
      ],
      "execution_count": 0,
      "outputs": []
    },
    {
      "metadata": {
        "id": "ETTk27pKgt64",
        "colab_type": "code",
        "outputId": "d85c9d4e-e77d-40b6-c804-914ea2f6ef3d",
        "colab": {
          "base_uri": "https://localhost:8080/",
          "height": 241
        }
      },
      "cell_type": "code",
      "source": [
        "!kaggle datasets download -d rounakbanik/ted-talks\n",
        "!ls -l /content\n",
        "!unzip /content/ted-talks.zip"
      ],
      "execution_count": 0,
      "outputs": [
        {
          "output_type": "stream",
          "text": [
            "ted-talks.zip: Skipping, found more recently modified local copy (use --force to force download)\n",
            "total 47980\n",
            "drwx------ 4 root root     4096 Feb  8 18:40 gdrive\n",
            "drwxr-xr-x 1 root root     4096 Feb  6 17:31 sample_data\n",
            "-rw-r--r-- 1 root root  7579795 Sep 25  2017 ted_main.csv\n",
            "-rw-r--r-- 1 root root 13010715 Feb  8 18:40 ted-talks.zip\n",
            "-rw-r--r-- 1 root root 28526129 Sep 25  2017 transcripts.csv\n",
            "Archive:  /content/ted-talks.zip\n",
            "replace ted_main.csv? [y]es, [n]o, [A]ll, [N]one, [r]ename: y\n",
            "  inflating: ted_main.csv            \n",
            "replace transcripts.csv? [y]es, [n]o, [A]ll, [N]one, [r]ename: y\n",
            "  inflating: transcripts.csv         \n"
          ],
          "name": "stdout"
        }
      ]
    },
    {
      "metadata": {
        "id": "7fpgHrBNgxZl",
        "colab_type": "code",
        "colab": {}
      },
      "cell_type": "code",
      "source": [
        "df_ted = pd.read_csv(\"/content/ted_main.csv\")\n",
        "df_transcript = pd.read_csv('/content/transcripts.csv')"
      ],
      "execution_count": 0,
      "outputs": []
    },
    {
      "metadata": {
        "id": "MH3cOCrKg91U",
        "colab_type": "code",
        "outputId": "3f7289c8-e251-4c8e-93d7-6356d9dc4aa2",
        "colab": {
          "base_uri": "https://localhost:8080/",
          "height": 389
        }
      },
      "cell_type": "code",
      "source": [
        "df_ted.head(3)"
      ],
      "execution_count": 0,
      "outputs": [
        {
          "output_type": "execute_result",
          "data": {
            "text/html": [
              "<div>\n",
              "<style scoped>\n",
              "    .dataframe tbody tr th:only-of-type {\n",
              "        vertical-align: middle;\n",
              "    }\n",
              "\n",
              "    .dataframe tbody tr th {\n",
              "        vertical-align: top;\n",
              "    }\n",
              "\n",
              "    .dataframe thead th {\n",
              "        text-align: right;\n",
              "    }\n",
              "</style>\n",
              "<table border=\"1\" class=\"dataframe\">\n",
              "  <thead>\n",
              "    <tr style=\"text-align: right;\">\n",
              "      <th></th>\n",
              "      <th>comments</th>\n",
              "      <th>description</th>\n",
              "      <th>duration</th>\n",
              "      <th>event</th>\n",
              "      <th>film_date</th>\n",
              "      <th>languages</th>\n",
              "      <th>main_speaker</th>\n",
              "      <th>name</th>\n",
              "      <th>num_speaker</th>\n",
              "      <th>published_date</th>\n",
              "      <th>ratings</th>\n",
              "      <th>related_talks</th>\n",
              "      <th>speaker_occupation</th>\n",
              "      <th>tags</th>\n",
              "      <th>title</th>\n",
              "      <th>url</th>\n",
              "      <th>views</th>\n",
              "    </tr>\n",
              "  </thead>\n",
              "  <tbody>\n",
              "    <tr>\n",
              "      <th>0</th>\n",
              "      <td>4553</td>\n",
              "      <td>Sir Ken Robinson makes an entertaining and pro...</td>\n",
              "      <td>1164</td>\n",
              "      <td>TED2006</td>\n",
              "      <td>1140825600</td>\n",
              "      <td>60</td>\n",
              "      <td>Ken Robinson</td>\n",
              "      <td>Ken Robinson: Do schools kill creativity?</td>\n",
              "      <td>1</td>\n",
              "      <td>1151367060</td>\n",
              "      <td>[{'id': 7, 'name': 'Funny', 'count': 19645}, {...</td>\n",
              "      <td>[{'id': 865, 'hero': 'https://pe.tedcdn.com/im...</td>\n",
              "      <td>Author/educator</td>\n",
              "      <td>['children', 'creativity', 'culture', 'dance',...</td>\n",
              "      <td>Do schools kill creativity?</td>\n",
              "      <td>https://www.ted.com/talks/ken_robinson_says_sc...</td>\n",
              "      <td>47227110</td>\n",
              "    </tr>\n",
              "    <tr>\n",
              "      <th>1</th>\n",
              "      <td>265</td>\n",
              "      <td>With the same humor and humanity he exuded in ...</td>\n",
              "      <td>977</td>\n",
              "      <td>TED2006</td>\n",
              "      <td>1140825600</td>\n",
              "      <td>43</td>\n",
              "      <td>Al Gore</td>\n",
              "      <td>Al Gore: Averting the climate crisis</td>\n",
              "      <td>1</td>\n",
              "      <td>1151367060</td>\n",
              "      <td>[{'id': 7, 'name': 'Funny', 'count': 544}, {'i...</td>\n",
              "      <td>[{'id': 243, 'hero': 'https://pe.tedcdn.com/im...</td>\n",
              "      <td>Climate advocate</td>\n",
              "      <td>['alternative energy', 'cars', 'climate change...</td>\n",
              "      <td>Averting the climate crisis</td>\n",
              "      <td>https://www.ted.com/talks/al_gore_on_averting_...</td>\n",
              "      <td>3200520</td>\n",
              "    </tr>\n",
              "    <tr>\n",
              "      <th>2</th>\n",
              "      <td>124</td>\n",
              "      <td>New York Times columnist David Pogue takes aim...</td>\n",
              "      <td>1286</td>\n",
              "      <td>TED2006</td>\n",
              "      <td>1140739200</td>\n",
              "      <td>26</td>\n",
              "      <td>David Pogue</td>\n",
              "      <td>David Pogue: Simplicity sells</td>\n",
              "      <td>1</td>\n",
              "      <td>1151367060</td>\n",
              "      <td>[{'id': 7, 'name': 'Funny', 'count': 964}, {'i...</td>\n",
              "      <td>[{'id': 1725, 'hero': 'https://pe.tedcdn.com/i...</td>\n",
              "      <td>Technology columnist</td>\n",
              "      <td>['computers', 'entertainment', 'interface desi...</td>\n",
              "      <td>Simplicity sells</td>\n",
              "      <td>https://www.ted.com/talks/david_pogue_says_sim...</td>\n",
              "      <td>1636292</td>\n",
              "    </tr>\n",
              "  </tbody>\n",
              "</table>\n",
              "</div>"
            ],
            "text/plain": [
              "   comments                                        description  duration  \\\n",
              "0      4553  Sir Ken Robinson makes an entertaining and pro...      1164   \n",
              "1       265  With the same humor and humanity he exuded in ...       977   \n",
              "2       124  New York Times columnist David Pogue takes aim...      1286   \n",
              "\n",
              "     event   film_date  languages  main_speaker  \\\n",
              "0  TED2006  1140825600         60  Ken Robinson   \n",
              "1  TED2006  1140825600         43       Al Gore   \n",
              "2  TED2006  1140739200         26   David Pogue   \n",
              "\n",
              "                                        name  num_speaker  published_date  \\\n",
              "0  Ken Robinson: Do schools kill creativity?            1      1151367060   \n",
              "1       Al Gore: Averting the climate crisis            1      1151367060   \n",
              "2              David Pogue: Simplicity sells            1      1151367060   \n",
              "\n",
              "                                             ratings  \\\n",
              "0  [{'id': 7, 'name': 'Funny', 'count': 19645}, {...   \n",
              "1  [{'id': 7, 'name': 'Funny', 'count': 544}, {'i...   \n",
              "2  [{'id': 7, 'name': 'Funny', 'count': 964}, {'i...   \n",
              "\n",
              "                                       related_talks    speaker_occupation  \\\n",
              "0  [{'id': 865, 'hero': 'https://pe.tedcdn.com/im...       Author/educator   \n",
              "1  [{'id': 243, 'hero': 'https://pe.tedcdn.com/im...      Climate advocate   \n",
              "2  [{'id': 1725, 'hero': 'https://pe.tedcdn.com/i...  Technology columnist   \n",
              "\n",
              "                                                tags  \\\n",
              "0  ['children', 'creativity', 'culture', 'dance',...   \n",
              "1  ['alternative energy', 'cars', 'climate change...   \n",
              "2  ['computers', 'entertainment', 'interface desi...   \n",
              "\n",
              "                         title  \\\n",
              "0  Do schools kill creativity?   \n",
              "1  Averting the climate crisis   \n",
              "2             Simplicity sells   \n",
              "\n",
              "                                                 url     views  \n",
              "0  https://www.ted.com/talks/ken_robinson_says_sc...  47227110  \n",
              "1  https://www.ted.com/talks/al_gore_on_averting_...   3200520  \n",
              "2  https://www.ted.com/talks/david_pogue_says_sim...   1636292  "
            ]
          },
          "metadata": {
            "tags": []
          },
          "execution_count": 229
        }
      ]
    },
    {
      "metadata": {
        "id": "qydblegfhCqh",
        "colab_type": "code",
        "outputId": "a69d0b52-de9c-4ecb-c1fa-6eec95a83a2e",
        "colab": {
          "base_uri": "https://localhost:8080/",
          "height": 143
        }
      },
      "cell_type": "code",
      "source": [
        "df_transcript.head(3)"
      ],
      "execution_count": 0,
      "outputs": [
        {
          "output_type": "execute_result",
          "data": {
            "text/html": [
              "<div>\n",
              "<style scoped>\n",
              "    .dataframe tbody tr th:only-of-type {\n",
              "        vertical-align: middle;\n",
              "    }\n",
              "\n",
              "    .dataframe tbody tr th {\n",
              "        vertical-align: top;\n",
              "    }\n",
              "\n",
              "    .dataframe thead th {\n",
              "        text-align: right;\n",
              "    }\n",
              "</style>\n",
              "<table border=\"1\" class=\"dataframe\">\n",
              "  <thead>\n",
              "    <tr style=\"text-align: right;\">\n",
              "      <th></th>\n",
              "      <th>transcript</th>\n",
              "      <th>url</th>\n",
              "    </tr>\n",
              "  </thead>\n",
              "  <tbody>\n",
              "    <tr>\n",
              "      <th>0</th>\n",
              "      <td>Good morning. How are you?(Laughter)It's been ...</td>\n",
              "      <td>https://www.ted.com/talks/ken_robinson_says_sc...</td>\n",
              "    </tr>\n",
              "    <tr>\n",
              "      <th>1</th>\n",
              "      <td>Thank you so much, Chris. And it's truly a gre...</td>\n",
              "      <td>https://www.ted.com/talks/al_gore_on_averting_...</td>\n",
              "    </tr>\n",
              "    <tr>\n",
              "      <th>2</th>\n",
              "      <td>(Music: \"The Sound of Silence,\" Simon &amp; Garfun...</td>\n",
              "      <td>https://www.ted.com/talks/david_pogue_says_sim...</td>\n",
              "    </tr>\n",
              "  </tbody>\n",
              "</table>\n",
              "</div>"
            ],
            "text/plain": [
              "                                          transcript  \\\n",
              "0  Good morning. How are you?(Laughter)It's been ...   \n",
              "1  Thank you so much, Chris. And it's truly a gre...   \n",
              "2  (Music: \"The Sound of Silence,\" Simon & Garfun...   \n",
              "\n",
              "                                                 url  \n",
              "0  https://www.ted.com/talks/ken_robinson_says_sc...  \n",
              "1  https://www.ted.com/talks/al_gore_on_averting_...  \n",
              "2  https://www.ted.com/talks/david_pogue_says_sim...  "
            ]
          },
          "metadata": {
            "tags": []
          },
          "execution_count": 230
        }
      ]
    },
    {
      "metadata": {
        "id": "89CZDPScnDEB",
        "colab_type": "code",
        "colab": {}
      },
      "cell_type": "code",
      "source": [
        "df_ted = pd.concat([df_ted.reset_index(drop = True), df_transcript], axis = 1)"
      ],
      "execution_count": 0,
      "outputs": []
    },
    {
      "metadata": {
        "id": "WMU-8fFMnHeA",
        "colab_type": "code",
        "outputId": "22e93325-4c77-48b4-f175-d07c43bba9dd",
        "colab": {
          "base_uri": "https://localhost:8080/",
          "height": 389
        }
      },
      "cell_type": "code",
      "source": [
        "df_ted.head(3)"
      ],
      "execution_count": 0,
      "outputs": [
        {
          "output_type": "execute_result",
          "data": {
            "text/html": [
              "<div>\n",
              "<style scoped>\n",
              "    .dataframe tbody tr th:only-of-type {\n",
              "        vertical-align: middle;\n",
              "    }\n",
              "\n",
              "    .dataframe tbody tr th {\n",
              "        vertical-align: top;\n",
              "    }\n",
              "\n",
              "    .dataframe thead th {\n",
              "        text-align: right;\n",
              "    }\n",
              "</style>\n",
              "<table border=\"1\" class=\"dataframe\">\n",
              "  <thead>\n",
              "    <tr style=\"text-align: right;\">\n",
              "      <th></th>\n",
              "      <th>comments</th>\n",
              "      <th>description</th>\n",
              "      <th>duration</th>\n",
              "      <th>event</th>\n",
              "      <th>film_date</th>\n",
              "      <th>languages</th>\n",
              "      <th>main_speaker</th>\n",
              "      <th>name</th>\n",
              "      <th>num_speaker</th>\n",
              "      <th>published_date</th>\n",
              "      <th>ratings</th>\n",
              "      <th>related_talks</th>\n",
              "      <th>speaker_occupation</th>\n",
              "      <th>tags</th>\n",
              "      <th>title</th>\n",
              "      <th>url</th>\n",
              "      <th>views</th>\n",
              "      <th>transcript</th>\n",
              "      <th>url</th>\n",
              "    </tr>\n",
              "  </thead>\n",
              "  <tbody>\n",
              "    <tr>\n",
              "      <th>0</th>\n",
              "      <td>4553</td>\n",
              "      <td>Sir Ken Robinson makes an entertaining and pro...</td>\n",
              "      <td>1164</td>\n",
              "      <td>TED2006</td>\n",
              "      <td>1140825600</td>\n",
              "      <td>60</td>\n",
              "      <td>Ken Robinson</td>\n",
              "      <td>Ken Robinson: Do schools kill creativity?</td>\n",
              "      <td>1</td>\n",
              "      <td>1151367060</td>\n",
              "      <td>[{'id': 7, 'name': 'Funny', 'count': 19645}, {...</td>\n",
              "      <td>[{'id': 865, 'hero': 'https://pe.tedcdn.com/im...</td>\n",
              "      <td>Author/educator</td>\n",
              "      <td>['children', 'creativity', 'culture', 'dance',...</td>\n",
              "      <td>Do schools kill creativity?</td>\n",
              "      <td>https://www.ted.com/talks/ken_robinson_says_sc...</td>\n",
              "      <td>47227110</td>\n",
              "      <td>Good morning. How are you?(Laughter)It's been ...</td>\n",
              "      <td>https://www.ted.com/talks/ken_robinson_says_sc...</td>\n",
              "    </tr>\n",
              "    <tr>\n",
              "      <th>1</th>\n",
              "      <td>265</td>\n",
              "      <td>With the same humor and humanity he exuded in ...</td>\n",
              "      <td>977</td>\n",
              "      <td>TED2006</td>\n",
              "      <td>1140825600</td>\n",
              "      <td>43</td>\n",
              "      <td>Al Gore</td>\n",
              "      <td>Al Gore: Averting the climate crisis</td>\n",
              "      <td>1</td>\n",
              "      <td>1151367060</td>\n",
              "      <td>[{'id': 7, 'name': 'Funny', 'count': 544}, {'i...</td>\n",
              "      <td>[{'id': 243, 'hero': 'https://pe.tedcdn.com/im...</td>\n",
              "      <td>Climate advocate</td>\n",
              "      <td>['alternative energy', 'cars', 'climate change...</td>\n",
              "      <td>Averting the climate crisis</td>\n",
              "      <td>https://www.ted.com/talks/al_gore_on_averting_...</td>\n",
              "      <td>3200520</td>\n",
              "      <td>Thank you so much, Chris. And it's truly a gre...</td>\n",
              "      <td>https://www.ted.com/talks/al_gore_on_averting_...</td>\n",
              "    </tr>\n",
              "    <tr>\n",
              "      <th>2</th>\n",
              "      <td>124</td>\n",
              "      <td>New York Times columnist David Pogue takes aim...</td>\n",
              "      <td>1286</td>\n",
              "      <td>TED2006</td>\n",
              "      <td>1140739200</td>\n",
              "      <td>26</td>\n",
              "      <td>David Pogue</td>\n",
              "      <td>David Pogue: Simplicity sells</td>\n",
              "      <td>1</td>\n",
              "      <td>1151367060</td>\n",
              "      <td>[{'id': 7, 'name': 'Funny', 'count': 964}, {'i...</td>\n",
              "      <td>[{'id': 1725, 'hero': 'https://pe.tedcdn.com/i...</td>\n",
              "      <td>Technology columnist</td>\n",
              "      <td>['computers', 'entertainment', 'interface desi...</td>\n",
              "      <td>Simplicity sells</td>\n",
              "      <td>https://www.ted.com/talks/david_pogue_says_sim...</td>\n",
              "      <td>1636292</td>\n",
              "      <td>(Music: \"The Sound of Silence,\" Simon &amp; Garfun...</td>\n",
              "      <td>https://www.ted.com/talks/david_pogue_says_sim...</td>\n",
              "    </tr>\n",
              "  </tbody>\n",
              "</table>\n",
              "</div>"
            ],
            "text/plain": [
              "   comments                                        description  duration  \\\n",
              "0      4553  Sir Ken Robinson makes an entertaining and pro...      1164   \n",
              "1       265  With the same humor and humanity he exuded in ...       977   \n",
              "2       124  New York Times columnist David Pogue takes aim...      1286   \n",
              "\n",
              "     event   film_date  languages  main_speaker  \\\n",
              "0  TED2006  1140825600         60  Ken Robinson   \n",
              "1  TED2006  1140825600         43       Al Gore   \n",
              "2  TED2006  1140739200         26   David Pogue   \n",
              "\n",
              "                                        name  num_speaker  published_date  \\\n",
              "0  Ken Robinson: Do schools kill creativity?            1      1151367060   \n",
              "1       Al Gore: Averting the climate crisis            1      1151367060   \n",
              "2              David Pogue: Simplicity sells            1      1151367060   \n",
              "\n",
              "                                             ratings  \\\n",
              "0  [{'id': 7, 'name': 'Funny', 'count': 19645}, {...   \n",
              "1  [{'id': 7, 'name': 'Funny', 'count': 544}, {'i...   \n",
              "2  [{'id': 7, 'name': 'Funny', 'count': 964}, {'i...   \n",
              "\n",
              "                                       related_talks    speaker_occupation  \\\n",
              "0  [{'id': 865, 'hero': 'https://pe.tedcdn.com/im...       Author/educator   \n",
              "1  [{'id': 243, 'hero': 'https://pe.tedcdn.com/im...      Climate advocate   \n",
              "2  [{'id': 1725, 'hero': 'https://pe.tedcdn.com/i...  Technology columnist   \n",
              "\n",
              "                                                tags  \\\n",
              "0  ['children', 'creativity', 'culture', 'dance',...   \n",
              "1  ['alternative energy', 'cars', 'climate change...   \n",
              "2  ['computers', 'entertainment', 'interface desi...   \n",
              "\n",
              "                         title  \\\n",
              "0  Do schools kill creativity?   \n",
              "1  Averting the climate crisis   \n",
              "2             Simplicity sells   \n",
              "\n",
              "                                                 url     views  \\\n",
              "0  https://www.ted.com/talks/ken_robinson_says_sc...  47227110   \n",
              "1  https://www.ted.com/talks/al_gore_on_averting_...   3200520   \n",
              "2  https://www.ted.com/talks/david_pogue_says_sim...   1636292   \n",
              "\n",
              "                                          transcript  \\\n",
              "0  Good morning. How are you?(Laughter)It's been ...   \n",
              "1  Thank you so much, Chris. And it's truly a gre...   \n",
              "2  (Music: \"The Sound of Silence,\" Simon & Garfun...   \n",
              "\n",
              "                                                 url  \n",
              "0  https://www.ted.com/talks/ken_robinson_says_sc...  \n",
              "1  https://www.ted.com/talks/al_gore_on_averting_...  \n",
              "2  https://www.ted.com/talks/david_pogue_says_sim...  "
            ]
          },
          "metadata": {
            "tags": []
          },
          "execution_count": 232
        }
      ]
    },
    {
      "metadata": {
        "id": "MnQmRvH0nQdp",
        "colab_type": "text"
      },
      "cell_type": "markdown",
      "source": [
        "## Data Cleaning"
      ]
    },
    {
      "metadata": {
        "id": "srKgp8-TnaEr",
        "colab_type": "code",
        "outputId": "0db5f6ba-e568-4b1d-bdaa-5bb0332cd306",
        "colab": {
          "base_uri": "https://localhost:8080/",
          "height": 391
        }
      },
      "cell_type": "code",
      "source": [
        "df_ted.isna().sum()"
      ],
      "execution_count": 0,
      "outputs": [
        {
          "output_type": "execute_result",
          "data": {
            "text/plain": [
              "comments               0\n",
              "description            0\n",
              "duration               0\n",
              "event                  0\n",
              "film_date              0\n",
              "languages              0\n",
              "main_speaker           0\n",
              "name                   0\n",
              "num_speaker            0\n",
              "published_date         0\n",
              "ratings                0\n",
              "related_talks          0\n",
              "speaker_occupation     6\n",
              "tags                   0\n",
              "title                  0\n",
              "url                    0\n",
              "views                  0\n",
              "transcript            83\n",
              "url                   83\n",
              "dtype: int64"
            ]
          },
          "metadata": {
            "tags": []
          },
          "execution_count": 233
        }
      ]
    },
    {
      "metadata": {
        "id": "DSmVp1hVnWz3",
        "colab_type": "code",
        "colab": {}
      },
      "cell_type": "code",
      "source": [
        "df_ted.loc[df_ted['languages'] == 0, 'languages'] = 1"
      ],
      "execution_count": 0,
      "outputs": []
    },
    {
      "metadata": {
        "id": "46wOXi8ynb2P",
        "colab_type": "code",
        "colab": {}
      },
      "cell_type": "code",
      "source": [
        "df_ted.dropna(inplace = True)"
      ],
      "execution_count": 0,
      "outputs": []
    },
    {
      "metadata": {
        "id": "dYCjLJpUnfeH",
        "colab_type": "text"
      },
      "cell_type": "markdown",
      "source": [
        "## EDA and  Data manipulation"
      ]
    },
    {
      "metadata": {
        "id": "NUW19FcunJ5c",
        "colab_type": "code",
        "outputId": "e8cc785e-3d74-47c6-e0c7-bd21b9bf3002",
        "colab": {
          "base_uri": "https://localhost:8080/",
          "height": 300
        }
      },
      "cell_type": "code",
      "source": [
        "df_ted.describe()"
      ],
      "execution_count": 0,
      "outputs": [
        {
          "output_type": "execute_result",
          "data": {
            "text/html": [
              "<div>\n",
              "<style scoped>\n",
              "    .dataframe tbody tr th:only-of-type {\n",
              "        vertical-align: middle;\n",
              "    }\n",
              "\n",
              "    .dataframe tbody tr th {\n",
              "        vertical-align: top;\n",
              "    }\n",
              "\n",
              "    .dataframe thead th {\n",
              "        text-align: right;\n",
              "    }\n",
              "</style>\n",
              "<table border=\"1\" class=\"dataframe\">\n",
              "  <thead>\n",
              "    <tr style=\"text-align: right;\">\n",
              "      <th></th>\n",
              "      <th>comments</th>\n",
              "      <th>duration</th>\n",
              "      <th>film_date</th>\n",
              "      <th>languages</th>\n",
              "      <th>num_speaker</th>\n",
              "      <th>published_date</th>\n",
              "      <th>views</th>\n",
              "    </tr>\n",
              "  </thead>\n",
              "  <tbody>\n",
              "    <tr>\n",
              "      <th>count</th>\n",
              "      <td>2461.000000</td>\n",
              "      <td>2461.000000</td>\n",
              "      <td>2.461000e+03</td>\n",
              "      <td>2461.000000</td>\n",
              "      <td>2461.000000</td>\n",
              "      <td>2.461000e+03</td>\n",
              "      <td>2.461000e+03</td>\n",
              "    </tr>\n",
              "    <tr>\n",
              "      <th>mean</th>\n",
              "      <td>197.297440</td>\n",
              "      <td>829.987403</td>\n",
              "      <td>1.316230e+09</td>\n",
              "      <td>27.987810</td>\n",
              "      <td>1.026818</td>\n",
              "      <td>1.338108e+09</td>\n",
              "      <td>1.725872e+06</td>\n",
              "    </tr>\n",
              "    <tr>\n",
              "      <th>std</th>\n",
              "      <td>285.643456</td>\n",
              "      <td>377.693365</td>\n",
              "      <td>1.178084e+08</td>\n",
              "      <td>8.891478</td>\n",
              "      <td>0.193628</td>\n",
              "      <td>9.163422e+07</td>\n",
              "      <td>2.537288e+06</td>\n",
              "    </tr>\n",
              "    <tr>\n",
              "      <th>min</th>\n",
              "      <td>5.000000</td>\n",
              "      <td>135.000000</td>\n",
              "      <td>7.464960e+07</td>\n",
              "      <td>1.000000</td>\n",
              "      <td>1.000000</td>\n",
              "      <td>1.151367e+09</td>\n",
              "      <td>5.044300e+04</td>\n",
              "    </tr>\n",
              "    <tr>\n",
              "      <th>25%</th>\n",
              "      <td>68.000000</td>\n",
              "      <td>577.000000</td>\n",
              "      <td>1.257120e+09</td>\n",
              "      <td>23.000000</td>\n",
              "      <td>1.000000</td>\n",
              "      <td>1.266055e+09</td>\n",
              "      <td>7.645000e+05</td>\n",
              "    </tr>\n",
              "    <tr>\n",
              "      <th>50%</th>\n",
              "      <td>123.000000</td>\n",
              "      <td>855.000000</td>\n",
              "      <td>1.330474e+09</td>\n",
              "      <td>28.000000</td>\n",
              "      <td>1.000000</td>\n",
              "      <td>1.337182e+09</td>\n",
              "      <td>1.135382e+06</td>\n",
              "    </tr>\n",
              "    <tr>\n",
              "      <th>75%</th>\n",
              "      <td>226.000000</td>\n",
              "      <td>1054.000000</td>\n",
              "      <td>1.404778e+09</td>\n",
              "      <td>33.000000</td>\n",
              "      <td>1.000000</td>\n",
              "      <td>1.414163e+09</td>\n",
              "      <td>1.730653e+06</td>\n",
              "    </tr>\n",
              "    <tr>\n",
              "      <th>max</th>\n",
              "      <td>6404.000000</td>\n",
              "      <td>5256.000000</td>\n",
              "      <td>1.493078e+09</td>\n",
              "      <td>72.000000</td>\n",
              "      <td>4.000000</td>\n",
              "      <td>1.496418e+09</td>\n",
              "      <td>4.722711e+07</td>\n",
              "    </tr>\n",
              "  </tbody>\n",
              "</table>\n",
              "</div>"
            ],
            "text/plain": [
              "          comments     duration     film_date    languages  num_speaker  \\\n",
              "count  2461.000000  2461.000000  2.461000e+03  2461.000000  2461.000000   \n",
              "mean    197.297440   829.987403  1.316230e+09    27.987810     1.026818   \n",
              "std     285.643456   377.693365  1.178084e+08     8.891478     0.193628   \n",
              "min       5.000000   135.000000  7.464960e+07     1.000000     1.000000   \n",
              "25%      68.000000   577.000000  1.257120e+09    23.000000     1.000000   \n",
              "50%     123.000000   855.000000  1.330474e+09    28.000000     1.000000   \n",
              "75%     226.000000  1054.000000  1.404778e+09    33.000000     1.000000   \n",
              "max    6404.000000  5256.000000  1.493078e+09    72.000000     4.000000   \n",
              "\n",
              "       published_date         views  \n",
              "count    2.461000e+03  2.461000e+03  \n",
              "mean     1.338108e+09  1.725872e+06  \n",
              "std      9.163422e+07  2.537288e+06  \n",
              "min      1.151367e+09  5.044300e+04  \n",
              "25%      1.266055e+09  7.645000e+05  \n",
              "50%      1.337182e+09  1.135382e+06  \n",
              "75%      1.414163e+09  1.730653e+06  \n",
              "max      1.496418e+09  4.722711e+07  "
            ]
          },
          "metadata": {
            "tags": []
          },
          "execution_count": 236
        }
      ]
    },
    {
      "metadata": {
        "id": "HIe8ob3Vnd1i",
        "colab_type": "code",
        "colab": {}
      },
      "cell_type": "code",
      "source": [
        "df_ted.drop(['main_speaker', 'related_talks', 'url', 'event'], axis = 1, inplace = True)"
      ],
      "execution_count": 0,
      "outputs": []
    },
    {
      "metadata": {
        "id": "GeVNzpgrnjcQ",
        "colab_type": "code",
        "outputId": "65b88992-30df-4374-87fa-085b9dae226e",
        "colab": {
          "base_uri": "https://localhost:8080/",
          "height": 389
        }
      },
      "cell_type": "code",
      "source": [
        "df_ted.head(3)"
      ],
      "execution_count": 0,
      "outputs": [
        {
          "output_type": "execute_result",
          "data": {
            "text/html": [
              "<div>\n",
              "<style scoped>\n",
              "    .dataframe tbody tr th:only-of-type {\n",
              "        vertical-align: middle;\n",
              "    }\n",
              "\n",
              "    .dataframe tbody tr th {\n",
              "        vertical-align: top;\n",
              "    }\n",
              "\n",
              "    .dataframe thead th {\n",
              "        text-align: right;\n",
              "    }\n",
              "</style>\n",
              "<table border=\"1\" class=\"dataframe\">\n",
              "  <thead>\n",
              "    <tr style=\"text-align: right;\">\n",
              "      <th></th>\n",
              "      <th>comments</th>\n",
              "      <th>description</th>\n",
              "      <th>duration</th>\n",
              "      <th>film_date</th>\n",
              "      <th>languages</th>\n",
              "      <th>name</th>\n",
              "      <th>num_speaker</th>\n",
              "      <th>published_date</th>\n",
              "      <th>ratings</th>\n",
              "      <th>speaker_occupation</th>\n",
              "      <th>tags</th>\n",
              "      <th>title</th>\n",
              "      <th>views</th>\n",
              "      <th>transcript</th>\n",
              "    </tr>\n",
              "  </thead>\n",
              "  <tbody>\n",
              "    <tr>\n",
              "      <th>0</th>\n",
              "      <td>4553</td>\n",
              "      <td>Sir Ken Robinson makes an entertaining and pro...</td>\n",
              "      <td>1164</td>\n",
              "      <td>1140825600</td>\n",
              "      <td>60</td>\n",
              "      <td>Ken Robinson: Do schools kill creativity?</td>\n",
              "      <td>1</td>\n",
              "      <td>1151367060</td>\n",
              "      <td>[{'id': 7, 'name': 'Funny', 'count': 19645}, {...</td>\n",
              "      <td>Author/educator</td>\n",
              "      <td>['children', 'creativity', 'culture', 'dance',...</td>\n",
              "      <td>Do schools kill creativity?</td>\n",
              "      <td>47227110</td>\n",
              "      <td>Good morning. How are you?(Laughter)It's been ...</td>\n",
              "    </tr>\n",
              "    <tr>\n",
              "      <th>1</th>\n",
              "      <td>265</td>\n",
              "      <td>With the same humor and humanity he exuded in ...</td>\n",
              "      <td>977</td>\n",
              "      <td>1140825600</td>\n",
              "      <td>43</td>\n",
              "      <td>Al Gore: Averting the climate crisis</td>\n",
              "      <td>1</td>\n",
              "      <td>1151367060</td>\n",
              "      <td>[{'id': 7, 'name': 'Funny', 'count': 544}, {'i...</td>\n",
              "      <td>Climate advocate</td>\n",
              "      <td>['alternative energy', 'cars', 'climate change...</td>\n",
              "      <td>Averting the climate crisis</td>\n",
              "      <td>3200520</td>\n",
              "      <td>Thank you so much, Chris. And it's truly a gre...</td>\n",
              "    </tr>\n",
              "    <tr>\n",
              "      <th>2</th>\n",
              "      <td>124</td>\n",
              "      <td>New York Times columnist David Pogue takes aim...</td>\n",
              "      <td>1286</td>\n",
              "      <td>1140739200</td>\n",
              "      <td>26</td>\n",
              "      <td>David Pogue: Simplicity sells</td>\n",
              "      <td>1</td>\n",
              "      <td>1151367060</td>\n",
              "      <td>[{'id': 7, 'name': 'Funny', 'count': 964}, {'i...</td>\n",
              "      <td>Technology columnist</td>\n",
              "      <td>['computers', 'entertainment', 'interface desi...</td>\n",
              "      <td>Simplicity sells</td>\n",
              "      <td>1636292</td>\n",
              "      <td>(Music: \"The Sound of Silence,\" Simon &amp; Garfun...</td>\n",
              "    </tr>\n",
              "  </tbody>\n",
              "</table>\n",
              "</div>"
            ],
            "text/plain": [
              "   comments                                        description  duration  \\\n",
              "0      4553  Sir Ken Robinson makes an entertaining and pro...      1164   \n",
              "1       265  With the same humor and humanity he exuded in ...       977   \n",
              "2       124  New York Times columnist David Pogue takes aim...      1286   \n",
              "\n",
              "    film_date  languages                                       name  \\\n",
              "0  1140825600         60  Ken Robinson: Do schools kill creativity?   \n",
              "1  1140825600         43       Al Gore: Averting the climate crisis   \n",
              "2  1140739200         26              David Pogue: Simplicity sells   \n",
              "\n",
              "   num_speaker  published_date  \\\n",
              "0            1      1151367060   \n",
              "1            1      1151367060   \n",
              "2            1      1151367060   \n",
              "\n",
              "                                             ratings    speaker_occupation  \\\n",
              "0  [{'id': 7, 'name': 'Funny', 'count': 19645}, {...       Author/educator   \n",
              "1  [{'id': 7, 'name': 'Funny', 'count': 544}, {'i...      Climate advocate   \n",
              "2  [{'id': 7, 'name': 'Funny', 'count': 964}, {'i...  Technology columnist   \n",
              "\n",
              "                                                tags  \\\n",
              "0  ['children', 'creativity', 'culture', 'dance',...   \n",
              "1  ['alternative energy', 'cars', 'climate change...   \n",
              "2  ['computers', 'entertainment', 'interface desi...   \n",
              "\n",
              "                         title     views  \\\n",
              "0  Do schools kill creativity?  47227110   \n",
              "1  Averting the climate crisis   3200520   \n",
              "2             Simplicity sells   1636292   \n",
              "\n",
              "                                          transcript  \n",
              "0  Good morning. How are you?(Laughter)It's been ...  \n",
              "1  Thank you so much, Chris. And it's truly a gre...  \n",
              "2  (Music: \"The Sound of Silence,\" Simon & Garfun...  "
            ]
          },
          "metadata": {
            "tags": []
          },
          "execution_count": 238
        }
      ]
    },
    {
      "metadata": {
        "id": "qyT6H8n1nm5h",
        "colab_type": "text"
      },
      "cell_type": "markdown",
      "source": [
        "### Creting  performance attributes"
      ]
    },
    {
      "metadata": {
        "id": "NdVvo7_Jxsr-",
        "colab_type": "code",
        "outputId": "61d640b5-677e-4214-e832-0fcd5309e24d",
        "colab": {
          "base_uri": "https://localhost:8080/",
          "height": 846
        }
      },
      "cell_type": "code",
      "source": [
        "#fig, axs = plt.subplots(1,2)\n",
        "df_ted.plot.scatter(x = \"languages\", y = \"comments\")\n",
        "plt.rcParams[\"figure.figsize\"] = (10, 8)\n",
        "plt.show()\n",
        "plt.rcParams[\"figure.figsize\"] = (10, 8)\n",
        "df_ted.plot.scatter(x = \"languages\", y = \"views\")\n",
        "plt.show()\n",
        "plt.tight_layout()\n"
      ],
      "execution_count": 0,
      "outputs": [
        {
          "output_type": "stream",
          "text": [
            "'c' argument looks like a single numeric RGB or RGBA sequence, which should be avoided as value-mapping will have precedence in case its length matches with 'x' & 'y'.  Please use a 2-D array with a single row if you really want to specify the same RGB or RGBA value for all points.\n"
          ],
          "name": "stderr"
        },
        {
          "output_type": "display_data",
          "data": {
            "image/png": "[encoded data removed]",
            "text/plain": [
              "<Figure size 432x288 with 1 Axes>"
            ]
          },
          "metadata": {
            "tags": []
          }
        },
        {
          "output_type": "stream",
          "text": [
            "'c' argument looks like a single numeric RGB or RGBA sequence, which should be avoided as value-mapping will have precedence in case its length matches with 'x' & 'y'.  Please use a 2-D array with a single row if you really want to specify the same RGB or RGBA value for all points.\n"
          ],
          "name": "stderr"
        },
        {
          "output_type": "display_data",
          "data": {
            "image/png": "[encoded data removed]",
            "text/plain": [
              "<Figure size 720x576 with 1 Axes>"
            ]
          },
          "metadata": {
            "tags": []
          }
        },
        {
          "output_type": "display_data",
          "data": {
            "text/plain": [
              "<Figure size 720x576 with 0 Axes>"
            ]
          },
          "metadata": {
            "tags": []
          }
        }
      ]
    },
    {
      "metadata": {
        "id": "r8V8TCmenlAa",
        "colab_type": "code",
        "colab": {}
      },
      "cell_type": "code",
      "source": [
        "df_ted['comments_per_language'] = df_ted.comments/ df_ted.languages\n",
        "df_ted['views_per_language'] = df_ted.views/ df_ted.languages"
      ],
      "execution_count": 0,
      "outputs": []
    },
    {
      "metadata": {
        "id": "VDDcWUtFnqsc",
        "colab_type": "code",
        "outputId": "0a2f64f3-3aa9-403d-e2c5-ab89032b7789",
        "colab": {
          "base_uri": "https://localhost:8080/",
          "height": 389
        }
      },
      "cell_type": "code",
      "source": [
        "df_ted.head(3)"
      ],
      "execution_count": 0,
      "outputs": [
        {
          "output_type": "execute_result",
          "data": {
            "text/html": [
              "<div>\n",
              "<style scoped>\n",
              "    .dataframe tbody tr th:only-of-type {\n",
              "        vertical-align: middle;\n",
              "    }\n",
              "\n",
              "    .dataframe tbody tr th {\n",
              "        vertical-align: top;\n",
              "    }\n",
              "\n",
              "    .dataframe thead th {\n",
              "        text-align: right;\n",
              "    }\n",
              "</style>\n",
              "<table border=\"1\" class=\"dataframe\">\n",
              "  <thead>\n",
              "    <tr style=\"text-align: right;\">\n",
              "      <th></th>\n",
              "      <th>comments</th>\n",
              "      <th>description</th>\n",
              "      <th>duration</th>\n",
              "      <th>film_date</th>\n",
              "      <th>languages</th>\n",
              "      <th>name</th>\n",
              "      <th>num_speaker</th>\n",
              "      <th>published_date</th>\n",
              "      <th>ratings</th>\n",
              "      <th>speaker_occupation</th>\n",
              "      <th>tags</th>\n",
              "      <th>title</th>\n",
              "      <th>views</th>\n",
              "      <th>transcript</th>\n",
              "      <th>comments_per_language</th>\n",
              "      <th>views_per_language</th>\n",
              "    </tr>\n",
              "  </thead>\n",
              "  <tbody>\n",
              "    <tr>\n",
              "      <th>0</th>\n",
              "      <td>4553</td>\n",
              "      <td>Sir Ken Robinson makes an entertaining and pro...</td>\n",
              "      <td>1164</td>\n",
              "      <td>1140825600</td>\n",
              "      <td>60</td>\n",
              "      <td>Ken Robinson: Do schools kill creativity?</td>\n",
              "      <td>1</td>\n",
              "      <td>1151367060</td>\n",
              "      <td>[{'id': 7, 'name': 'Funny', 'count': 19645}, {...</td>\n",
              "      <td>Author/educator</td>\n",
              "      <td>['children', 'creativity', 'culture', 'dance',...</td>\n",
              "      <td>Do schools kill creativity?</td>\n",
              "      <td>47227110</td>\n",
              "      <td>Good morning. How are you?(Laughter)It's been ...</td>\n",
              "      <td>75.883333</td>\n",
              "      <td>787118.500000</td>\n",
              "    </tr>\n",
              "    <tr>\n",
              "      <th>1</th>\n",
              "      <td>265</td>\n",
              "      <td>With the same humor and humanity he exuded in ...</td>\n",
              "      <td>977</td>\n",
              "      <td>1140825600</td>\n",
              "      <td>43</td>\n",
              "      <td>Al Gore: Averting the climate crisis</td>\n",
              "      <td>1</td>\n",
              "      <td>1151367060</td>\n",
              "      <td>[{'id': 7, 'name': 'Funny', 'count': 544}, {'i...</td>\n",
              "      <td>Climate advocate</td>\n",
              "      <td>['alternative energy', 'cars', 'climate change...</td>\n",
              "      <td>Averting the climate crisis</td>\n",
              "      <td>3200520</td>\n",
              "      <td>Thank you so much, Chris. And it's truly a gre...</td>\n",
              "      <td>6.162791</td>\n",
              "      <td>74430.697674</td>\n",
              "    </tr>\n",
              "    <tr>\n",
              "      <th>2</th>\n",
              "      <td>124</td>\n",
              "      <td>New York Times columnist David Pogue takes aim...</td>\n",
              "      <td>1286</td>\n",
              "      <td>1140739200</td>\n",
              "      <td>26</td>\n",
              "      <td>David Pogue: Simplicity sells</td>\n",
              "      <td>1</td>\n",
              "      <td>1151367060</td>\n",
              "      <td>[{'id': 7, 'name': 'Funny', 'count': 964}, {'i...</td>\n",
              "      <td>Technology columnist</td>\n",
              "      <td>['computers', 'entertainment', 'interface desi...</td>\n",
              "      <td>Simplicity sells</td>\n",
              "      <td>1636292</td>\n",
              "      <td>(Music: \"The Sound of Silence,\" Simon &amp; Garfun...</td>\n",
              "      <td>4.769231</td>\n",
              "      <td>62934.307692</td>\n",
              "    </tr>\n",
              "  </tbody>\n",
              "</table>\n",
              "</div>"
            ],
            "text/plain": [
              "   comments                                        description  duration  \\\n",
              "0      4553  Sir Ken Robinson makes an entertaining and pro...      1164   \n",
              "1       265  With the same humor and humanity he exuded in ...       977   \n",
              "2       124  New York Times columnist David Pogue takes aim...      1286   \n",
              "\n",
              "    film_date  languages                                       name  \\\n",
              "0  1140825600         60  Ken Robinson: Do schools kill creativity?   \n",
              "1  1140825600         43       Al Gore: Averting the climate crisis   \n",
              "2  1140739200         26              David Pogue: Simplicity sells   \n",
              "\n",
              "   num_speaker  published_date  \\\n",
              "0            1      1151367060   \n",
              "1            1      1151367060   \n",
              "2            1      1151367060   \n",
              "\n",
              "                                             ratings    speaker_occupation  \\\n",
              "0  [{'id': 7, 'name': 'Funny', 'count': 19645}, {...       Author/educator   \n",
              "1  [{'id': 7, 'name': 'Funny', 'count': 544}, {'i...      Climate advocate   \n",
              "2  [{'id': 7, 'name': 'Funny', 'count': 964}, {'i...  Technology columnist   \n",
              "\n",
              "                                                tags  \\\n",
              "0  ['children', 'creativity', 'culture', 'dance',...   \n",
              "1  ['alternative energy', 'cars', 'climate change...   \n",
              "2  ['computers', 'entertainment', 'interface desi...   \n",
              "\n",
              "                         title     views  \\\n",
              "0  Do schools kill creativity?  47227110   \n",
              "1  Averting the climate crisis   3200520   \n",
              "2             Simplicity sells   1636292   \n",
              "\n",
              "                                          transcript  comments_per_language  \\\n",
              "0  Good morning. How are you?(Laughter)It's been ...              75.883333   \n",
              "1  Thank you so much, Chris. And it's truly a gre...               6.162791   \n",
              "2  (Music: \"The Sound of Silence,\" Simon & Garfun...               4.769231   \n",
              "\n",
              "   views_per_language  \n",
              "0       787118.500000  \n",
              "1        74430.697674  \n",
              "2        62934.307692  "
            ]
          },
          "metadata": {
            "tags": []
          },
          "execution_count": 241
        }
      ]
    },
    {
      "metadata": {
        "id": "VZo8eg7Snslk",
        "colab_type": "code",
        "colab": {}
      },
      "cell_type": "code",
      "source": [
        "df_ted = df_ted.astype({'views_per_language': int}, copy = False)\n",
        "df_ted = df_ted.astype({'comments_per_language': int}, copy = False)"
      ],
      "execution_count": 0,
      "outputs": []
    },
    {
      "metadata": {
        "id": "ZNSyhOp7nu4R",
        "colab_type": "code",
        "outputId": "bcaeb08b-637f-4377-89e7-1ea26c35a91a",
        "colab": {
          "base_uri": "https://localhost:8080/",
          "height": 389
        }
      },
      "cell_type": "code",
      "source": [
        "df_ted.head(3)"
      ],
      "execution_count": 0,
      "outputs": [
        {
          "output_type": "execute_result",
          "data": {
            "text/html": [
              "<div>\n",
              "<style scoped>\n",
              "    .dataframe tbody tr th:only-of-type {\n",
              "        vertical-align: middle;\n",
              "    }\n",
              "\n",
              "    .dataframe tbody tr th {\n",
              "        vertical-align: top;\n",
              "    }\n",
              "\n",
              "    .dataframe thead th {\n",
              "        text-align: right;\n",
              "    }\n",
              "</style>\n",
              "<table border=\"1\" class=\"dataframe\">\n",
              "  <thead>\n",
              "    <tr style=\"text-align: right;\">\n",
              "      <th></th>\n",
              "      <th>comments</th>\n",
              "      <th>description</th>\n",
              "      <th>duration</th>\n",
              "      <th>film_date</th>\n",
              "      <th>languages</th>\n",
              "      <th>name</th>\n",
              "      <th>num_speaker</th>\n",
              "      <th>published_date</th>\n",
              "      <th>ratings</th>\n",
              "      <th>speaker_occupation</th>\n",
              "      <th>tags</th>\n",
              "      <th>title</th>\n",
              "      <th>views</th>\n",
              "      <th>transcript</th>\n",
              "      <th>comments_per_language</th>\n",
              "      <th>views_per_language</th>\n",
              "    </tr>\n",
              "  </thead>\n",
              "  <tbody>\n",
              "    <tr>\n",
              "      <th>0</th>\n",
              "      <td>4553</td>\n",
              "      <td>Sir Ken Robinson makes an entertaining and pro...</td>\n",
              "      <td>1164</td>\n",
              "      <td>1140825600</td>\n",
              "      <td>60</td>\n",
              "      <td>Ken Robinson: Do schools kill creativity?</td>\n",
              "      <td>1</td>\n",
              "      <td>1151367060</td>\n",
              "      <td>[{'id': 7, 'name': 'Funny', 'count': 19645}, {...</td>\n",
              "      <td>Author/educator</td>\n",
              "      <td>['children', 'creativity', 'culture', 'dance',...</td>\n",
              "      <td>Do schools kill creativity?</td>\n",
              "      <td>47227110</td>\n",
              "      <td>Good morning. How are you?(Laughter)It's been ...</td>\n",
              "      <td>75</td>\n",
              "      <td>787118</td>\n",
              "    </tr>\n",
              "    <tr>\n",
              "      <th>1</th>\n",
              "      <td>265</td>\n",
              "      <td>With the same humor and humanity he exuded in ...</td>\n",
              "      <td>977</td>\n",
              "      <td>1140825600</td>\n",
              "      <td>43</td>\n",
              "      <td>Al Gore: Averting the climate crisis</td>\n",
              "      <td>1</td>\n",
              "      <td>1151367060</td>\n",
              "      <td>[{'id': 7, 'name': 'Funny', 'count': 544}, {'i...</td>\n",
              "      <td>Climate advocate</td>\n",
              "      <td>['alternative energy', 'cars', 'climate change...</td>\n",
              "      <td>Averting the climate crisis</td>\n",
              "      <td>3200520</td>\n",
              "      <td>Thank you so much, Chris. And it's truly a gre...</td>\n",
              "      <td>6</td>\n",
              "      <td>74430</td>\n",
              "    </tr>\n",
              "    <tr>\n",
              "      <th>2</th>\n",
              "      <td>124</td>\n",
              "      <td>New York Times columnist David Pogue takes aim...</td>\n",
              "      <td>1286</td>\n",
              "      <td>1140739200</td>\n",
              "      <td>26</td>\n",
              "      <td>David Pogue: Simplicity sells</td>\n",
              "      <td>1</td>\n",
              "      <td>1151367060</td>\n",
              "      <td>[{'id': 7, 'name': 'Funny', 'count': 964}, {'i...</td>\n",
              "      <td>Technology columnist</td>\n",
              "      <td>['computers', 'entertainment', 'interface desi...</td>\n",
              "      <td>Simplicity sells</td>\n",
              "      <td>1636292</td>\n",
              "      <td>(Music: \"The Sound of Silence,\" Simon &amp; Garfun...</td>\n",
              "      <td>4</td>\n",
              "      <td>62934</td>\n",
              "    </tr>\n",
              "  </tbody>\n",
              "</table>\n",
              "</div>"
            ],
            "text/plain": [
              "   comments                                        description  duration  \\\n",
              "0      4553  Sir Ken Robinson makes an entertaining and pro...      1164   \n",
              "1       265  With the same humor and humanity he exuded in ...       977   \n",
              "2       124  New York Times columnist David Pogue takes aim...      1286   \n",
              "\n",
              "    film_date  languages                                       name  \\\n",
              "0  1140825600         60  Ken Robinson: Do schools kill creativity?   \n",
              "1  1140825600         43       Al Gore: Averting the climate crisis   \n",
              "2  1140739200         26              David Pogue: Simplicity sells   \n",
              "\n",
              "   num_speaker  published_date  \\\n",
              "0            1      1151367060   \n",
              "1            1      1151367060   \n",
              "2            1      1151367060   \n",
              "\n",
              "                                             ratings    speaker_occupation  \\\n",
              "0  [{'id': 7, 'name': 'Funny', 'count': 19645}, {...       Author/educator   \n",
              "1  [{'id': 7, 'name': 'Funny', 'count': 544}, {'i...      Climate advocate   \n",
              "2  [{'id': 7, 'name': 'Funny', 'count': 964}, {'i...  Technology columnist   \n",
              "\n",
              "                                                tags  \\\n",
              "0  ['children', 'creativity', 'culture', 'dance',...   \n",
              "1  ['alternative energy', 'cars', 'climate change...   \n",
              "2  ['computers', 'entertainment', 'interface desi...   \n",
              "\n",
              "                         title     views  \\\n",
              "0  Do schools kill creativity?  47227110   \n",
              "1  Averting the climate crisis   3200520   \n",
              "2             Simplicity sells   1636292   \n",
              "\n",
              "                                          transcript  comments_per_language  \\\n",
              "0  Good morning. How are you?(Laughter)It's been ...                     75   \n",
              "1  Thank you so much, Chris. And it's truly a gre...                      6   \n",
              "2  (Music: \"The Sound of Silence,\" Simon & Garfun...                      4   \n",
              "\n",
              "   views_per_language  \n",
              "0              787118  \n",
              "1               74430  \n",
              "2               62934  "
            ]
          },
          "metadata": {
            "tags": []
          },
          "execution_count": 243
        }
      ]
    },
    {
      "metadata": {
        "id": "k-jDtxt3nwoy",
        "colab_type": "code",
        "colab": {}
      },
      "cell_type": "code",
      "source": [
        "df_ted.drop(['comments', 'views', 'languages'], axis = 1, inplace = True)"
      ],
      "execution_count": 0,
      "outputs": []
    },
    {
      "metadata": {
        "id": "mtlA2SkPny3I",
        "colab_type": "code",
        "outputId": "07e9233c-8095-4354-c140-22d84b074200",
        "colab": {
          "base_uri": "https://localhost:8080/",
          "height": 389
        }
      },
      "cell_type": "code",
      "source": [
        "df_ted.head(3)"
      ],
      "execution_count": 0,
      "outputs": [
        {
          "output_type": "execute_result",
          "data": {
            "text/html": [
              "<div>\n",
              "<style scoped>\n",
              "    .dataframe tbody tr th:only-of-type {\n",
              "        vertical-align: middle;\n",
              "    }\n",
              "\n",
              "    .dataframe tbody tr th {\n",
              "        vertical-align: top;\n",
              "    }\n",
              "\n",
              "    .dataframe thead th {\n",
              "        text-align: right;\n",
              "    }\n",
              "</style>\n",
              "<table border=\"1\" class=\"dataframe\">\n",
              "  <thead>\n",
              "    <tr style=\"text-align: right;\">\n",
              "      <th></th>\n",
              "      <th>description</th>\n",
              "      <th>duration</th>\n",
              "      <th>film_date</th>\n",
              "      <th>name</th>\n",
              "      <th>num_speaker</th>\n",
              "      <th>published_date</th>\n",
              "      <th>ratings</th>\n",
              "      <th>speaker_occupation</th>\n",
              "      <th>tags</th>\n",
              "      <th>title</th>\n",
              "      <th>transcript</th>\n",
              "      <th>comments_per_language</th>\n",
              "      <th>views_per_language</th>\n",
              "    </tr>\n",
              "  </thead>\n",
              "  <tbody>\n",
              "    <tr>\n",
              "      <th>0</th>\n",
              "      <td>Sir Ken Robinson makes an entertaining and pro...</td>\n",
              "      <td>1164</td>\n",
              "      <td>1140825600</td>\n",
              "      <td>Ken Robinson: Do schools kill creativity?</td>\n",
              "      <td>1</td>\n",
              "      <td>1151367060</td>\n",
              "      <td>[{'id': 7, 'name': 'Funny', 'count': 19645}, {...</td>\n",
              "      <td>Author/educator</td>\n",
              "      <td>['children', 'creativity', 'culture', 'dance',...</td>\n",
              "      <td>Do schools kill creativity?</td>\n",
              "      <td>Good morning. How are you?(Laughter)It's been ...</td>\n",
              "      <td>75</td>\n",
              "      <td>787118</td>\n",
              "    </tr>\n",
              "    <tr>\n",
              "      <th>1</th>\n",
              "      <td>With the same humor and humanity he exuded in ...</td>\n",
              "      <td>977</td>\n",
              "      <td>1140825600</td>\n",
              "      <td>Al Gore: Averting the climate crisis</td>\n",
              "      <td>1</td>\n",
              "      <td>1151367060</td>\n",
              "      <td>[{'id': 7, 'name': 'Funny', 'count': 544}, {'i...</td>\n",
              "      <td>Climate advocate</td>\n",
              "      <td>['alternative energy', 'cars', 'climate change...</td>\n",
              "      <td>Averting the climate crisis</td>\n",
              "      <td>Thank you so much, Chris. And it's truly a gre...</td>\n",
              "      <td>6</td>\n",
              "      <td>74430</td>\n",
              "    </tr>\n",
              "    <tr>\n",
              "      <th>2</th>\n",
              "      <td>New York Times columnist David Pogue takes aim...</td>\n",
              "      <td>1286</td>\n",
              "      <td>1140739200</td>\n",
              "      <td>David Pogue: Simplicity sells</td>\n",
              "      <td>1</td>\n",
              "      <td>1151367060</td>\n",
              "      <td>[{'id': 7, 'name': 'Funny', 'count': 964}, {'i...</td>\n",
              "      <td>Technology columnist</td>\n",
              "      <td>['computers', 'entertainment', 'interface desi...</td>\n",
              "      <td>Simplicity sells</td>\n",
              "      <td>(Music: \"The Sound of Silence,\" Simon &amp; Garfun...</td>\n",
              "      <td>4</td>\n",
              "      <td>62934</td>\n",
              "    </tr>\n",
              "  </tbody>\n",
              "</table>\n",
              "</div>"
            ],
            "text/plain": [
              "                                         description  duration   film_date  \\\n",
              "0  Sir Ken Robinson makes an entertaining and pro...      1164  1140825600   \n",
              "1  With the same humor and humanity he exuded in ...       977  1140825600   \n",
              "2  New York Times columnist David Pogue takes aim...      1286  1140739200   \n",
              "\n",
              "                                        name  num_speaker  published_date  \\\n",
              "0  Ken Robinson: Do schools kill creativity?            1      1151367060   \n",
              "1       Al Gore: Averting the climate crisis            1      1151367060   \n",
              "2              David Pogue: Simplicity sells            1      1151367060   \n",
              "\n",
              "                                             ratings    speaker_occupation  \\\n",
              "0  [{'id': 7, 'name': 'Funny', 'count': 19645}, {...       Author/educator   \n",
              "1  [{'id': 7, 'name': 'Funny', 'count': 544}, {'i...      Climate advocate   \n",
              "2  [{'id': 7, 'name': 'Funny', 'count': 964}, {'i...  Technology columnist   \n",
              "\n",
              "                                                tags  \\\n",
              "0  ['children', 'creativity', 'culture', 'dance',...   \n",
              "1  ['alternative energy', 'cars', 'climate change...   \n",
              "2  ['computers', 'entertainment', 'interface desi...   \n",
              "\n",
              "                         title  \\\n",
              "0  Do schools kill creativity?   \n",
              "1  Averting the climate crisis   \n",
              "2             Simplicity sells   \n",
              "\n",
              "                                          transcript  comments_per_language  \\\n",
              "0  Good morning. How are you?(Laughter)It's been ...                     75   \n",
              "1  Thank you so much, Chris. And it's truly a gre...                      6   \n",
              "2  (Music: \"The Sound of Silence,\" Simon & Garfun...                      4   \n",
              "\n",
              "   views_per_language  \n",
              "0              787118  \n",
              "1               74430  \n",
              "2               62934  "
            ]
          },
          "metadata": {
            "tags": []
          },
          "execution_count": 245
        }
      ]
    },
    {
      "metadata": {
        "id": "5-IZGlsgn1li",
        "colab_type": "text"
      },
      "cell_type": "markdown",
      "source": [
        "### Creating topic attributes"
      ]
    },
    {
      "metadata": {
        "id": "KZw_cxJ2n0sN",
        "colab_type": "code",
        "colab": {}
      },
      "cell_type": "code",
      "source": [
        "list_of_tags = list(map(lambda x: x.replace('[','').replace(']','').replace('\\'', '').split(','), df_ted.tags.values))\n",
        "\n",
        "flattened_list_of_tags = reduce(lambda x, y: x+y, list_of_tags)\n",
        "\n",
        "unique_tags = list(set(flattened_list_of_tags))\n",
        "tag_frequency = list(map(lambda x: flattened_list_of_tags.count(x), unique_tags))\n",
        "df_tag_frequency = pd.DataFrame({'tag': list(unique_tags), 'frequency': tag_frequency})"
      ],
      "execution_count": 0,
      "outputs": []
    },
    {
      "metadata": {
        "id": "NVFIeLKeoBZJ",
        "colab_type": "code",
        "outputId": "9107740a-0fa4-4e97-f125-2faf218addf5",
        "colab": {
          "base_uri": "https://localhost:8080/",
          "height": 143
        }
      },
      "cell_type": "code",
      "source": [
        "df_tag_frequency.head(3)"
      ],
      "execution_count": 0,
      "outputs": [
        {
          "output_type": "execute_result",
          "data": {
            "text/html": [
              "<div>\n",
              "<style scoped>\n",
              "    .dataframe tbody tr th:only-of-type {\n",
              "        vertical-align: middle;\n",
              "    }\n",
              "\n",
              "    .dataframe tbody tr th {\n",
              "        vertical-align: top;\n",
              "    }\n",
              "\n",
              "    .dataframe thead th {\n",
              "        text-align: right;\n",
              "    }\n",
              "</style>\n",
              "<table border=\"1\" class=\"dataframe\">\n",
              "  <thead>\n",
              "    <tr style=\"text-align: right;\">\n",
              "      <th></th>\n",
              "      <th>frequency</th>\n",
              "      <th>tag</th>\n",
              "    </tr>\n",
              "  </thead>\n",
              "  <tbody>\n",
              "    <tr>\n",
              "      <th>0</th>\n",
              "      <td>5</td>\n",
              "      <td>exoskeleton</td>\n",
              "    </tr>\n",
              "    <tr>\n",
              "      <th>1</th>\n",
              "      <td>29</td>\n",
              "      <td>feminism</td>\n",
              "    </tr>\n",
              "    <tr>\n",
              "      <th>2</th>\n",
              "      <td>115</td>\n",
              "      <td>art</td>\n",
              "    </tr>\n",
              "  </tbody>\n",
              "</table>\n",
              "</div>"
            ],
            "text/plain": [
              "   frequency           tag\n",
              "0          5   exoskeleton\n",
              "1         29      feminism\n",
              "2        115           art"
            ]
          },
          "metadata": {
            "tags": []
          },
          "execution_count": 247
        }
      ]
    },
    {
      "metadata": {
        "id": "Pm31LPGxoGjl",
        "colab_type": "code",
        "colab": {}
      },
      "cell_type": "code",
      "source": [
        "df_tag_frequency.sort_values(by = ['frequency'], ascending = False, inplace = True)\n",
        "df_tag_frequency['tag'] = df_tag_frequency[['tag']].apply(lambda x: x.str.strip())"
      ],
      "execution_count": 0,
      "outputs": []
    },
    {
      "metadata": {
        "id": "hExP4TamoNot",
        "colab_type": "code",
        "outputId": "6547ea48-7b5f-4eda-8c53-d68b6fff3d6e",
        "colab": {
          "base_uri": "https://localhost:8080/",
          "height": 363
        }
      },
      "cell_type": "code",
      "source": [
        "df_tag_frequency.head(10)"
      ],
      "execution_count": 0,
      "outputs": [
        {
          "output_type": "execute_result",
          "data": {
            "text/html": [
              "<div>\n",
              "<style scoped>\n",
              "    .dataframe tbody tr th:only-of-type {\n",
              "        vertical-align: middle;\n",
              "    }\n",
              "\n",
              "    .dataframe tbody tr th {\n",
              "        vertical-align: top;\n",
              "    }\n",
              "\n",
              "    .dataframe thead th {\n",
              "        text-align: right;\n",
              "    }\n",
              "</style>\n",
              "<table border=\"1\" class=\"dataframe\">\n",
              "  <thead>\n",
              "    <tr style=\"text-align: right;\">\n",
              "      <th></th>\n",
              "      <th>frequency</th>\n",
              "      <th>tag</th>\n",
              "    </tr>\n",
              "  </thead>\n",
              "  <tbody>\n",
              "    <tr>\n",
              "      <th>407</th>\n",
              "      <td>704</td>\n",
              "      <td>technology</td>\n",
              "    </tr>\n",
              "    <tr>\n",
              "      <th>264</th>\n",
              "      <td>551</td>\n",
              "      <td>science</td>\n",
              "    </tr>\n",
              "    <tr>\n",
              "      <th>279</th>\n",
              "      <td>473</td>\n",
              "      <td>global issues</td>\n",
              "    </tr>\n",
              "    <tr>\n",
              "      <th>495</th>\n",
              "      <td>382</td>\n",
              "      <td>design</td>\n",
              "    </tr>\n",
              "    <tr>\n",
              "      <th>95</th>\n",
              "      <td>378</td>\n",
              "      <td>culture</td>\n",
              "    </tr>\n",
              "    <tr>\n",
              "      <th>85</th>\n",
              "      <td>307</td>\n",
              "      <td>TEDx</td>\n",
              "    </tr>\n",
              "    <tr>\n",
              "      <th>185</th>\n",
              "      <td>258</td>\n",
              "      <td>entertainment</td>\n",
              "    </tr>\n",
              "    <tr>\n",
              "      <th>124</th>\n",
              "      <td>221</td>\n",
              "      <td>health</td>\n",
              "    </tr>\n",
              "    <tr>\n",
              "      <th>464</th>\n",
              "      <td>215</td>\n",
              "      <td>innovation</td>\n",
              "    </tr>\n",
              "    <tr>\n",
              "      <th>349</th>\n",
              "      <td>200</td>\n",
              "      <td>society</td>\n",
              "    </tr>\n",
              "  </tbody>\n",
              "</table>\n",
              "</div>"
            ],
            "text/plain": [
              "     frequency            tag\n",
              "407        704     technology\n",
              "264        551        science\n",
              "279        473  global issues\n",
              "495        382         design\n",
              "95         378        culture\n",
              "85         307           TEDx\n",
              "185        258  entertainment\n",
              "124        221         health\n",
              "464        215     innovation\n",
              "349        200        society"
            ]
          },
          "metadata": {
            "tags": []
          },
          "execution_count": 249
        }
      ]
    },
    {
      "metadata": {
        "id": "hUjM7GqHoObU",
        "colab_type": "code",
        "colab": {}
      },
      "cell_type": "code",
      "source": [
        "df_tag_frequency_grouped = df_tag_frequency.groupby(['tag']).sum().reset_index().sort_values(by = ['frequency'], ascending = False)"
      ],
      "execution_count": 0,
      "outputs": []
    },
    {
      "metadata": {
        "id": "4BXfJk5WoWf3",
        "colab_type": "code",
        "outputId": "84976a49-0e11-4de6-f6ca-ba1eb16cd81a",
        "colab": {
          "base_uri": "https://localhost:8080/",
          "height": 506
        }
      },
      "cell_type": "code",
      "source": [
        "df_tag_frequency_grouped.plot.line(x = 'tag', y = 'frequency',c= 'red', figsize = (10,8))"
      ],
      "execution_count": 0,
      "outputs": [
        {
          "output_type": "execute_result",
          "data": {
            "text/plain": [
              "<matplotlib.axes._subplots.AxesSubplot at 0x7fafd1f7a390>"
            ]
          },
          "metadata": {
            "tags": []
          },
          "execution_count": 251
        },
        {
          "output_type": "display_data",
          "data": {
            "image/png": "[encoded data removed]",
            "text/plain": [
              "<Figure size 720x576 with 1 Axes>"
            ]
          },
          "metadata": {
            "tags": []
          }
        }
      ]
    },
    {
      "metadata": {
        "id": "3NWV3jE1sua6",
        "colab_type": "code",
        "colab": {}
      },
      "cell_type": "code",
      "source": [
        "df_tag_frequency_top_25 = df_tag_frequency_grouped.iloc[:25,:]"
      ],
      "execution_count": 0,
      "outputs": []
    },
    {
      "metadata": {
        "id": "vkztdW1zsxvm",
        "colab_type": "code",
        "colab": {}
      },
      "cell_type": "code",
      "source": [
        "def assign_new_tags(old_tags):\n",
        "    flag = 0\n",
        "    for new_tags in list(df_tag_frequency_top_25.tag.values):\n",
        "        if new_tags in old_tags:\n",
        "            flag = 1\n",
        "            break\n",
        "        \n",
        "    if flag == 1:\n",
        "        return new_tags\n",
        "    else:\n",
        "        return 'others'    "
      ],
      "execution_count": 0,
      "outputs": []
    },
    {
      "metadata": {
        "id": "kM6BtDIZoZJr",
        "colab_type": "code",
        "colab": {}
      },
      "cell_type": "code",
      "source": [
        "df_ted['new_tags'] = list(map(lambda x: assign_new_tags(x) , list(df_ted.tags.values)))"
      ],
      "execution_count": 0,
      "outputs": []
    },
    {
      "metadata": {
        "id": "NTtRkjxns3qQ",
        "colab_type": "code",
        "outputId": "ae90a105-8d82-4fe8-f247-c451593be2ad",
        "colab": {
          "base_uri": "https://localhost:8080/",
          "height": 389
        }
      },
      "cell_type": "code",
      "source": [
        "df_ted.drop(['tags'], axis = 1, inplace = True)\n",
        "df_ted['published_year'] = df_ted['published_date'].apply(lambda x: datetime.fromtimestamp(x).strftime(\"%Y\"))\n",
        "df_ted.head(3)"
      ],
      "execution_count": 0,
      "outputs": [
        {
          "output_type": "execute_result",
          "data": {
            "text/html": [
              "<div>\n",
              "<style scoped>\n",
              "    .dataframe tbody tr th:only-of-type {\n",
              "        vertical-align: middle;\n",
              "    }\n",
              "\n",
              "    .dataframe tbody tr th {\n",
              "        vertical-align: top;\n",
              "    }\n",
              "\n",
              "    .dataframe thead th {\n",
              "        text-align: right;\n",
              "    }\n",
              "</style>\n",
              "<table border=\"1\" class=\"dataframe\">\n",
              "  <thead>\n",
              "    <tr style=\"text-align: right;\">\n",
              "      <th></th>\n",
              "      <th>description</th>\n",
              "      <th>duration</th>\n",
              "      <th>film_date</th>\n",
              "      <th>name</th>\n",
              "      <th>num_speaker</th>\n",
              "      <th>published_date</th>\n",
              "      <th>ratings</th>\n",
              "      <th>speaker_occupation</th>\n",
              "      <th>title</th>\n",
              "      <th>transcript</th>\n",
              "      <th>comments_per_language</th>\n",
              "      <th>views_per_language</th>\n",
              "      <th>new_tags</th>\n",
              "      <th>published_year</th>\n",
              "    </tr>\n",
              "  </thead>\n",
              "  <tbody>\n",
              "    <tr>\n",
              "      <th>0</th>\n",
              "      <td>Sir Ken Robinson makes an entertaining and pro...</td>\n",
              "      <td>1164</td>\n",
              "      <td>1140825600</td>\n",
              "      <td>Ken Robinson: Do schools kill creativity?</td>\n",
              "      <td>1</td>\n",
              "      <td>1151367060</td>\n",
              "      <td>[{'id': 7, 'name': 'Funny', 'count': 19645}, {...</td>\n",
              "      <td>Author/educator</td>\n",
              "      <td>Do schools kill creativity?</td>\n",
              "      <td>Good morning. How are you?(Laughter)It's been ...</td>\n",
              "      <td>75</td>\n",
              "      <td>787118</td>\n",
              "      <td>culture</td>\n",
              "      <td>2006</td>\n",
              "    </tr>\n",
              "    <tr>\n",
              "      <th>1</th>\n",
              "      <td>With the same humor and humanity he exuded in ...</td>\n",
              "      <td>977</td>\n",
              "      <td>1140825600</td>\n",
              "      <td>Al Gore: Averting the climate crisis</td>\n",
              "      <td>1</td>\n",
              "      <td>1151367060</td>\n",
              "      <td>[{'id': 7, 'name': 'Funny', 'count': 544}, {'i...</td>\n",
              "      <td>Climate advocate</td>\n",
              "      <td>Averting the climate crisis</td>\n",
              "      <td>Thank you so much, Chris. And it's truly a gre...</td>\n",
              "      <td>6</td>\n",
              "      <td>74430</td>\n",
              "      <td>technology</td>\n",
              "      <td>2006</td>\n",
              "    </tr>\n",
              "    <tr>\n",
              "      <th>2</th>\n",
              "      <td>New York Times columnist David Pogue takes aim...</td>\n",
              "      <td>1286</td>\n",
              "      <td>1140739200</td>\n",
              "      <td>David Pogue: Simplicity sells</td>\n",
              "      <td>1</td>\n",
              "      <td>1151367060</td>\n",
              "      <td>[{'id': 7, 'name': 'Funny', 'count': 964}, {'i...</td>\n",
              "      <td>Technology columnist</td>\n",
              "      <td>Simplicity sells</td>\n",
              "      <td>(Music: \"The Sound of Silence,\" Simon &amp; Garfun...</td>\n",
              "      <td>4</td>\n",
              "      <td>62934</td>\n",
              "      <td>technology</td>\n",
              "      <td>2006</td>\n",
              "    </tr>\n",
              "  </tbody>\n",
              "</table>\n",
              "</div>"
            ],
            "text/plain": [
              "                                         description  duration   film_date  \\\n",
              "0  Sir Ken Robinson makes an entertaining and pro...      1164  1140825600   \n",
              "1  With the same humor and humanity he exuded in ...       977  1140825600   \n",
              "2  New York Times columnist David Pogue takes aim...      1286  1140739200   \n",
              "\n",
              "                                        name  num_speaker  published_date  \\\n",
              "0  Ken Robinson: Do schools kill creativity?            1      1151367060   \n",
              "1       Al Gore: Averting the climate crisis            1      1151367060   \n",
              "2              David Pogue: Simplicity sells            1      1151367060   \n",
              "\n",
              "                                             ratings    speaker_occupation  \\\n",
              "0  [{'id': 7, 'name': 'Funny', 'count': 19645}, {...       Author/educator   \n",
              "1  [{'id': 7, 'name': 'Funny', 'count': 544}, {'i...      Climate advocate   \n",
              "2  [{'id': 7, 'name': 'Funny', 'count': 964}, {'i...  Technology columnist   \n",
              "\n",
              "                         title  \\\n",
              "0  Do schools kill creativity?   \n",
              "1  Averting the climate crisis   \n",
              "2             Simplicity sells   \n",
              "\n",
              "                                          transcript  comments_per_language  \\\n",
              "0  Good morning. How are you?(Laughter)It's been ...                     75   \n",
              "1  Thank you so much, Chris. And it's truly a gre...                      6   \n",
              "2  (Music: \"The Sound of Silence,\" Simon & Garfun...                      4   \n",
              "\n",
              "   views_per_language    new_tags published_year  \n",
              "0              787118     culture           2006  \n",
              "1               74430  technology           2006  \n",
              "2               62934  technology           2006  "
            ]
          },
          "metadata": {
            "tags": []
          },
          "execution_count": 255
        }
      ]
    },
    {
      "metadata": {
        "id": "Djk4Dq8X7KqE",
        "colab_type": "code",
        "colab": {}
      },
      "cell_type": "code",
      "source": [
        "\n",
        "df_ted_grouped = df_ted.groupby(['published_year', 'new_tags']).size().reset_index()\n",
        "df_ted_grouped.rename(columns = {0:\"counts\"},inplace = True)"
      ],
      "execution_count": 0,
      "outputs": []
    },
    {
      "metadata": {
        "id": "rAUuJwxp8GFD",
        "colab_type": "code",
        "colab": {}
      },
      "cell_type": "code",
      "source": [
        "df_ted.drop(['published_date', 'film_date'], axis = 1, inplace = True)"
      ],
      "execution_count": 0,
      "outputs": []
    },
    {
      "metadata": {
        "id": "XdltGbjm849u",
        "colab_type": "code",
        "outputId": "52d8e1a6-6d1b-4342-ede1-2530b5f1177b",
        "colab": {
          "base_uri": "https://localhost:8080/",
          "height": 143
        }
      },
      "cell_type": "code",
      "source": [
        "df_ted_grouped.head(3)"
      ],
      "execution_count": 0,
      "outputs": [
        {
          "output_type": "execute_result",
          "data": {
            "text/html": [
              "<div>\n",
              "<style scoped>\n",
              "    .dataframe tbody tr th:only-of-type {\n",
              "        vertical-align: middle;\n",
              "    }\n",
              "\n",
              "    .dataframe tbody tr th {\n",
              "        vertical-align: top;\n",
              "    }\n",
              "\n",
              "    .dataframe thead th {\n",
              "        text-align: right;\n",
              "    }\n",
              "</style>\n",
              "<table border=\"1\" class=\"dataframe\">\n",
              "  <thead>\n",
              "    <tr style=\"text-align: right;\">\n",
              "      <th></th>\n",
              "      <th>published_year</th>\n",
              "      <th>new_tags</th>\n",
              "      <th>counts</th>\n",
              "    </tr>\n",
              "  </thead>\n",
              "  <tbody>\n",
              "    <tr>\n",
              "      <th>0</th>\n",
              "      <td>2006</td>\n",
              "      <td>business</td>\n",
              "      <td>1</td>\n",
              "    </tr>\n",
              "    <tr>\n",
              "      <th>1</th>\n",
              "      <td>2006</td>\n",
              "      <td>culture</td>\n",
              "      <td>14</td>\n",
              "    </tr>\n",
              "    <tr>\n",
              "      <th>2</th>\n",
              "      <td>2006</td>\n",
              "      <td>entertainment</td>\n",
              "      <td>2</td>\n",
              "    </tr>\n",
              "  </tbody>\n",
              "</table>\n",
              "</div>"
            ],
            "text/plain": [
              "  published_year       new_tags  counts\n",
              "0           2006       business       1\n",
              "1           2006        culture      14\n",
              "2           2006  entertainment       2"
            ]
          },
          "metadata": {
            "tags": []
          },
          "execution_count": 258
        }
      ]
    },
    {
      "metadata": {
        "id": "ICGi4s3g57vc",
        "colab_type": "code",
        "colab": {}
      },
      "cell_type": "code",
      "source": [
        "x = df_ted_grouped.published_year.values\n",
        "y = df_ted_grouped.new_tags.values\n",
        "z = df_ted_grouped.counts.values*10"
      ],
      "execution_count": 0,
      "outputs": []
    },
    {
      "metadata": {
        "id": "V4wAiyrXs_Te",
        "colab_type": "text"
      },
      "cell_type": "markdown",
      "source": [
        "### Create attributes for audience perception"
      ]
    },
    {
      "metadata": {
        "id": "dQj7Ce1P9O3k",
        "colab_type": "code",
        "outputId": "e6f4fb81-336b-47d6-c615-803160e4242b",
        "colab": {
          "base_uri": "https://localhost:8080/",
          "height": 483
        }
      },
      "cell_type": "code",
      "source": [
        "fig, ax = plt.subplots()\n",
        "ax.scatter(x, y,c = 'g', s=z, cmap = 'jet_r')\n",
        "plt.rcParams[\"figure.figsize\"] = (30, 10)\n",
        "\n",
        "plt.show()"
      ],
      "execution_count": 0,
      "outputs": [
        {
          "output_type": "display_data",
          "data": {
            "image/png": "[encoded data removed]",
            "text/plain": [
              "<Figure size 720x576 with 1 Axes>"
            ]
          },
          "metadata": {
            "tags": []
          }
        }
      ]
    },
    {
      "metadata": {
        "id": "8TxY3hPHs7RI",
        "colab_type": "code",
        "colab": {}
      },
      "cell_type": "code",
      "source": [
        "df_ted['audience_rating_tag'] = df_ted['ratings'].apply(lambda x:x[x.find('name')+8: x.find('count')-4])"
      ],
      "execution_count": 0,
      "outputs": []
    },
    {
      "metadata": {
        "id": "CkuOnFf2uNtC",
        "colab_type": "code",
        "outputId": "274dbfbc-22c9-4e0b-a7f5-6da9c8090d6d",
        "colab": {
          "base_uri": "https://localhost:8080/",
          "height": 608
        }
      },
      "cell_type": "code",
      "source": [
        "df_ted.head(5)"
      ],
      "execution_count": 0,
      "outputs": [
        {
          "output_type": "execute_result",
          "data": {
            "text/html": [
              "<div>\n",
              "<style scoped>\n",
              "    .dataframe tbody tr th:only-of-type {\n",
              "        vertical-align: middle;\n",
              "    }\n",
              "\n",
              "    .dataframe tbody tr th {\n",
              "        vertical-align: top;\n",
              "    }\n",
              "\n",
              "    .dataframe thead th {\n",
              "        text-align: right;\n",
              "    }\n",
              "</style>\n",
              "<table border=\"1\" class=\"dataframe\">\n",
              "  <thead>\n",
              "    <tr style=\"text-align: right;\">\n",
              "      <th></th>\n",
              "      <th>description</th>\n",
              "      <th>duration</th>\n",
              "      <th>name</th>\n",
              "      <th>num_speaker</th>\n",
              "      <th>ratings</th>\n",
              "      <th>speaker_occupation</th>\n",
              "      <th>title</th>\n",
              "      <th>transcript</th>\n",
              "      <th>comments_per_language</th>\n",
              "      <th>views_per_language</th>\n",
              "      <th>new_tags</th>\n",
              "      <th>published_year</th>\n",
              "      <th>audience_rating_tag</th>\n",
              "    </tr>\n",
              "  </thead>\n",
              "  <tbody>\n",
              "    <tr>\n",
              "      <th>0</th>\n",
              "      <td>Sir Ken Robinson makes an entertaining and pro...</td>\n",
              "      <td>1164</td>\n",
              "      <td>Ken Robinson: Do schools kill creativity?</td>\n",
              "      <td>1</td>\n",
              "      <td>[{'id': 7, 'name': 'Funny', 'count': 19645}, {...</td>\n",
              "      <td>Author/educator</td>\n",
              "      <td>Do schools kill creativity?</td>\n",
              "      <td>Good morning. How are you?(Laughter)It's been ...</td>\n",
              "      <td>75</td>\n",
              "      <td>787118</td>\n",
              "      <td>culture</td>\n",
              "      <td>2006</td>\n",
              "      <td>Funny</td>\n",
              "    </tr>\n",
              "    <tr>\n",
              "      <th>1</th>\n",
              "      <td>With the same humor and humanity he exuded in ...</td>\n",
              "      <td>977</td>\n",
              "      <td>Al Gore: Averting the climate crisis</td>\n",
              "      <td>1</td>\n",
              "      <td>[{'id': 7, 'name': 'Funny', 'count': 544}, {'i...</td>\n",
              "      <td>Climate advocate</td>\n",
              "      <td>Averting the climate crisis</td>\n",
              "      <td>Thank you so much, Chris. And it's truly a gre...</td>\n",
              "      <td>6</td>\n",
              "      <td>74430</td>\n",
              "      <td>technology</td>\n",
              "      <td>2006</td>\n",
              "      <td>Funny</td>\n",
              "    </tr>\n",
              "    <tr>\n",
              "      <th>2</th>\n",
              "      <td>New York Times columnist David Pogue takes aim...</td>\n",
              "      <td>1286</td>\n",
              "      <td>David Pogue: Simplicity sells</td>\n",
              "      <td>1</td>\n",
              "      <td>[{'id': 7, 'name': 'Funny', 'count': 964}, {'i...</td>\n",
              "      <td>Technology columnist</td>\n",
              "      <td>Simplicity sells</td>\n",
              "      <td>(Music: \"The Sound of Silence,\" Simon &amp; Garfun...</td>\n",
              "      <td>4</td>\n",
              "      <td>62934</td>\n",
              "      <td>technology</td>\n",
              "      <td>2006</td>\n",
              "      <td>Funny</td>\n",
              "    </tr>\n",
              "    <tr>\n",
              "      <th>3</th>\n",
              "      <td>In an emotionally charged talk, MacArthur-winn...</td>\n",
              "      <td>1116</td>\n",
              "      <td>Majora Carter: Greening the ghetto</td>\n",
              "      <td>1</td>\n",
              "      <td>[{'id': 3, 'name': 'Courageous', 'count': 760}...</td>\n",
              "      <td>Activist for environmental justice</td>\n",
              "      <td>Greening the ghetto</td>\n",
              "      <td>If you're here today — and I'm very happy that...</td>\n",
              "      <td>5</td>\n",
              "      <td>48501</td>\n",
              "      <td>business</td>\n",
              "      <td>2006</td>\n",
              "      <td>Courageous</td>\n",
              "    </tr>\n",
              "    <tr>\n",
              "      <th>4</th>\n",
              "      <td>You've never seen data presented like this. Wi...</td>\n",
              "      <td>1190</td>\n",
              "      <td>Hans Rosling: The best stats you've ever seen</td>\n",
              "      <td>1</td>\n",
              "      <td>[{'id': 9, 'name': 'Ingenious', 'count': 3202}...</td>\n",
              "      <td>Global health expert; data visionary</td>\n",
              "      <td>The best stats you've ever seen</td>\n",
              "      <td>About 10 years ago, I took on the task to teac...</td>\n",
              "      <td>12</td>\n",
              "      <td>250122</td>\n",
              "      <td>global issues</td>\n",
              "      <td>2006</td>\n",
              "      <td>Ingenious</td>\n",
              "    </tr>\n",
              "  </tbody>\n",
              "</table>\n",
              "</div>"
            ],
            "text/plain": [
              "                                         description  duration  \\\n",
              "0  Sir Ken Robinson makes an entertaining and pro...      1164   \n",
              "1  With the same humor and humanity he exuded in ...       977   \n",
              "2  New York Times columnist David Pogue takes aim...      1286   \n",
              "3  In an emotionally charged talk, MacArthur-winn...      1116   \n",
              "4  You've never seen data presented like this. Wi...      1190   \n",
              "\n",
              "                                            name  num_speaker  \\\n",
              "0      Ken Robinson: Do schools kill creativity?            1   \n",
              "1           Al Gore: Averting the climate crisis            1   \n",
              "2                  David Pogue: Simplicity sells            1   \n",
              "3             Majora Carter: Greening the ghetto            1   \n",
              "4  Hans Rosling: The best stats you've ever seen            1   \n",
              "\n",
              "                                             ratings  \\\n",
              "0  [{'id': 7, 'name': 'Funny', 'count': 19645}, {...   \n",
              "1  [{'id': 7, 'name': 'Funny', 'count': 544}, {'i...   \n",
              "2  [{'id': 7, 'name': 'Funny', 'count': 964}, {'i...   \n",
              "3  [{'id': 3, 'name': 'Courageous', 'count': 760}...   \n",
              "4  [{'id': 9, 'name': 'Ingenious', 'count': 3202}...   \n",
              "\n",
              "                     speaker_occupation                            title  \\\n",
              "0                       Author/educator      Do schools kill creativity?   \n",
              "1                      Climate advocate      Averting the climate crisis   \n",
              "2                  Technology columnist                 Simplicity sells   \n",
              "3    Activist for environmental justice              Greening the ghetto   \n",
              "4  Global health expert; data visionary  The best stats you've ever seen   \n",
              "\n",
              "                                          transcript  comments_per_language  \\\n",
              "0  Good morning. How are you?(Laughter)It's been ...                     75   \n",
              "1  Thank you so much, Chris. And it's truly a gre...                      6   \n",
              "2  (Music: \"The Sound of Silence,\" Simon & Garfun...                      4   \n",
              "3  If you're here today — and I'm very happy that...                      5   \n",
              "4  About 10 years ago, I took on the task to teac...                     12   \n",
              "\n",
              "   views_per_language       new_tags published_year audience_rating_tag  \n",
              "0              787118        culture           2006               Funny  \n",
              "1               74430     technology           2006               Funny  \n",
              "2               62934     technology           2006               Funny  \n",
              "3               48501       business           2006          Courageous  \n",
              "4              250122  global issues           2006           Ingenious  "
            ]
          },
          "metadata": {
            "tags": []
          },
          "execution_count": 262
        }
      ]
    },
    {
      "metadata": {
        "id": "T101J7eBuPIn",
        "colab_type": "code",
        "colab": {}
      },
      "cell_type": "code",
      "source": [
        "df_ted['sentiment_polarity'] = (df_ted['description'].apply(lambda x: TextBlob(x).sentiment.polarity ) \n",
        "                                + df_ted['title'].apply(lambda x: TextBlob(x).sentiment.polarity ) \n",
        "                                + df_ted['transcript'].apply(lambda x: TextBlob(x).sentiment.polarity ))/3\n",
        "\n",
        "df_ted['sentiment_subjectivity'] = (df_ted['description'].apply(lambda x: TextBlob(x).sentiment.subjectivity ) \n",
        "                                    + df_ted['title'].apply(lambda x: TextBlob(x).sentiment.subjectivity ) \n",
        "                                    + df_ted['transcript'].apply(lambda x: TextBlob(x).sentiment.subjectivity ))/3"
      ],
      "execution_count": 0,
      "outputs": []
    },
    {
      "metadata": {
        "id": "kWllFBbmuRRF",
        "colab_type": "code",
        "outputId": "a977a4aa-e770-446f-9d40-b6db819acadb",
        "colab": {
          "base_uri": "https://localhost:8080/",
          "height": 389
        }
      },
      "cell_type": "code",
      "source": [
        "df_ted.head(3)"
      ],
      "execution_count": 0,
      "outputs": [
        {
          "output_type": "execute_result",
          "data": {
            "text/html": [
              "<div>\n",
              "<style scoped>\n",
              "    .dataframe tbody tr th:only-of-type {\n",
              "        vertical-align: middle;\n",
              "    }\n",
              "\n",
              "    .dataframe tbody tr th {\n",
              "        vertical-align: top;\n",
              "    }\n",
              "\n",
              "    .dataframe thead th {\n",
              "        text-align: right;\n",
              "    }\n",
              "</style>\n",
              "<table border=\"1\" class=\"dataframe\">\n",
              "  <thead>\n",
              "    <tr style=\"text-align: right;\">\n",
              "      <th></th>\n",
              "      <th>description</th>\n",
              "      <th>duration</th>\n",
              "      <th>name</th>\n",
              "      <th>num_speaker</th>\n",
              "      <th>ratings</th>\n",
              "      <th>speaker_occupation</th>\n",
              "      <th>title</th>\n",
              "      <th>transcript</th>\n",
              "      <th>comments_per_language</th>\n",
              "      <th>views_per_language</th>\n",
              "      <th>new_tags</th>\n",
              "      <th>published_year</th>\n",
              "      <th>audience_rating_tag</th>\n",
              "      <th>sentiment_polarity</th>\n",
              "      <th>sentiment_subjectivity</th>\n",
              "    </tr>\n",
              "  </thead>\n",
              "  <tbody>\n",
              "    <tr>\n",
              "      <th>0</th>\n",
              "      <td>Sir Ken Robinson makes an entertaining and pro...</td>\n",
              "      <td>1164</td>\n",
              "      <td>Ken Robinson: Do schools kill creativity?</td>\n",
              "      <td>1</td>\n",
              "      <td>[{'id': 7, 'name': 'Funny', 'count': 19645}, {...</td>\n",
              "      <td>Author/educator</td>\n",
              "      <td>Do schools kill creativity?</td>\n",
              "      <td>Good morning. How are you?(Laughter)It's been ...</td>\n",
              "      <td>75</td>\n",
              "      <td>787118</td>\n",
              "      <td>culture</td>\n",
              "      <td>2006</td>\n",
              "      <td>Funny</td>\n",
              "      <td>0.146039</td>\n",
              "      <td>0.437350</td>\n",
              "    </tr>\n",
              "    <tr>\n",
              "      <th>1</th>\n",
              "      <td>With the same humor and humanity he exuded in ...</td>\n",
              "      <td>977</td>\n",
              "      <td>Al Gore: Averting the climate crisis</td>\n",
              "      <td>1</td>\n",
              "      <td>[{'id': 7, 'name': 'Funny', 'count': 544}, {'i...</td>\n",
              "      <td>Climate advocate</td>\n",
              "      <td>Averting the climate crisis</td>\n",
              "      <td>Thank you so much, Chris. And it's truly a gre...</td>\n",
              "      <td>6</td>\n",
              "      <td>74430</td>\n",
              "      <td>technology</td>\n",
              "      <td>2006</td>\n",
              "      <td>Funny</td>\n",
              "      <td>0.013955</td>\n",
              "      <td>0.272996</td>\n",
              "    </tr>\n",
              "    <tr>\n",
              "      <th>2</th>\n",
              "      <td>New York Times columnist David Pogue takes aim...</td>\n",
              "      <td>1286</td>\n",
              "      <td>David Pogue: Simplicity sells</td>\n",
              "      <td>1</td>\n",
              "      <td>[{'id': 7, 'name': 'Funny', 'count': 964}, {'i...</td>\n",
              "      <td>Technology columnist</td>\n",
              "      <td>Simplicity sells</td>\n",
              "      <td>(Music: \"The Sound of Silence,\" Simon &amp; Garfun...</td>\n",
              "      <td>4</td>\n",
              "      <td>62934</td>\n",
              "      <td>technology</td>\n",
              "      <td>2006</td>\n",
              "      <td>Funny</td>\n",
              "      <td>0.018199</td>\n",
              "      <td>0.407598</td>\n",
              "    </tr>\n",
              "  </tbody>\n",
              "</table>\n",
              "</div>"
            ],
            "text/plain": [
              "                                         description  duration  \\\n",
              "0  Sir Ken Robinson makes an entertaining and pro...      1164   \n",
              "1  With the same humor and humanity he exuded in ...       977   \n",
              "2  New York Times columnist David Pogue takes aim...      1286   \n",
              "\n",
              "                                        name  num_speaker  \\\n",
              "0  Ken Robinson: Do schools kill creativity?            1   \n",
              "1       Al Gore: Averting the climate crisis            1   \n",
              "2              David Pogue: Simplicity sells            1   \n",
              "\n",
              "                                             ratings    speaker_occupation  \\\n",
              "0  [{'id': 7, 'name': 'Funny', 'count': 19645}, {...       Author/educator   \n",
              "1  [{'id': 7, 'name': 'Funny', 'count': 544}, {'i...      Climate advocate   \n",
              "2  [{'id': 7, 'name': 'Funny', 'count': 964}, {'i...  Technology columnist   \n",
              "\n",
              "                         title  \\\n",
              "0  Do schools kill creativity?   \n",
              "1  Averting the climate crisis   \n",
              "2             Simplicity sells   \n",
              "\n",
              "                                          transcript  comments_per_language  \\\n",
              "0  Good morning. How are you?(Laughter)It's been ...                     75   \n",
              "1  Thank you so much, Chris. And it's truly a gre...                      6   \n",
              "2  (Music: \"The Sound of Silence,\" Simon & Garfun...                      4   \n",
              "\n",
              "   views_per_language    new_tags published_year audience_rating_tag  \\\n",
              "0              787118     culture           2006               Funny   \n",
              "1               74430  technology           2006               Funny   \n",
              "2               62934  technology           2006               Funny   \n",
              "\n",
              "   sentiment_polarity  sentiment_subjectivity  \n",
              "0            0.146039                0.437350  \n",
              "1            0.013955                0.272996  \n",
              "2            0.018199                0.407598  "
            ]
          },
          "metadata": {
            "tags": []
          },
          "execution_count": 264
        }
      ]
    },
    {
      "metadata": {
        "id": "vzk6HXdYum1G",
        "colab_type": "code",
        "colab": {}
      },
      "cell_type": "code",
      "source": [
        ""
      ],
      "execution_count": 0,
      "outputs": []
    },
    {
      "metadata": {
        "id": "6B60b_E0ur7J",
        "colab_type": "code",
        "colab": {}
      },
      "cell_type": "code",
      "source": [
        "df_ted.drop(['description', 'name', 'num_speaker', 'ratings', 'speaker_occupation', 'transcript'], axis = 1, inplace = True)"
      ],
      "execution_count": 0,
      "outputs": []
    },
    {
      "metadata": {
        "id": "bfwaivlBuwag",
        "colab_type": "code",
        "outputId": "82242825-15b1-4b73-f9d3-657f67c231ec",
        "colab": {
          "base_uri": "https://localhost:8080/",
          "height": 417
        }
      },
      "cell_type": "code",
      "source": [
        "df_ted.head()"
      ],
      "execution_count": 0,
      "outputs": [
        {
          "output_type": "execute_result",
          "data": {
            "text/html": [
              "<div>\n",
              "<style scoped>\n",
              "    .dataframe tbody tr th:only-of-type {\n",
              "        vertical-align: middle;\n",
              "    }\n",
              "\n",
              "    .dataframe tbody tr th {\n",
              "        vertical-align: top;\n",
              "    }\n",
              "\n",
              "    .dataframe thead th {\n",
              "        text-align: right;\n",
              "    }\n",
              "</style>\n",
              "<table border=\"1\" class=\"dataframe\">\n",
              "  <thead>\n",
              "    <tr style=\"text-align: right;\">\n",
              "      <th></th>\n",
              "      <th>duration</th>\n",
              "      <th>title</th>\n",
              "      <th>comments_per_language</th>\n",
              "      <th>views_per_language</th>\n",
              "      <th>new_tags</th>\n",
              "      <th>published_year</th>\n",
              "      <th>audience_rating_tag</th>\n",
              "      <th>sentiment_polarity</th>\n",
              "      <th>sentiment_subjectivity</th>\n",
              "    </tr>\n",
              "  </thead>\n",
              "  <tbody>\n",
              "    <tr>\n",
              "      <th>0</th>\n",
              "      <td>1164</td>\n",
              "      <td>Do schools kill creativity?</td>\n",
              "      <td>75</td>\n",
              "      <td>787118</td>\n",
              "      <td>culture</td>\n",
              "      <td>2006</td>\n",
              "      <td>Funny</td>\n",
              "      <td>0.146039</td>\n",
              "      <td>0.437350</td>\n",
              "    </tr>\n",
              "    <tr>\n",
              "      <th>1</th>\n",
              "      <td>977</td>\n",
              "      <td>Averting the climate crisis</td>\n",
              "      <td>6</td>\n",
              "      <td>74430</td>\n",
              "      <td>technology</td>\n",
              "      <td>2006</td>\n",
              "      <td>Funny</td>\n",
              "      <td>0.013955</td>\n",
              "      <td>0.272996</td>\n",
              "    </tr>\n",
              "    <tr>\n",
              "      <th>2</th>\n",
              "      <td>1286</td>\n",
              "      <td>Simplicity sells</td>\n",
              "      <td>4</td>\n",
              "      <td>62934</td>\n",
              "      <td>technology</td>\n",
              "      <td>2006</td>\n",
              "      <td>Funny</td>\n",
              "      <td>0.018199</td>\n",
              "      <td>0.407598</td>\n",
              "    </tr>\n",
              "    <tr>\n",
              "      <th>3</th>\n",
              "      <td>1116</td>\n",
              "      <td>Greening the ghetto</td>\n",
              "      <td>5</td>\n",
              "      <td>48501</td>\n",
              "      <td>business</td>\n",
              "      <td>2006</td>\n",
              "      <td>Courageous</td>\n",
              "      <td>0.027643</td>\n",
              "      <td>0.283888</td>\n",
              "    </tr>\n",
              "    <tr>\n",
              "      <th>4</th>\n",
              "      <td>1190</td>\n",
              "      <td>The best stats you've ever seen</td>\n",
              "      <td>12</td>\n",
              "      <td>250122</td>\n",
              "      <td>global issues</td>\n",
              "      <td>2006</td>\n",
              "      <td>Ingenious</td>\n",
              "      <td>0.365494</td>\n",
              "      <td>0.250210</td>\n",
              "    </tr>\n",
              "  </tbody>\n",
              "</table>\n",
              "</div>"
            ],
            "text/plain": [
              "   duration                            title  comments_per_language  \\\n",
              "0      1164      Do schools kill creativity?                     75   \n",
              "1       977      Averting the climate crisis                      6   \n",
              "2      1286                 Simplicity sells                      4   \n",
              "3      1116              Greening the ghetto                      5   \n",
              "4      1190  The best stats you've ever seen                     12   \n",
              "\n",
              "   views_per_language       new_tags published_year audience_rating_tag  \\\n",
              "0              787118        culture           2006               Funny   \n",
              "1               74430     technology           2006               Funny   \n",
              "2               62934     technology           2006               Funny   \n",
              "3               48501       business           2006          Courageous   \n",
              "4              250122  global issues           2006           Ingenious   \n",
              "\n",
              "   sentiment_polarity  sentiment_subjectivity  \n",
              "0            0.146039                0.437350  \n",
              "1            0.013955                0.272996  \n",
              "2            0.018199                0.407598  \n",
              "3            0.027643                0.283888  \n",
              "4            0.365494                0.250210  "
            ]
          },
          "metadata": {
            "tags": []
          },
          "execution_count": 266
        }
      ]
    },
    {
      "metadata": {
        "id": "szSPWa0TBalZ",
        "colab_type": "text"
      },
      "cell_type": "markdown",
      "source": [
        "## Modelling"
      ]
    },
    {
      "metadata": {
        "id": "WyYqH85FuynA",
        "colab_type": "code",
        "outputId": "01381e2a-15d2-4462-d815-a83388ec4794",
        "colab": {
          "base_uri": "https://localhost:8080/",
          "height": 206
        }
      },
      "cell_type": "code",
      "source": [
        "corr= df_ted.corr()\n",
        "corr"
      ],
      "execution_count": 0,
      "outputs": [
        {
          "output_type": "execute_result",
          "data": {
            "text/html": [
              "<div>\n",
              "<style scoped>\n",
              "    .dataframe tbody tr th:only-of-type {\n",
              "        vertical-align: middle;\n",
              "    }\n",
              "\n",
              "    .dataframe tbody tr th {\n",
              "        vertical-align: top;\n",
              "    }\n",
              "\n",
              "    .dataframe thead th {\n",
              "        text-align: right;\n",
              "    }\n",
              "</style>\n",
              "<table border=\"1\" class=\"dataframe\">\n",
              "  <thead>\n",
              "    <tr style=\"text-align: right;\">\n",
              "      <th></th>\n",
              "      <th>duration</th>\n",
              "      <th>comments_per_language</th>\n",
              "      <th>views_per_language</th>\n",
              "      <th>sentiment_polarity</th>\n",
              "      <th>sentiment_subjectivity</th>\n",
              "    </tr>\n",
              "  </thead>\n",
              "  <tbody>\n",
              "    <tr>\n",
              "      <th>duration</th>\n",
              "      <td>1.000000</td>\n",
              "      <td>0.069746</td>\n",
              "      <td>0.048333</td>\n",
              "      <td>-0.007017</td>\n",
              "      <td>-0.010674</td>\n",
              "    </tr>\n",
              "    <tr>\n",
              "      <th>comments_per_language</th>\n",
              "      <td>0.069746</td>\n",
              "      <td>1.000000</td>\n",
              "      <td>0.820924</td>\n",
              "      <td>0.016017</td>\n",
              "      <td>-0.011892</td>\n",
              "    </tr>\n",
              "    <tr>\n",
              "      <th>views_per_language</th>\n",
              "      <td>0.048333</td>\n",
              "      <td>0.820924</td>\n",
              "      <td>1.000000</td>\n",
              "      <td>0.031744</td>\n",
              "      <td>-0.000039</td>\n",
              "    </tr>\n",
              "    <tr>\n",
              "      <th>sentiment_polarity</th>\n",
              "      <td>-0.007017</td>\n",
              "      <td>0.016017</td>\n",
              "      <td>0.031744</td>\n",
              "      <td>1.000000</td>\n",
              "      <td>0.284094</td>\n",
              "    </tr>\n",
              "    <tr>\n",
              "      <th>sentiment_subjectivity</th>\n",
              "      <td>-0.010674</td>\n",
              "      <td>-0.011892</td>\n",
              "      <td>-0.000039</td>\n",
              "      <td>0.284094</td>\n",
              "      <td>1.000000</td>\n",
              "    </tr>\n",
              "  </tbody>\n",
              "</table>\n",
              "</div>"
            ],
            "text/plain": [
              "                        duration  comments_per_language  views_per_language  \\\n",
              "duration                1.000000               0.069746            0.048333   \n",
              "comments_per_language   0.069746               1.000000            0.820924   \n",
              "views_per_language      0.048333               0.820924            1.000000   \n",
              "sentiment_polarity     -0.007017               0.016017            0.031744   \n",
              "sentiment_subjectivity -0.010674              -0.011892           -0.000039   \n",
              "\n",
              "                        sentiment_polarity  sentiment_subjectivity  \n",
              "duration                         -0.007017               -0.010674  \n",
              "comments_per_language             0.016017               -0.011892  \n",
              "views_per_language                0.031744               -0.000039  \n",
              "sentiment_polarity                1.000000                0.284094  \n",
              "sentiment_subjectivity            0.284094                1.000000  "
            ]
          },
          "metadata": {
            "tags": []
          },
          "execution_count": 267
        }
      ]
    },
    {
      "metadata": {
        "id": "Cv9aGFQMByj0",
        "colab_type": "code",
        "outputId": "35db0e48-5d62-4e34-f4d3-956e7dc5f97c",
        "colab": {
          "base_uri": "https://localhost:8080/",
          "height": 502
        }
      },
      "cell_type": "code",
      "source": [
        "plt.rcParams[\"figure.figsize\"] = (10, 8)\n",
        "sns.heatmap(corr)"
      ],
      "execution_count": 0,
      "outputs": [
        {
          "output_type": "execute_result",
          "data": {
            "text/plain": [
              "<matplotlib.axes._subplots.AxesSubplot at 0x7fafd17083c8>"
            ]
          },
          "metadata": {
            "tags": []
          },
          "execution_count": 268
        },
        {
          "output_type": "display_data",
          "data": {
            "image/png": "[encoded data removed]",
            "text/plain": [
              "<Figure size 720x576 with 2 Axes>"
            ]
          },
          "metadata": {
            "tags": []
          }
        }
      ]
    },
    {
      "metadata": {
        "id": "JTJD6Uymu1Rl",
        "colab_type": "code",
        "colab": {}
      },
      "cell_type": "code",
      "source": [
        "corr_variables = df_ted[['comments_per_language', 'views_per_language']].values"
      ],
      "execution_count": 0,
      "outputs": []
    },
    {
      "metadata": {
        "id": "zo9uVO7yu3c0",
        "colab_type": "code",
        "outputId": "9e93f873-62da-4c0c-f419-cf759675c30a",
        "colab": {
          "base_uri": "https://localhost:8080/",
          "height": 112
        }
      },
      "cell_type": "code",
      "source": [
        "corr_variables = StandardScaler().fit_transform(corr_variables)"
      ],
      "execution_count": 0,
      "outputs": [
        {
          "output_type": "stream",
          "text": [
            "/usr/local/lib/python3.6/dist-packages/sklearn/utils/validation.py:595: DataConversionWarning: Data with input dtype int64 was converted to float64 by StandardScaler.\n",
            "  warnings.warn(msg, DataConversionWarning)\n",
            "/usr/local/lib/python3.6/dist-packages/sklearn/utils/validation.py:595: DataConversionWarning: Data with input dtype int64 was converted to float64 by StandardScaler.\n",
            "  warnings.warn(msg, DataConversionWarning)\n"
          ],
          "name": "stderr"
        }
      ]
    },
    {
      "metadata": {
        "id": "O0WHAHGju5gF",
        "colab_type": "code",
        "outputId": "228c1f0c-7195-488b-ddb7-29fe3c15231b",
        "colab": {
          "base_uri": "https://localhost:8080/",
          "height": 148
        }
      },
      "cell_type": "code",
      "source": [
        "corr_variables"
      ],
      "execution_count": 0,
      "outputs": [
        {
          "output_type": "execute_result",
          "data": {
            "text/plain": [
              "array([[ 1.29400884e+00,  3.21408430e+00],\n",
              "       [-1.18492428e-01, -3.10701125e-03],\n",
              "       [-1.59434493e-01, -5.50018534e-02],\n",
              "       ...,\n",
              "       [-2.20847592e-01, -5.70241994e-02],\n",
              "       [-2.20847592e-01,  1.95159635e-01],\n",
              "       [-2.20847592e-01,  3.42341626e-02]])"
            ]
          },
          "metadata": {
            "tags": []
          },
          "execution_count": 271
        }
      ]
    },
    {
      "metadata": {
        "id": "AYPxix_Cu76Y",
        "colab_type": "code",
        "colab": {}
      },
      "cell_type": "code",
      "source": [
        "pca = PCA(n_components=1)\n",
        "\n",
        "principalComponents = pca.fit_transform(corr_variables)"
      ],
      "execution_count": 0,
      "outputs": []
    },
    {
      "metadata": {
        "id": "P4VxPoBRu-Sa",
        "colab_type": "code",
        "colab": {}
      },
      "cell_type": "code",
      "source": [
        "df_ted['success'] = principalComponents"
      ],
      "execution_count": 0,
      "outputs": []
    },
    {
      "metadata": {
        "id": "AqZjD9amvAiU",
        "colab_type": "code",
        "outputId": "5496e4a7-c2d9-44ba-9bdb-ec27dc4d493b",
        "colab": {
          "base_uri": "https://localhost:8080/",
          "height": 285
        }
      },
      "cell_type": "code",
      "source": [
        "df_ted.head(3)"
      ],
      "execution_count": 0,
      "outputs": [
        {
          "output_type": "execute_result",
          "data": {
            "text/html": [
              "<div>\n",
              "<style scoped>\n",
              "    .dataframe tbody tr th:only-of-type {\n",
              "        vertical-align: middle;\n",
              "    }\n",
              "\n",
              "    .dataframe tbody tr th {\n",
              "        vertical-align: top;\n",
              "    }\n",
              "\n",
              "    .dataframe thead th {\n",
              "        text-align: right;\n",
              "    }\n",
              "</style>\n",
              "<table border=\"1\" class=\"dataframe\">\n",
              "  <thead>\n",
              "    <tr style=\"text-align: right;\">\n",
              "      <th></th>\n",
              "      <th>duration</th>\n",
              "      <th>title</th>\n",
              "      <th>comments_per_language</th>\n",
              "      <th>views_per_language</th>\n",
              "      <th>new_tags</th>\n",
              "      <th>published_year</th>\n",
              "      <th>audience_rating_tag</th>\n",
              "      <th>sentiment_polarity</th>\n",
              "      <th>sentiment_subjectivity</th>\n",
              "      <th>success</th>\n",
              "    </tr>\n",
              "  </thead>\n",
              "  <tbody>\n",
              "    <tr>\n",
              "      <th>0</th>\n",
              "      <td>1164</td>\n",
              "      <td>Do schools kill creativity?</td>\n",
              "      <td>75</td>\n",
              "      <td>787118</td>\n",
              "      <td>culture</td>\n",
              "      <td>2006</td>\n",
              "      <td>Funny</td>\n",
              "      <td>0.146039</td>\n",
              "      <td>0.437350</td>\n",
              "      <td>3.187703</td>\n",
              "    </tr>\n",
              "    <tr>\n",
              "      <th>1</th>\n",
              "      <td>977</td>\n",
              "      <td>Averting the climate crisis</td>\n",
              "      <td>6</td>\n",
              "      <td>74430</td>\n",
              "      <td>technology</td>\n",
              "      <td>2006</td>\n",
              "      <td>Funny</td>\n",
              "      <td>0.013955</td>\n",
              "      <td>0.272996</td>\n",
              "      <td>-0.085984</td>\n",
              "    </tr>\n",
              "    <tr>\n",
              "      <th>2</th>\n",
              "      <td>1286</td>\n",
              "      <td>Simplicity sells</td>\n",
              "      <td>4</td>\n",
              "      <td>62934</td>\n",
              "      <td>technology</td>\n",
              "      <td>2006</td>\n",
              "      <td>Funny</td>\n",
              "      <td>0.018199</td>\n",
              "      <td>0.407598</td>\n",
              "      <td>-0.151629</td>\n",
              "    </tr>\n",
              "  </tbody>\n",
              "</table>\n",
              "</div>"
            ],
            "text/plain": [
              "   duration                        title  comments_per_language  \\\n",
              "0      1164  Do schools kill creativity?                     75   \n",
              "1       977  Averting the climate crisis                      6   \n",
              "2      1286             Simplicity sells                      4   \n",
              "\n",
              "   views_per_language    new_tags published_year audience_rating_tag  \\\n",
              "0              787118     culture           2006               Funny   \n",
              "1               74430  technology           2006               Funny   \n",
              "2               62934  technology           2006               Funny   \n",
              "\n",
              "   sentiment_polarity  sentiment_subjectivity   success  \n",
              "0            0.146039                0.437350  3.187703  \n",
              "1            0.013955                0.272996 -0.085984  \n",
              "2            0.018199                0.407598 -0.151629  "
            ]
          },
          "metadata": {
            "tags": []
          },
          "execution_count": 274
        }
      ]
    },
    {
      "metadata": {
        "id": "ndoVk4TWvDPq",
        "colab_type": "code",
        "colab": {}
      },
      "cell_type": "code",
      "source": [
        " df_ted_new = pd.concat([df_ted[['duration', 'sentiment_polarity', 'sentiment_subjectivity', 'published_year', 'success']].reset_index(drop = True), \n",
        "            pd.get_dummies(df_ted[['new_tags', 'audience_rating_tag']])], axis = 1)"
      ],
      "execution_count": 0,
      "outputs": []
    },
    {
      "metadata": {
        "id": "v6gATCECvGAp",
        "colab_type": "code",
        "outputId": "5b1f3de7-fae9-4699-8237-ee399986cb13",
        "colab": {
          "base_uri": "https://localhost:8080/",
          "height": 273
        }
      },
      "cell_type": "code",
      "source": [
        "df_ted_new.head()"
      ],
      "execution_count": 0,
      "outputs": [
        {
          "output_type": "execute_result",
          "data": {
            "text/html": [
              "<div>\n",
              "<style scoped>\n",
              "    .dataframe tbody tr th:only-of-type {\n",
              "        vertical-align: middle;\n",
              "    }\n",
              "\n",
              "    .dataframe tbody tr th {\n",
              "        vertical-align: top;\n",
              "    }\n",
              "\n",
              "    .dataframe thead th {\n",
              "        text-align: right;\n",
              "    }\n",
              "</style>\n",
              "<table border=\"1\" class=\"dataframe\">\n",
              "  <thead>\n",
              "    <tr style=\"text-align: right;\">\n",
              "      <th></th>\n",
              "      <th>duration</th>\n",
              "      <th>sentiment_polarity</th>\n",
              "      <th>sentiment_subjectivity</th>\n",
              "      <th>published_year</th>\n",
              "      <th>success</th>\n",
              "      <th>new_tags_TEDx</th>\n",
              "      <th>new_tags_activism</th>\n",
              "      <th>new_tags_art</th>\n",
              "      <th>new_tags_biology</th>\n",
              "      <th>new_tags_brain</th>\n",
              "      <th>...</th>\n",
              "      <th>audience_rating_tag_Funny</th>\n",
              "      <th>audience_rating_tag_Informative</th>\n",
              "      <th>audience_rating_tag_Ingenious</th>\n",
              "      <th>audience_rating_tag_Inspiring</th>\n",
              "      <th>audience_rating_tag_Jaw-dropping</th>\n",
              "      <th>audience_rating_tag_Longwinded</th>\n",
              "      <th>audience_rating_tag_OK</th>\n",
              "      <th>audience_rating_tag_Obnoxious</th>\n",
              "      <th>audience_rating_tag_Persuasive</th>\n",
              "      <th>audience_rating_tag_Unconvincing</th>\n",
              "    </tr>\n",
              "  </thead>\n",
              "  <tbody>\n",
              "    <tr>\n",
              "      <th>0</th>\n",
              "      <td>1164.0</td>\n",
              "      <td>0.146039</td>\n",
              "      <td>0.437350</td>\n",
              "      <td>2006</td>\n",
              "      <td>3.187703</td>\n",
              "      <td>0.0</td>\n",
              "      <td>0.0</td>\n",
              "      <td>0.0</td>\n",
              "      <td>0.0</td>\n",
              "      <td>0.0</td>\n",
              "      <td>...</td>\n",
              "      <td>1.0</td>\n",
              "      <td>0.0</td>\n",
              "      <td>0.0</td>\n",
              "      <td>0.0</td>\n",
              "      <td>0.0</td>\n",
              "      <td>0.0</td>\n",
              "      <td>0.0</td>\n",
              "      <td>0.0</td>\n",
              "      <td>0.0</td>\n",
              "      <td>0.0</td>\n",
              "    </tr>\n",
              "    <tr>\n",
              "      <th>1</th>\n",
              "      <td>977.0</td>\n",
              "      <td>0.013955</td>\n",
              "      <td>0.272996</td>\n",
              "      <td>2006</td>\n",
              "      <td>-0.085984</td>\n",
              "      <td>0.0</td>\n",
              "      <td>0.0</td>\n",
              "      <td>0.0</td>\n",
              "      <td>0.0</td>\n",
              "      <td>0.0</td>\n",
              "      <td>...</td>\n",
              "      <td>1.0</td>\n",
              "      <td>0.0</td>\n",
              "      <td>0.0</td>\n",
              "      <td>0.0</td>\n",
              "      <td>0.0</td>\n",
              "      <td>0.0</td>\n",
              "      <td>0.0</td>\n",
              "      <td>0.0</td>\n",
              "      <td>0.0</td>\n",
              "      <td>0.0</td>\n",
              "    </tr>\n",
              "    <tr>\n",
              "      <th>2</th>\n",
              "      <td>1286.0</td>\n",
              "      <td>0.018199</td>\n",
              "      <td>0.407598</td>\n",
              "      <td>2006</td>\n",
              "      <td>-0.151629</td>\n",
              "      <td>0.0</td>\n",
              "      <td>0.0</td>\n",
              "      <td>0.0</td>\n",
              "      <td>0.0</td>\n",
              "      <td>0.0</td>\n",
              "      <td>...</td>\n",
              "      <td>1.0</td>\n",
              "      <td>0.0</td>\n",
              "      <td>0.0</td>\n",
              "      <td>0.0</td>\n",
              "      <td>0.0</td>\n",
              "      <td>0.0</td>\n",
              "      <td>0.0</td>\n",
              "      <td>0.0</td>\n",
              "      <td>0.0</td>\n",
              "      <td>0.0</td>\n",
              "    </tr>\n",
              "    <tr>\n",
              "      <th>3</th>\n",
              "      <td>1116.0</td>\n",
              "      <td>0.027643</td>\n",
              "      <td>0.283888</td>\n",
              "      <td>2006</td>\n",
              "      <td>-0.183224</td>\n",
              "      <td>0.0</td>\n",
              "      <td>0.0</td>\n",
              "      <td>0.0</td>\n",
              "      <td>0.0</td>\n",
              "      <td>0.0</td>\n",
              "      <td>...</td>\n",
              "      <td>0.0</td>\n",
              "      <td>0.0</td>\n",
              "      <td>0.0</td>\n",
              "      <td>0.0</td>\n",
              "      <td>0.0</td>\n",
              "      <td>0.0</td>\n",
              "      <td>0.0</td>\n",
              "      <td>0.0</td>\n",
              "      <td>0.0</td>\n",
              "      <td>0.0</td>\n",
              "    </tr>\n",
              "    <tr>\n",
              "      <th>4</th>\n",
              "      <td>1190.0</td>\n",
              "      <td>0.365494</td>\n",
              "      <td>0.250210</td>\n",
              "      <td>2006</td>\n",
              "      <td>0.561676</td>\n",
              "      <td>0.0</td>\n",
              "      <td>0.0</td>\n",
              "      <td>0.0</td>\n",
              "      <td>0.0</td>\n",
              "      <td>0.0</td>\n",
              "      <td>...</td>\n",
              "      <td>0.0</td>\n",
              "      <td>0.0</td>\n",
              "      <td>1.0</td>\n",
              "      <td>0.0</td>\n",
              "      <td>0.0</td>\n",
              "      <td>0.0</td>\n",
              "      <td>0.0</td>\n",
              "      <td>0.0</td>\n",
              "      <td>0.0</td>\n",
              "      <td>0.0</td>\n",
              "    </tr>\n",
              "  </tbody>\n",
              "</table>\n",
              "<p>5 rows × 45 columns</p>\n",
              "</div>"
            ],
            "text/plain": [
              "   duration  sentiment_polarity  sentiment_subjectivity published_year  \\\n",
              "0    1164.0            0.146039                0.437350           2006   \n",
              "1     977.0            0.013955                0.272996           2006   \n",
              "2    1286.0            0.018199                0.407598           2006   \n",
              "3    1116.0            0.027643                0.283888           2006   \n",
              "4    1190.0            0.365494                0.250210           2006   \n",
              "\n",
              "    success  new_tags_TEDx  new_tags_activism  new_tags_art  new_tags_biology  \\\n",
              "0  3.187703            0.0                0.0           0.0               0.0   \n",
              "1 -0.085984            0.0                0.0           0.0               0.0   \n",
              "2 -0.151629            0.0                0.0           0.0               0.0   \n",
              "3 -0.183224            0.0                0.0           0.0               0.0   \n",
              "4  0.561676            0.0                0.0           0.0               0.0   \n",
              "\n",
              "   new_tags_brain                ...                 \\\n",
              "0             0.0                ...                  \n",
              "1             0.0                ...                  \n",
              "2             0.0                ...                  \n",
              "3             0.0                ...                  \n",
              "4             0.0                ...                  \n",
              "\n",
              "   audience_rating_tag_Funny  audience_rating_tag_Informative  \\\n",
              "0                        1.0                              0.0   \n",
              "1                        1.0                              0.0   \n",
              "2                        1.0                              0.0   \n",
              "3                        0.0                              0.0   \n",
              "4                        0.0                              0.0   \n",
              "\n",
              "   audience_rating_tag_Ingenious  audience_rating_tag_Inspiring  \\\n",
              "0                            0.0                            0.0   \n",
              "1                            0.0                            0.0   \n",
              "2                            0.0                            0.0   \n",
              "3                            0.0                            0.0   \n",
              "4                            1.0                            0.0   \n",
              "\n",
              "   audience_rating_tag_Jaw-dropping  audience_rating_tag_Longwinded  \\\n",
              "0                               0.0                             0.0   \n",
              "1                               0.0                             0.0   \n",
              "2                               0.0                             0.0   \n",
              "3                               0.0                             0.0   \n",
              "4                               0.0                             0.0   \n",
              "\n",
              "   audience_rating_tag_OK  audience_rating_tag_Obnoxious  \\\n",
              "0                     0.0                            0.0   \n",
              "1                     0.0                            0.0   \n",
              "2                     0.0                            0.0   \n",
              "3                     0.0                            0.0   \n",
              "4                     0.0                            0.0   \n",
              "\n",
              "   audience_rating_tag_Persuasive  audience_rating_tag_Unconvincing  \n",
              "0                             0.0                               0.0  \n",
              "1                             0.0                               0.0  \n",
              "2                             0.0                               0.0  \n",
              "3                             0.0                               0.0  \n",
              "4                             0.0                               0.0  \n",
              "\n",
              "[5 rows x 45 columns]"
            ]
          },
          "metadata": {
            "tags": []
          },
          "execution_count": 276
        }
      ]
    },
    {
      "metadata": {
        "id": "1Jk0F54uvH3P",
        "colab_type": "code",
        "colab": {}
      },
      "cell_type": "code",
      "source": [
        "df_ted_new.dropna(inplace = True)"
      ],
      "execution_count": 0,
      "outputs": []
    },
    {
      "metadata": {
        "id": "O7JA3akvvLxY",
        "colab_type": "code",
        "outputId": "0a73a847-32b3-47f7-f504-d62c3e4309c0",
        "colab": {
          "base_uri": "https://localhost:8080/",
          "height": 175
        }
      },
      "cell_type": "code",
      "source": [
        "df_ted_new[['success']].quantile([0.25, 0.5, 0.75, 1.00])"
      ],
      "execution_count": 0,
      "outputs": [
        {
          "output_type": "execute_result",
          "data": {
            "text/html": [
              "<div>\n",
              "<style scoped>\n",
              "    .dataframe tbody tr th:only-of-type {\n",
              "        vertical-align: middle;\n",
              "    }\n",
              "\n",
              "    .dataframe tbody tr th {\n",
              "        vertical-align: top;\n",
              "    }\n",
              "\n",
              "    .dataframe thead th {\n",
              "        text-align: right;\n",
              "    }\n",
              "</style>\n",
              "<table border=\"1\" class=\"dataframe\">\n",
              "  <thead>\n",
              "    <tr style=\"text-align: right;\">\n",
              "      <th></th>\n",
              "      <th>success</th>\n",
              "    </tr>\n",
              "  </thead>\n",
              "  <tbody>\n",
              "    <tr>\n",
              "      <th>0.25</th>\n",
              "      <td>-0.266231</td>\n",
              "    </tr>\n",
              "    <tr>\n",
              "      <th>0.50</th>\n",
              "      <td>-0.200246</td>\n",
              "    </tr>\n",
              "    <tr>\n",
              "      <th>0.75</th>\n",
              "      <td>-0.084479</td>\n",
              "    </tr>\n",
              "    <tr>\n",
              "      <th>1.00</th>\n",
              "      <td>51.052931</td>\n",
              "    </tr>\n",
              "  </tbody>\n",
              "</table>\n",
              "</div>"
            ],
            "text/plain": [
              "        success\n",
              "0.25  -0.266231\n",
              "0.50  -0.200246\n",
              "0.75  -0.084479\n",
              "1.00  51.052931"
            ]
          },
          "metadata": {
            "tags": []
          },
          "execution_count": 278
        }
      ]
    },
    {
      "metadata": {
        "id": "pqPPZ5GGvQSv",
        "colab_type": "code",
        "colab": {}
      },
      "cell_type": "code",
      "source": [
        "def categorize_success(success):\n",
        "    if success <= -0.266231:\n",
        "        return 0\n",
        "    elif success > -0.266231 and success<= -0.084479:\n",
        "        return 1\n",
        "    else:\n",
        "        return 2"
      ],
      "execution_count": 0,
      "outputs": []
    },
    {
      "metadata": {
        "id": "5_H8-rnpvStB",
        "colab_type": "code",
        "colab": {}
      },
      "cell_type": "code",
      "source": [
        "df_ted_new['success_category'] = df_ted_new['success'].apply(lambda x: categorize_success(x))"
      ],
      "execution_count": 0,
      "outputs": []
    },
    {
      "metadata": {
        "id": "sVsp3m9WvUj0",
        "colab_type": "code",
        "outputId": "16f68489-8cb2-460e-f92c-9ac2afdbc776",
        "colab": {
          "base_uri": "https://localhost:8080/",
          "height": 273
        }
      },
      "cell_type": "code",
      "source": [
        "df_ted_new.head()"
      ],
      "execution_count": 0,
      "outputs": [
        {
          "output_type": "execute_result",
          "data": {
            "text/html": [
              "<div>\n",
              "<style scoped>\n",
              "    .dataframe tbody tr th:only-of-type {\n",
              "        vertical-align: middle;\n",
              "    }\n",
              "\n",
              "    .dataframe tbody tr th {\n",
              "        vertical-align: top;\n",
              "    }\n",
              "\n",
              "    .dataframe thead th {\n",
              "        text-align: right;\n",
              "    }\n",
              "</style>\n",
              "<table border=\"1\" class=\"dataframe\">\n",
              "  <thead>\n",
              "    <tr style=\"text-align: right;\">\n",
              "      <th></th>\n",
              "      <th>duration</th>\n",
              "      <th>sentiment_polarity</th>\n",
              "      <th>sentiment_subjectivity</th>\n",
              "      <th>published_year</th>\n",
              "      <th>success</th>\n",
              "      <th>new_tags_TEDx</th>\n",
              "      <th>new_tags_activism</th>\n",
              "      <th>new_tags_art</th>\n",
              "      <th>new_tags_biology</th>\n",
              "      <th>new_tags_brain</th>\n",
              "      <th>...</th>\n",
              "      <th>audience_rating_tag_Informative</th>\n",
              "      <th>audience_rating_tag_Ingenious</th>\n",
              "      <th>audience_rating_tag_Inspiring</th>\n",
              "      <th>audience_rating_tag_Jaw-dropping</th>\n",
              "      <th>audience_rating_tag_Longwinded</th>\n",
              "      <th>audience_rating_tag_OK</th>\n",
              "      <th>audience_rating_tag_Obnoxious</th>\n",
              "      <th>audience_rating_tag_Persuasive</th>\n",
              "      <th>audience_rating_tag_Unconvincing</th>\n",
              "      <th>success_category</th>\n",
              "    </tr>\n",
              "  </thead>\n",
              "  <tbody>\n",
              "    <tr>\n",
              "      <th>0</th>\n",
              "      <td>1164.0</td>\n",
              "      <td>0.146039</td>\n",
              "      <td>0.437350</td>\n",
              "      <td>2006</td>\n",
              "      <td>3.187703</td>\n",
              "      <td>0.0</td>\n",
              "      <td>0.0</td>\n",
              "      <td>0.0</td>\n",
              "      <td>0.0</td>\n",
              "      <td>0.0</td>\n",
              "      <td>...</td>\n",
              "      <td>0.0</td>\n",
              "      <td>0.0</td>\n",
              "      <td>0.0</td>\n",
              "      <td>0.0</td>\n",
              "      <td>0.0</td>\n",
              "      <td>0.0</td>\n",
              "      <td>0.0</td>\n",
              "      <td>0.0</td>\n",
              "      <td>0.0</td>\n",
              "      <td>2</td>\n",
              "    </tr>\n",
              "    <tr>\n",
              "      <th>1</th>\n",
              "      <td>977.0</td>\n",
              "      <td>0.013955</td>\n",
              "      <td>0.272996</td>\n",
              "      <td>2006</td>\n",
              "      <td>-0.085984</td>\n",
              "      <td>0.0</td>\n",
              "      <td>0.0</td>\n",
              "      <td>0.0</td>\n",
              "      <td>0.0</td>\n",
              "      <td>0.0</td>\n",
              "      <td>...</td>\n",
              "      <td>0.0</td>\n",
              "      <td>0.0</td>\n",
              "      <td>0.0</td>\n",
              "      <td>0.0</td>\n",
              "      <td>0.0</td>\n",
              "      <td>0.0</td>\n",
              "      <td>0.0</td>\n",
              "      <td>0.0</td>\n",
              "      <td>0.0</td>\n",
              "      <td>1</td>\n",
              "    </tr>\n",
              "    <tr>\n",
              "      <th>2</th>\n",
              "      <td>1286.0</td>\n",
              "      <td>0.018199</td>\n",
              "      <td>0.407598</td>\n",
              "      <td>2006</td>\n",
              "      <td>-0.151629</td>\n",
              "      <td>0.0</td>\n",
              "      <td>0.0</td>\n",
              "      <td>0.0</td>\n",
              "      <td>0.0</td>\n",
              "      <td>0.0</td>\n",
              "      <td>...</td>\n",
              "      <td>0.0</td>\n",
              "      <td>0.0</td>\n",
              "      <td>0.0</td>\n",
              "      <td>0.0</td>\n",
              "      <td>0.0</td>\n",
              "      <td>0.0</td>\n",
              "      <td>0.0</td>\n",
              "      <td>0.0</td>\n",
              "      <td>0.0</td>\n",
              "      <td>1</td>\n",
              "    </tr>\n",
              "    <tr>\n",
              "      <th>3</th>\n",
              "      <td>1116.0</td>\n",
              "      <td>0.027643</td>\n",
              "      <td>0.283888</td>\n",
              "      <td>2006</td>\n",
              "      <td>-0.183224</td>\n",
              "      <td>0.0</td>\n",
              "      <td>0.0</td>\n",
              "      <td>0.0</td>\n",
              "      <td>0.0</td>\n",
              "      <td>0.0</td>\n",
              "      <td>...</td>\n",
              "      <td>0.0</td>\n",
              "      <td>0.0</td>\n",
              "      <td>0.0</td>\n",
              "      <td>0.0</td>\n",
              "      <td>0.0</td>\n",
              "      <td>0.0</td>\n",
              "      <td>0.0</td>\n",
              "      <td>0.0</td>\n",
              "      <td>0.0</td>\n",
              "      <td>1</td>\n",
              "    </tr>\n",
              "    <tr>\n",
              "      <th>4</th>\n",
              "      <td>1190.0</td>\n",
              "      <td>0.365494</td>\n",
              "      <td>0.250210</td>\n",
              "      <td>2006</td>\n",
              "      <td>0.561676</td>\n",
              "      <td>0.0</td>\n",
              "      <td>0.0</td>\n",
              "      <td>0.0</td>\n",
              "      <td>0.0</td>\n",
              "      <td>0.0</td>\n",
              "      <td>...</td>\n",
              "      <td>0.0</td>\n",
              "      <td>1.0</td>\n",
              "      <td>0.0</td>\n",
              "      <td>0.0</td>\n",
              "      <td>0.0</td>\n",
              "      <td>0.0</td>\n",
              "      <td>0.0</td>\n",
              "      <td>0.0</td>\n",
              "      <td>0.0</td>\n",
              "      <td>2</td>\n",
              "    </tr>\n",
              "  </tbody>\n",
              "</table>\n",
              "<p>5 rows × 46 columns</p>\n",
              "</div>"
            ],
            "text/plain": [
              "   duration  sentiment_polarity  sentiment_subjectivity published_year  \\\n",
              "0    1164.0            0.146039                0.437350           2006   \n",
              "1     977.0            0.013955                0.272996           2006   \n",
              "2    1286.0            0.018199                0.407598           2006   \n",
              "3    1116.0            0.027643                0.283888           2006   \n",
              "4    1190.0            0.365494                0.250210           2006   \n",
              "\n",
              "    success  new_tags_TEDx  new_tags_activism  new_tags_art  new_tags_biology  \\\n",
              "0  3.187703            0.0                0.0           0.0               0.0   \n",
              "1 -0.085984            0.0                0.0           0.0               0.0   \n",
              "2 -0.151629            0.0                0.0           0.0               0.0   \n",
              "3 -0.183224            0.0                0.0           0.0               0.0   \n",
              "4  0.561676            0.0                0.0           0.0               0.0   \n",
              "\n",
              "   new_tags_brain        ...         audience_rating_tag_Informative  \\\n",
              "0             0.0        ...                                     0.0   \n",
              "1             0.0        ...                                     0.0   \n",
              "2             0.0        ...                                     0.0   \n",
              "3             0.0        ...                                     0.0   \n",
              "4             0.0        ...                                     0.0   \n",
              "\n",
              "   audience_rating_tag_Ingenious  audience_rating_tag_Inspiring  \\\n",
              "0                            0.0                            0.0   \n",
              "1                            0.0                            0.0   \n",
              "2                            0.0                            0.0   \n",
              "3                            0.0                            0.0   \n",
              "4                            1.0                            0.0   \n",
              "\n",
              "   audience_rating_tag_Jaw-dropping  audience_rating_tag_Longwinded  \\\n",
              "0                               0.0                             0.0   \n",
              "1                               0.0                             0.0   \n",
              "2                               0.0                             0.0   \n",
              "3                               0.0                             0.0   \n",
              "4                               0.0                             0.0   \n",
              "\n",
              "   audience_rating_tag_OK  audience_rating_tag_Obnoxious  \\\n",
              "0                     0.0                            0.0   \n",
              "1                     0.0                            0.0   \n",
              "2                     0.0                            0.0   \n",
              "3                     0.0                            0.0   \n",
              "4                     0.0                            0.0   \n",
              "\n",
              "   audience_rating_tag_Persuasive  audience_rating_tag_Unconvincing  \\\n",
              "0                             0.0                               0.0   \n",
              "1                             0.0                               0.0   \n",
              "2                             0.0                               0.0   \n",
              "3                             0.0                               0.0   \n",
              "4                             0.0                               0.0   \n",
              "\n",
              "   success_category  \n",
              "0                 2  \n",
              "1                 1  \n",
              "2                 1  \n",
              "3                 1  \n",
              "4                 2  \n",
              "\n",
              "[5 rows x 46 columns]"
            ]
          },
          "metadata": {
            "tags": []
          },
          "execution_count": 281
        }
      ]
    },
    {
      "metadata": {
        "id": "40KE8mA7EtC-",
        "colab_type": "code",
        "outputId": "8c45fe09-2db9-4472-a435-1f2f12c0337c",
        "colab": {
          "base_uri": "https://localhost:8080/",
          "height": 502
        }
      },
      "cell_type": "code",
      "source": [
        "plt.rcParams[\"figure.figsize\"] = (10, 8)\n",
        "\n",
        "df_ted_new[['success_category']].plot.hist(bins = 3)"
      ],
      "execution_count": 0,
      "outputs": [
        {
          "output_type": "execute_result",
          "data": {
            "text/plain": [
              "<matplotlib.axes._subplots.AxesSubplot at 0x7fafd1e7a048>"
            ]
          },
          "metadata": {
            "tags": []
          },
          "execution_count": 282
        },
        {
          "output_type": "display_data",
          "data": {
            "image/png": "[encoded data removed]",
            "text/plain": [
              "<Figure size 720x576 with 1 Axes>"
            ]
          },
          "metadata": {
            "tags": []
          }
        }
      ]
    },
    {
      "metadata": {
        "id": "AHln_aGovWFG",
        "colab_type": "code",
        "colab": {}
      },
      "cell_type": "code",
      "source": [
        "X = df_ted_new.drop(['success', 'success_category'], axis = 1)\n",
        "y = df_ted_new[['success_category']]"
      ],
      "execution_count": 0,
      "outputs": []
    },
    {
      "metadata": {
        "id": "-aeLOMYHvYam",
        "colab_type": "code",
        "colab": {}
      },
      "cell_type": "code",
      "source": [
        "X_train, X_test, y_train, y_test = train_test_split(X, y, test_size=0.4)"
      ],
      "execution_count": 0,
      "outputs": []
    },
    {
      "metadata": {
        "id": "PckhJ8TIGv1h",
        "colab_type": "code",
        "colab": {}
      },
      "cell_type": "code",
      "source": [
        "def check_performace_with_tuning(n_est):\n",
        "  rf_clf = RandomForestClassifier(n_estimators = n_est, max_features = 'auto')\n",
        "  rf_clf.fit(X_train, y_train)\n",
        "  y_pred = rf_clf.predict(X_test)\n",
        "  return metrics.accuracy_score(y_test, y_pred)\n",
        "                          "
      ],
      "execution_count": 0,
      "outputs": []
    },
    {
      "metadata": {
        "id": "E3qZSHPlc7zV",
        "colab_type": "code",
        "colab": {}
      },
      "cell_type": "code",
      "source": [
        "n_est = list(range(100, 2000, 50))"
      ],
      "execution_count": 0,
      "outputs": []
    },
    {
      "metadata": {
        "id": "AvJJRxZ7dJO3",
        "colab_type": "code",
        "outputId": "f0b36f45-b5ea-4dcf-a846-2833dcee7c85",
        "colab": {
          "base_uri": "https://localhost:8080/",
          "height": 1458
        }
      },
      "cell_type": "code",
      "source": [
        "performance = list(map(lambda x: check_performace_with_tuning(x), n_est))"
      ],
      "execution_count": 0,
      "outputs": [
        {
          "output_type": "stream",
          "text": [
            "/usr/local/lib/python3.6/dist-packages/ipykernel_launcher.py:3: DataConversionWarning: A column-vector y was passed when a 1d array was expected. Please change the shape of y to (n_samples,), for example using ravel().\n",
            "  This is separate from the ipykernel package so we can avoid doing imports until\n",
            "/usr/local/lib/python3.6/dist-packages/ipykernel_launcher.py:3: DataConversionWarning: A column-vector y was passed when a 1d array was expected. Please change the shape of y to (n_samples,), for example using ravel().\n",
            "  This is separate from the ipykernel package so we can avoid doing imports until\n",
            "/usr/local/lib/python3.6/dist-packages/ipykernel_launcher.py:3: DataConversionWarning: A column-vector y was passed when a 1d array was expected. Please change the shape of y to (n_samples,), for example using ravel().\n",
            "  This is separate from the ipykernel package so we can avoid doing imports until\n",
            "/usr/local/lib/python3.6/dist-packages/ipykernel_launcher.py:3: DataConversionWarning: A column-vector y was passed when a 1d array was expected. Please change the shape of y to (n_samples,), for example using ravel().\n",
            "  This is separate from the ipykernel package so we can avoid doing imports until\n",
            "/usr/local/lib/python3.6/dist-packages/ipykernel_launcher.py:3: DataConversionWarning: A column-vector y was passed when a 1d array was expected. Please change the shape of y to (n_samples,), for example using ravel().\n",
            "  This is separate from the ipykernel package so we can avoid doing imports until\n",
            "/usr/local/lib/python3.6/dist-packages/ipykernel_launcher.py:3: DataConversionWarning: A column-vector y was passed when a 1d array was expected. Please change the shape of y to (n_samples,), for example using ravel().\n",
            "  This is separate from the ipykernel package so we can avoid doing imports until\n",
            "/usr/local/lib/python3.6/dist-packages/ipykernel_launcher.py:3: DataConversionWarning: A column-vector y was passed when a 1d array was expected. Please change the shape of y to (n_samples,), for example using ravel().\n",
            "  This is separate from the ipykernel package so we can avoid doing imports until\n",
            "/usr/local/lib/python3.6/dist-packages/ipykernel_launcher.py:3: DataConversionWarning: A column-vector y was passed when a 1d array was expected. Please change the shape of y to (n_samples,), for example using ravel().\n",
            "  This is separate from the ipykernel package so we can avoid doing imports until\n",
            "/usr/local/lib/python3.6/dist-packages/ipykernel_launcher.py:3: DataConversionWarning: A column-vector y was passed when a 1d array was expected. Please change the shape of y to (n_samples,), for example using ravel().\n",
            "  This is separate from the ipykernel package so we can avoid doing imports until\n",
            "/usr/local/lib/python3.6/dist-packages/ipykernel_launcher.py:3: DataConversionWarning: A column-vector y was passed when a 1d array was expected. Please change the shape of y to (n_samples,), for example using ravel().\n",
            "  This is separate from the ipykernel package so we can avoid doing imports until\n",
            "/usr/local/lib/python3.6/dist-packages/ipykernel_launcher.py:3: DataConversionWarning: A column-vector y was passed when a 1d array was expected. Please change the shape of y to (n_samples,), for example using ravel().\n",
            "  This is separate from the ipykernel package so we can avoid doing imports until\n",
            "/usr/local/lib/python3.6/dist-packages/ipykernel_launcher.py:3: DataConversionWarning: A column-vector y was passed when a 1d array was expected. Please change the shape of y to (n_samples,), for example using ravel().\n",
            "  This is separate from the ipykernel package so we can avoid doing imports until\n",
            "/usr/local/lib/python3.6/dist-packages/ipykernel_launcher.py:3: DataConversionWarning: A column-vector y was passed when a 1d array was expected. Please change the shape of y to (n_samples,), for example using ravel().\n",
            "  This is separate from the ipykernel package so we can avoid doing imports until\n",
            "/usr/local/lib/python3.6/dist-packages/ipykernel_launcher.py:3: DataConversionWarning: A column-vector y was passed when a 1d array was expected. Please change the shape of y to (n_samples,), for example using ravel().\n",
            "  This is separate from the ipykernel package so we can avoid doing imports until\n",
            "/usr/local/lib/python3.6/dist-packages/ipykernel_launcher.py:3: DataConversionWarning: A column-vector y was passed when a 1d array was expected. Please change the shape of y to (n_samples,), for example using ravel().\n",
            "  This is separate from the ipykernel package so we can avoid doing imports until\n",
            "/usr/local/lib/python3.6/dist-packages/ipykernel_launcher.py:3: DataConversionWarning: A column-vector y was passed when a 1d array was expected. Please change the shape of y to (n_samples,), for example using ravel().\n",
            "  This is separate from the ipykernel package so we can avoid doing imports until\n",
            "/usr/local/lib/python3.6/dist-packages/ipykernel_launcher.py:3: DataConversionWarning: A column-vector y was passed when a 1d array was expected. Please change the shape of y to (n_samples,), for example using ravel().\n",
            "  This is separate from the ipykernel package so we can avoid doing imports until\n",
            "/usr/local/lib/python3.6/dist-packages/ipykernel_launcher.py:3: DataConversionWarning: A column-vector y was passed when a 1d array was expected. Please change the shape of y to (n_samples,), for example using ravel().\n",
            "  This is separate from the ipykernel package so we can avoid doing imports until\n",
            "/usr/local/lib/python3.6/dist-packages/ipykernel_launcher.py:3: DataConversionWarning: A column-vector y was passed when a 1d array was expected. Please change the shape of y to (n_samples,), for example using ravel().\n",
            "  This is separate from the ipykernel package so we can avoid doing imports until\n",
            "/usr/local/lib/python3.6/dist-packages/ipykernel_launcher.py:3: DataConversionWarning: A column-vector y was passed when a 1d array was expected. Please change the shape of y to (n_samples,), for example using ravel().\n",
            "  This is separate from the ipykernel package so we can avoid doing imports until\n",
            "/usr/local/lib/python3.6/dist-packages/ipykernel_launcher.py:3: DataConversionWarning: A column-vector y was passed when a 1d array was expected. Please change the shape of y to (n_samples,), for example using ravel().\n",
            "  This is separate from the ipykernel package so we can avoid doing imports until\n",
            "/usr/local/lib/python3.6/dist-packages/ipykernel_launcher.py:3: DataConversionWarning: A column-vector y was passed when a 1d array was expected. Please change the shape of y to (n_samples,), for example using ravel().\n",
            "  This is separate from the ipykernel package so we can avoid doing imports until\n",
            "/usr/local/lib/python3.6/dist-packages/ipykernel_launcher.py:3: DataConversionWarning: A column-vector y was passed when a 1d array was expected. Please change the shape of y to (n_samples,), for example using ravel().\n",
            "  This is separate from the ipykernel package so we can avoid doing imports until\n",
            "/usr/local/lib/python3.6/dist-packages/ipykernel_launcher.py:3: DataConversionWarning: A column-vector y was passed when a 1d array was expected. Please change the shape of y to (n_samples,), for example using ravel().\n",
            "  This is separate from the ipykernel package so we can avoid doing imports until\n",
            "/usr/local/lib/python3.6/dist-packages/ipykernel_launcher.py:3: DataConversionWarning: A column-vector y was passed when a 1d array was expected. Please change the shape of y to (n_samples,), for example using ravel().\n",
            "  This is separate from the ipykernel package so we can avoid doing imports until\n",
            "/usr/local/lib/python3.6/dist-packages/ipykernel_launcher.py:3: DataConversionWarning: A column-vector y was passed when a 1d array was expected. Please change the shape of y to (n_samples,), for example using ravel().\n",
            "  This is separate from the ipykernel package so we can avoid doing imports until\n",
            "/usr/local/lib/python3.6/dist-packages/ipykernel_launcher.py:3: DataConversionWarning: A column-vector y was passed when a 1d array was expected. Please change the shape of y to (n_samples,), for example using ravel().\n",
            "  This is separate from the ipykernel package so we can avoid doing imports until\n",
            "/usr/local/lib/python3.6/dist-packages/ipykernel_launcher.py:3: DataConversionWarning: A column-vector y was passed when a 1d array was expected. Please change the shape of y to (n_samples,), for example using ravel().\n",
            "  This is separate from the ipykernel package so we can avoid doing imports until\n",
            "/usr/local/lib/python3.6/dist-packages/ipykernel_launcher.py:3: DataConversionWarning: A column-vector y was passed when a 1d array was expected. Please change the shape of y to (n_samples,), for example using ravel().\n",
            "  This is separate from the ipykernel package so we can avoid doing imports until\n",
            "/usr/local/lib/python3.6/dist-packages/ipykernel_launcher.py:3: DataConversionWarning: A column-vector y was passed when a 1d array was expected. Please change the shape of y to (n_samples,), for example using ravel().\n",
            "  This is separate from the ipykernel package so we can avoid doing imports until\n",
            "/usr/local/lib/python3.6/dist-packages/ipykernel_launcher.py:3: DataConversionWarning: A column-vector y was passed when a 1d array was expected. Please change the shape of y to (n_samples,), for example using ravel().\n",
            "  This is separate from the ipykernel package so we can avoid doing imports until\n",
            "/usr/local/lib/python3.6/dist-packages/ipykernel_launcher.py:3: DataConversionWarning: A column-vector y was passed when a 1d array was expected. Please change the shape of y to (n_samples,), for example using ravel().\n",
            "  This is separate from the ipykernel package so we can avoid doing imports until\n",
            "/usr/local/lib/python3.6/dist-packages/ipykernel_launcher.py:3: DataConversionWarning: A column-vector y was passed when a 1d array was expected. Please change the shape of y to (n_samples,), for example using ravel().\n",
            "  This is separate from the ipykernel package so we can avoid doing imports until\n",
            "/usr/local/lib/python3.6/dist-packages/ipykernel_launcher.py:3: DataConversionWarning: A column-vector y was passed when a 1d array was expected. Please change the shape of y to (n_samples,), for example using ravel().\n",
            "  This is separate from the ipykernel package so we can avoid doing imports until\n",
            "/usr/local/lib/python3.6/dist-packages/ipykernel_launcher.py:3: DataConversionWarning: A column-vector y was passed when a 1d array was expected. Please change the shape of y to (n_samples,), for example using ravel().\n",
            "  This is separate from the ipykernel package so we can avoid doing imports until\n",
            "/usr/local/lib/python3.6/dist-packages/ipykernel_launcher.py:3: DataConversionWarning: A column-vector y was passed when a 1d array was expected. Please change the shape of y to (n_samples,), for example using ravel().\n",
            "  This is separate from the ipykernel package so we can avoid doing imports until\n",
            "/usr/local/lib/python3.6/dist-packages/ipykernel_launcher.py:3: DataConversionWarning: A column-vector y was passed when a 1d array was expected. Please change the shape of y to (n_samples,), for example using ravel().\n",
            "  This is separate from the ipykernel package so we can avoid doing imports until\n",
            "/usr/local/lib/python3.6/dist-packages/ipykernel_launcher.py:3: DataConversionWarning: A column-vector y was passed when a 1d array was expected. Please change the shape of y to (n_samples,), for example using ravel().\n",
            "  This is separate from the ipykernel package so we can avoid doing imports until\n"
          ],
          "name": "stderr"
        }
      ]
    },
    {
      "metadata": {
        "id": "pXMzlzG-dTN4",
        "colab_type": "code",
        "outputId": "2c1bda65-57fb-4767-ee83-59aa7164c079",
        "colab": {
          "base_uri": "https://localhost:8080/",
          "height": 502
        }
      },
      "cell_type": "code",
      "source": [
        "plt.plot(n_est, performance)"
      ],
      "execution_count": 0,
      "outputs": [
        {
          "output_type": "execute_result",
          "data": {
            "text/plain": [
              "[<matplotlib.lines.Line2D at 0x7fafd15bf630>]"
            ]
          },
          "metadata": {
            "tags": []
          },
          "execution_count": 310
        },
        {
          "output_type": "display_data",
          "data": {
            "image/png": "[encoded data removed]",
            "text/plain": [
              "<Figure size 720x576 with 1 Axes>"
            ]
          },
          "metadata": {
            "tags": []
          }
        }
      ]
    },
    {
      "metadata": {
        "id": "wZyAJSHnva1f",
        "colab_type": "code",
        "colab": {}
      },
      "cell_type": "code",
      "source": [
        "rf_clf = RandomForestClassifier(n_estimators = 500, max_features = 'auto')"
      ],
      "execution_count": 0,
      "outputs": []
    },
    {
      "metadata": {
        "id": "E0XVfeR_vjn3",
        "colab_type": "code",
        "outputId": "0ba32576-bf75-4936-8051-5c52c448beec",
        "colab": {
          "base_uri": "https://localhost:8080/",
          "height": 205
        }
      },
      "cell_type": "code",
      "source": [
        "rf_clf.fit(X_train, y_train)"
      ],
      "execution_count": 0,
      "outputs": [
        {
          "output_type": "stream",
          "text": [
            "/usr/local/lib/python3.6/dist-packages/ipykernel_launcher.py:1: DataConversionWarning: A column-vector y was passed when a 1d array was expected. Please change the shape of y to (n_samples,), for example using ravel().\n",
            "  \"\"\"Entry point for launching an IPython kernel.\n"
          ],
          "name": "stderr"
        },
        {
          "output_type": "execute_result",
          "data": {
            "text/plain": [
              "RandomForestClassifier(bootstrap=True, class_weight=None, criterion='gini',\n",
              "            max_depth=None, max_features='auto', max_leaf_nodes=None,\n",
              "            min_impurity_decrease=0.0, min_impurity_split=None,\n",
              "            min_samples_leaf=1, min_samples_split=2,\n",
              "            min_weight_fraction_leaf=0.0, n_estimators=500, n_jobs=None,\n",
              "            oob_score=False, random_state=None, verbose=0,\n",
              "            warm_start=False)"
            ]
          },
          "metadata": {
            "tags": []
          },
          "execution_count": 312
        }
      ]
    },
    {
      "metadata": {
        "id": "DyMLevJ6veTs",
        "colab_type": "code",
        "colab": {}
      },
      "cell_type": "code",
      "source": [
        "y_pred = rf_clf.predict(X_test)"
      ],
      "execution_count": 0,
      "outputs": []
    },
    {
      "metadata": {
        "id": "laxwkEvGvt7d",
        "colab_type": "code",
        "outputId": "f05f03df-1f7f-4465-f62e-133c383cebf5",
        "colab": {
          "base_uri": "https://localhost:8080/",
          "height": 36
        }
      },
      "cell_type": "code",
      "source": [
        "from sklearn import metrics\n",
        "metrics.accuracy_score(y_test, y_pred)"
      ],
      "execution_count": 0,
      "outputs": [
        {
          "output_type": "execute_result",
          "data": {
            "text/plain": [
              "0.5101832993890021"
            ]
          },
          "metadata": {
            "tags": []
          },
          "execution_count": 314
        }
      ]
    },
    {
      "metadata": {
        "id": "dcUfNWWQvvjW",
        "colab_type": "code",
        "outputId": "56013546-c5cc-46f6-a15d-0325d0fbef8c",
        "colab": {
          "base_uri": "https://localhost:8080/",
          "height": 73
        }
      },
      "cell_type": "code",
      "source": [
        "metrics.confusion_matrix(y_test,y_pred)"
      ],
      "execution_count": 0,
      "outputs": [
        {
          "output_type": "execute_result",
          "data": {
            "text/plain": [
              "array([[ 72, 169,  23],\n",
              "       [ 51, 390,  43],\n",
              "       [ 25, 170,  39]])"
            ]
          },
          "metadata": {
            "tags": []
          },
          "execution_count": 316
        }
      ]
    },
    {
      "metadata": {
        "id": "yM716giyGoRC",
        "colab_type": "code",
        "outputId": "2cfab020-56d4-4dbc-bc8b-123fb0780474",
        "colab": {
          "base_uri": "https://localhost:8080/",
          "height": 502
        }
      },
      "cell_type": "code",
      "source": [
        "sns.heatmap(metrics.confusion_matrix(y_test,y_pred))"
      ],
      "execution_count": 0,
      "outputs": [
        {
          "output_type": "execute_result",
          "data": {
            "text/plain": [
              "<matplotlib.axes._subplots.AxesSubplot at 0x7fafd157a6a0>"
            ]
          },
          "metadata": {
            "tags": []
          },
          "execution_count": 317
        },
        {
          "output_type": "display_data",
          "data": {
            "image/png": "[encoded data removed]",
            "text/plain": [
              "<Figure size 720x576 with 2 Axes>"
            ]
          },
          "metadata": {
            "tags": []
          }
        }
      ]
    },
    {
      "metadata": {
        "id": "_dXXsAudgs74",
        "colab_type": "text"
      },
      "cell_type": "markdown",
      "source": [
        "## Conclusion"
      ]
    },
    {
      "metadata": {
        "id": "OiZzEjpqgzOG",
        "colab_type": "text"
      },
      "cell_type": "markdown",
      "source": [
        "\n",
        "\n",
        "*   Tuning n estimator can get accuracy only upto o51%. . Other parameters such as max features need to be explored\n",
        "*   The model is predicting most of the vidoes in the \"1\" bucket. Bucket size needs to be changed or more buckets need to be added\n",
        "* Tradeoff:\n",
        ">* Increasing n estimate from 500 to 800 could make the accuracy better but increases the processing time as well so n = 500\n",
        ">*  An increase in test data set makes the model better, however decreasing the train data set\n",
        "\n",
        "\n",
        "\n"
      ]
    },
    {
      "metadata": {
        "id": "uu7Q8mfQgA4q",
        "colab_type": "code",
        "colab": {}
      },
      "cell_type": "code",
      "source": [
        ""
      ],
      "execution_count": 0,
      "outputs": []
    }
  ]
}