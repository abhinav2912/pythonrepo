{
  "nbformat": 4,
  "nbformat_minor": 0,
  "metadata": {
    "colab": {
      "name": "Zillow Exploration: Timeseries Prediction.ipynb",
      "version": "0.3.2",
      "provenance": [],
      "collapsed_sections": [
        "XenkSb41LNaA",
        "yBHz-tyCLSF2",
        "M4Tuu5GtZbxX"
      ]
    },
    "kernelspec": {
      "name": "python3",
      "display_name": "Python 3"
    },
    "accelerator": "GPU"
  },
  "cells": [
    {
      "metadata": {
        "id": "lkNjrilMLIFy",
        "colab_type": "text"
      },
      "cell_type": "markdown",
      "source": [
        "# Explore Zillow timeseries using Prophet and Linear Regression"
      ]
    },
    {
      "metadata": {
        "id": "XenkSb41LNaA",
        "colab_type": "text"
      },
      "cell_type": "markdown",
      "source": [
        "## Ingest"
      ]
    },
    {
      "metadata": {
        "id": "azFBbTNEI71Y",
        "colab_type": "code",
        "outputId": "5411d11e-f6be-43f4-e86f-d9758083582b",
        "colab": {
          "base_uri": "https://localhost:8080/"
        }
      },
      "cell_type": "code",
      "source": [
        "import pandas as pd\n",
        "pd.set_option('display.float_format', lambda x: '%.3f' % x)\n",
        "import numpy as np\n",
        "import statsmodels.api as sm\n",
        "import statsmodels.formula.api as smf\n",
        "import matplotlib.pyplot as plt\n",
        "import seaborn as sns\n",
        "import seaborn as sns; sns.set(color_codes=True)\n",
        "from sklearn.cluster import KMeans\n",
        "color = sns.color_palette()\n",
        "from IPython.core.display import display, HTML\n",
        "display(HTML(\"<style>.container { width:100% !important; }</style>\"))\n",
        "%matplotlib inline"
      ],
      "execution_count": 0,
      "outputs": [
        {
          "output_type": "stream",
          "text": [
            "/usr/local/lib/python3.6/dist-packages/statsmodels/compat/pandas.py:56: FutureWarning: The pandas.core.datetools module is deprecated and will be removed in a future version. Please use the pandas.tseries module instead.\n",
            "  from pandas.core import datetools\n"
          ],
          "name": "stderr"
        },
        {
          "output_type": "display_data",
          "data": {
            "text/html": [
              "<style>.container { width:100% !important; }</style>"
            ],
            "text/plain": [
              "<IPython.core.display.HTML object>"
            ]
          },
          "metadata": {
            "tags": []
          }
        }
      ]
    },
    {
      "metadata": {
        "id": "pWFsalGNI71g",
        "colab_type": "code",
        "colab": {}
      },
      "cell_type": "code",
      "source": [
        "df = pd.read_csv(\"https://raw.githubusercontent.com/noahgift/real_estate_ml/master/data/Zip_Zhvi_SingleFamilyResidence_2018.csv\")\n"
      ],
      "execution_count": 0,
      "outputs": []
    },
    {
      "metadata": {
        "id": "yBHz-tyCLSF2",
        "colab_type": "text"
      },
      "cell_type": "markdown",
      "source": [
        "## EDA"
      ]
    },
    {
      "metadata": {
        "scrolled": true,
        "id": "dTlkq_MLI71k",
        "colab_type": "code",
        "outputId": "ff6b4dfe-e4b8-4dbb-e7a7-b8bcec9dfcca",
        "colab": {
          "base_uri": "https://localhost:8080/"
        }
      },
      "cell_type": "code",
      "source": [
        "df.describe()"
      ],
      "execution_count": 0,
      "outputs": [
        {
          "output_type": "execute_result",
          "data": {
            "text/html": [
              "<div>\n",
              "<style scoped>\n",
              "    .dataframe tbody tr th:only-of-type {\n",
              "        vertical-align: middle;\n",
              "    }\n",
              "\n",
              "    .dataframe tbody tr th {\n",
              "        vertical-align: top;\n",
              "    }\n",
              "\n",
              "    .dataframe thead th {\n",
              "        text-align: right;\n",
              "    }\n",
              "</style>\n",
              "<table border=\"1\" class=\"dataframe\">\n",
              "  <thead>\n",
              "    <tr style=\"text-align: right;\">\n",
              "      <th></th>\n",
              "      <th>RegionID</th>\n",
              "      <th>RegionName</th>\n",
              "      <th>SizeRank</th>\n",
              "      <th>1996-04</th>\n",
              "      <th>1996-05</th>\n",
              "      <th>1996-06</th>\n",
              "      <th>1996-07</th>\n",
              "      <th>1996-08</th>\n",
              "      <th>1996-09</th>\n",
              "      <th>1996-10</th>\n",
              "      <th>...</th>\n",
              "      <th>2018-03</th>\n",
              "      <th>2018-04</th>\n",
              "      <th>2018-05</th>\n",
              "      <th>2018-06</th>\n",
              "      <th>2018-07</th>\n",
              "      <th>2018-08</th>\n",
              "      <th>2018-09</th>\n",
              "      <th>2018-10</th>\n",
              "      <th>2018-11</th>\n",
              "      <th>2018-12</th>\n",
              "    </tr>\n",
              "  </thead>\n",
              "  <tbody>\n",
              "    <tr>\n",
              "      <th>count</th>\n",
              "      <td>15508.000</td>\n",
              "      <td>15508.000</td>\n",
              "      <td>15508.000</td>\n",
              "      <td>14338.000</td>\n",
              "      <td>14338.000</td>\n",
              "      <td>14338.000</td>\n",
              "      <td>14338.000</td>\n",
              "      <td>14338.000</td>\n",
              "      <td>14338.000</td>\n",
              "      <td>14338.000</td>\n",
              "      <td>...</td>\n",
              "      <td>15508.000</td>\n",
              "      <td>15508.000</td>\n",
              "      <td>15508.000</td>\n",
              "      <td>15508.000</td>\n",
              "      <td>15508.000</td>\n",
              "      <td>15508.000</td>\n",
              "      <td>15508.000</td>\n",
              "      <td>15508.000</td>\n",
              "      <td>15508.000</td>\n",
              "      <td>15508.000</td>\n",
              "    </tr>\n",
              "    <tr>\n",
              "      <th>mean</th>\n",
              "      <td>80789.618</td>\n",
              "      <td>47683.566</td>\n",
              "      <td>7754.500</td>\n",
              "      <td>115889.866</td>\n",
              "      <td>116007.379</td>\n",
              "      <td>116123.051</td>\n",
              "      <td>116235.493</td>\n",
              "      <td>116358.920</td>\n",
              "      <td>116501.681</td>\n",
              "      <td>116689.315</td>\n",
              "      <td>...</td>\n",
              "      <td>279359.582</td>\n",
              "      <td>280672.685</td>\n",
              "      <td>282148.749</td>\n",
              "      <td>283446.447</td>\n",
              "      <td>284466.282</td>\n",
              "      <td>285500.200</td>\n",
              "      <td>286717.307</td>\n",
              "      <td>288029.320</td>\n",
              "      <td>289187.510</td>\n",
              "      <td>290106.635</td>\n",
              "    </tr>\n",
              "    <tr>\n",
              "      <th>std</th>\n",
              "      <td>31521.485</td>\n",
              "      <td>29008.034</td>\n",
              "      <td>4476.918</td>\n",
              "      <td>85115.825</td>\n",
              "      <td>85264.209</td>\n",
              "      <td>85413.118</td>\n",
              "      <td>85566.676</td>\n",
              "      <td>85744.243</td>\n",
              "      <td>85958.867</td>\n",
              "      <td>86230.630</td>\n",
              "      <td>...</td>\n",
              "      <td>361868.364</td>\n",
              "      <td>361360.576</td>\n",
              "      <td>363102.089</td>\n",
              "      <td>365301.815</td>\n",
              "      <td>366277.876</td>\n",
              "      <td>367095.613</td>\n",
              "      <td>366772.521</td>\n",
              "      <td>364624.171</td>\n",
              "      <td>361143.146</td>\n",
              "      <td>359132.687</td>\n",
              "    </tr>\n",
              "    <tr>\n",
              "      <th>min</th>\n",
              "      <td>58196.000</td>\n",
              "      <td>1001.000</td>\n",
              "      <td>1.000</td>\n",
              "      <td>11300.000</td>\n",
              "      <td>11500.000</td>\n",
              "      <td>11600.000</td>\n",
              "      <td>11800.000</td>\n",
              "      <td>11800.000</td>\n",
              "      <td>12000.000</td>\n",
              "      <td>12100.000</td>\n",
              "      <td>...</td>\n",
              "      <td>21700.000</td>\n",
              "      <td>21700.000</td>\n",
              "      <td>22100.000</td>\n",
              "      <td>22200.000</td>\n",
              "      <td>22000.000</td>\n",
              "      <td>21800.000</td>\n",
              "      <td>21700.000</td>\n",
              "      <td>21500.000</td>\n",
              "      <td>21600.000</td>\n",
              "      <td>21900.000</td>\n",
              "    </tr>\n",
              "    <tr>\n",
              "      <th>25%</th>\n",
              "      <td>67215.000</td>\n",
              "      <td>22199.000</td>\n",
              "      <td>3877.750</td>\n",
              "      <td>66700.000</td>\n",
              "      <td>66800.000</td>\n",
              "      <td>66925.000</td>\n",
              "      <td>67100.000</td>\n",
              "      <td>67200.000</td>\n",
              "      <td>67300.000</td>\n",
              "      <td>67500.000</td>\n",
              "      <td>...</td>\n",
              "      <td>128300.000</td>\n",
              "      <td>128800.000</td>\n",
              "      <td>129675.000</td>\n",
              "      <td>130300.000</td>\n",
              "      <td>131100.000</td>\n",
              "      <td>131900.000</td>\n",
              "      <td>132900.000</td>\n",
              "      <td>134000.000</td>\n",
              "      <td>135100.000</td>\n",
              "      <td>135600.000</td>\n",
              "    </tr>\n",
              "    <tr>\n",
              "      <th>50%</th>\n",
              "      <td>77886.500</td>\n",
              "      <td>45792.500</td>\n",
              "      <td>7754.500</td>\n",
              "      <td>96500.000</td>\n",
              "      <td>96700.000</td>\n",
              "      <td>96750.000</td>\n",
              "      <td>96900.000</td>\n",
              "      <td>96900.000</td>\n",
              "      <td>97000.000</td>\n",
              "      <td>97150.000</td>\n",
              "      <td>...</td>\n",
              "      <td>191100.000</td>\n",
              "      <td>192150.000</td>\n",
              "      <td>193400.000</td>\n",
              "      <td>194600.000</td>\n",
              "      <td>195700.000</td>\n",
              "      <td>196900.000</td>\n",
              "      <td>198100.000</td>\n",
              "      <td>199600.000</td>\n",
              "      <td>201100.000</td>\n",
              "      <td>202150.000</td>\n",
              "    </tr>\n",
              "    <tr>\n",
              "      <th>75%</th>\n",
              "      <td>90314.250</td>\n",
              "      <td>74010.250</td>\n",
              "      <td>11631.250</td>\n",
              "      <td>140500.000</td>\n",
              "      <td>140600.000</td>\n",
              "      <td>140600.000</td>\n",
              "      <td>140800.000</td>\n",
              "      <td>141000.000</td>\n",
              "      <td>141100.000</td>\n",
              "      <td>141300.000</td>\n",
              "      <td>...</td>\n",
              "      <td>310750.000</td>\n",
              "      <td>312300.000</td>\n",
              "      <td>314325.000</td>\n",
              "      <td>316100.000</td>\n",
              "      <td>317425.000</td>\n",
              "      <td>318325.000</td>\n",
              "      <td>319800.000</td>\n",
              "      <td>321200.000</td>\n",
              "      <td>322425.000</td>\n",
              "      <td>323900.000</td>\n",
              "    </tr>\n",
              "    <tr>\n",
              "      <th>max</th>\n",
              "      <td>753844.000</td>\n",
              "      <td>99901.000</td>\n",
              "      <td>15508.000</td>\n",
              "      <td>3676700.000</td>\n",
              "      <td>3704200.000</td>\n",
              "      <td>3729600.000</td>\n",
              "      <td>3754600.000</td>\n",
              "      <td>3781800.000</td>\n",
              "      <td>3813500.000</td>\n",
              "      <td>3849600.000</td>\n",
              "      <td>...</td>\n",
              "      <td>17724700.000</td>\n",
              "      <td>17408900.000</td>\n",
              "      <td>17450500.000</td>\n",
              "      <td>17722800.000</td>\n",
              "      <td>18006700.000</td>\n",
              "      <td>18273800.000</td>\n",
              "      <td>18331900.000</td>\n",
              "      <td>18131900.000</td>\n",
              "      <td>17594900.000</td>\n",
              "      <td>17119600.000</td>\n",
              "    </tr>\n",
              "  </tbody>\n",
              "</table>\n",
              "<p>8 rows × 276 columns</p>\n",
              "</div>"
            ],
            "text/plain": [
              "        RegionID  RegionName  SizeRank     1996-04     1996-05     1996-06  \\\n",
              "count  15508.000   15508.000 15508.000   14338.000   14338.000   14338.000   \n",
              "mean   80789.618   47683.566  7754.500  115889.866  116007.379  116123.051   \n",
              "std    31521.485   29008.034  4476.918   85115.825   85264.209   85413.118   \n",
              "min    58196.000    1001.000     1.000   11300.000   11500.000   11600.000   \n",
              "25%    67215.000   22199.000  3877.750   66700.000   66800.000   66925.000   \n",
              "50%    77886.500   45792.500  7754.500   96500.000   96700.000   96750.000   \n",
              "75%    90314.250   74010.250 11631.250  140500.000  140600.000  140600.000   \n",
              "max   753844.000   99901.000 15508.000 3676700.000 3704200.000 3729600.000   \n",
              "\n",
              "          1996-07     1996-08     1996-09     1996-10     ...       \\\n",
              "count   14338.000   14338.000   14338.000   14338.000     ...        \n",
              "mean   116235.493  116358.920  116501.681  116689.315     ...        \n",
              "std     85566.676   85744.243   85958.867   86230.630     ...        \n",
              "min     11800.000   11800.000   12000.000   12100.000     ...        \n",
              "25%     67100.000   67200.000   67300.000   67500.000     ...        \n",
              "50%     96900.000   96900.000   97000.000   97150.000     ...        \n",
              "75%    140800.000  141000.000  141100.000  141300.000     ...        \n",
              "max   3754600.000 3781800.000 3813500.000 3849600.000     ...        \n",
              "\n",
              "           2018-03      2018-04      2018-05      2018-06      2018-07  \\\n",
              "count    15508.000    15508.000    15508.000    15508.000    15508.000   \n",
              "mean    279359.582   280672.685   282148.749   283446.447   284466.282   \n",
              "std     361868.364   361360.576   363102.089   365301.815   366277.876   \n",
              "min      21700.000    21700.000    22100.000    22200.000    22000.000   \n",
              "25%     128300.000   128800.000   129675.000   130300.000   131100.000   \n",
              "50%     191100.000   192150.000   193400.000   194600.000   195700.000   \n",
              "75%     310750.000   312300.000   314325.000   316100.000   317425.000   \n",
              "max   17724700.000 17408900.000 17450500.000 17722800.000 18006700.000   \n",
              "\n",
              "           2018-08      2018-09      2018-10      2018-11      2018-12  \n",
              "count    15508.000    15508.000    15508.000    15508.000    15508.000  \n",
              "mean    285500.200   286717.307   288029.320   289187.510   290106.635  \n",
              "std     367095.613   366772.521   364624.171   361143.146   359132.687  \n",
              "min      21800.000    21700.000    21500.000    21600.000    21900.000  \n",
              "25%     131900.000   132900.000   134000.000   135100.000   135600.000  \n",
              "50%     196900.000   198100.000   199600.000   201100.000   202150.000  \n",
              "75%     318325.000   319800.000   321200.000   322425.000   323900.000  \n",
              "max   18273800.000 18331900.000 18131900.000 17594900.000 17119600.000  \n",
              "\n",
              "[8 rows x 276 columns]"
            ]
          },
          "metadata": {
            "tags": []
          },
          "execution_count": 3
        }
      ]
    },
    {
      "metadata": {
        "id": "sN0X6rcxI71q",
        "colab_type": "text"
      },
      "cell_type": "markdown",
      "source": [
        "#### Clean Up DataFrame\n",
        "Rename RegionName to ZipCode and Change Zip Code to String "
      ]
    },
    {
      "metadata": {
        "scrolled": false,
        "id": "v2wJ7XFuI71r",
        "colab_type": "code",
        "outputId": "80086c1b-ed84-42ae-9301-c314e2729999",
        "colab": {
          "base_uri": "https://localhost:8080/"
        }
      },
      "cell_type": "code",
      "source": [
        "df.rename(columns={\"RegionName\":\"ZipCode\"}, inplace=True)\n",
        "df[\"ZipCode\"]=df[\"ZipCode\"].map(lambda x: \"{:.0f}\".format(x))\n",
        "df[\"RegionID\"]=df[\"RegionID\"].map(lambda x: \"{:.0f}\".format(x))\n",
        "df.head()"
      ],
      "execution_count": 0,
      "outputs": [
        {
          "output_type": "execute_result",
          "data": {
            "text/html": [
              "<div>\n",
              "<style scoped>\n",
              "    .dataframe tbody tr th:only-of-type {\n",
              "        vertical-align: middle;\n",
              "    }\n",
              "\n",
              "    .dataframe tbody tr th {\n",
              "        vertical-align: top;\n",
              "    }\n",
              "\n",
              "    .dataframe thead th {\n",
              "        text-align: right;\n",
              "    }\n",
              "</style>\n",
              "<table border=\"1\" class=\"dataframe\">\n",
              "  <thead>\n",
              "    <tr style=\"text-align: right;\">\n",
              "      <th></th>\n",
              "      <th>RegionID</th>\n",
              "      <th>ZipCode</th>\n",
              "      <th>City</th>\n",
              "      <th>State</th>\n",
              "      <th>Metro</th>\n",
              "      <th>CountyName</th>\n",
              "      <th>SizeRank</th>\n",
              "      <th>1996-04</th>\n",
              "      <th>1996-05</th>\n",
              "      <th>1996-06</th>\n",
              "      <th>...</th>\n",
              "      <th>2018-03</th>\n",
              "      <th>2018-04</th>\n",
              "      <th>2018-05</th>\n",
              "      <th>2018-06</th>\n",
              "      <th>2018-07</th>\n",
              "      <th>2018-08</th>\n",
              "      <th>2018-09</th>\n",
              "      <th>2018-10</th>\n",
              "      <th>2018-11</th>\n",
              "      <th>2018-12</th>\n",
              "    </tr>\n",
              "  </thead>\n",
              "  <tbody>\n",
              "    <tr>\n",
              "      <th>0</th>\n",
              "      <td>84654</td>\n",
              "      <td>60657</td>\n",
              "      <td>Chicago</td>\n",
              "      <td>IL</td>\n",
              "      <td>Chicago-Naperville-Elgin</td>\n",
              "      <td>Cook County</td>\n",
              "      <td>1</td>\n",
              "      <td>334200.000</td>\n",
              "      <td>335400.000</td>\n",
              "      <td>336500.000</td>\n",
              "      <td>...</td>\n",
              "      <td>1037400</td>\n",
              "      <td>1038700</td>\n",
              "      <td>1041500</td>\n",
              "      <td>1042800</td>\n",
              "      <td>1042900</td>\n",
              "      <td>1044400</td>\n",
              "      <td>1047800</td>\n",
              "      <td>1049700</td>\n",
              "      <td>1048300</td>\n",
              "      <td>1047900</td>\n",
              "    </tr>\n",
              "    <tr>\n",
              "      <th>1</th>\n",
              "      <td>91982</td>\n",
              "      <td>77494</td>\n",
              "      <td>Katy</td>\n",
              "      <td>TX</td>\n",
              "      <td>Houston-The Woodlands-Sugar Land</td>\n",
              "      <td>Harris County</td>\n",
              "      <td>2</td>\n",
              "      <td>210400.000</td>\n",
              "      <td>212200.000</td>\n",
              "      <td>212200.000</td>\n",
              "      <td>...</td>\n",
              "      <td>330400</td>\n",
              "      <td>332700</td>\n",
              "      <td>334500</td>\n",
              "      <td>335900</td>\n",
              "      <td>337000</td>\n",
              "      <td>338300</td>\n",
              "      <td>338400</td>\n",
              "      <td>336900</td>\n",
              "      <td>336000</td>\n",
              "      <td>336500</td>\n",
              "    </tr>\n",
              "    <tr>\n",
              "      <th>2</th>\n",
              "      <td>84616</td>\n",
              "      <td>60614</td>\n",
              "      <td>Chicago</td>\n",
              "      <td>IL</td>\n",
              "      <td>Chicago-Naperville-Elgin</td>\n",
              "      <td>Cook County</td>\n",
              "      <td>3</td>\n",
              "      <td>498100.000</td>\n",
              "      <td>500900.000</td>\n",
              "      <td>503100.000</td>\n",
              "      <td>...</td>\n",
              "      <td>1317900</td>\n",
              "      <td>1321100</td>\n",
              "      <td>1325300</td>\n",
              "      <td>1323800</td>\n",
              "      <td>1321200</td>\n",
              "      <td>1320700</td>\n",
              "      <td>1319500</td>\n",
              "      <td>1318800</td>\n",
              "      <td>1319700</td>\n",
              "      <td>1323300</td>\n",
              "    </tr>\n",
              "    <tr>\n",
              "      <th>3</th>\n",
              "      <td>93144</td>\n",
              "      <td>79936</td>\n",
              "      <td>El Paso</td>\n",
              "      <td>TX</td>\n",
              "      <td>El Paso</td>\n",
              "      <td>El Paso County</td>\n",
              "      <td>4</td>\n",
              "      <td>77300.000</td>\n",
              "      <td>77300.000</td>\n",
              "      <td>77300.000</td>\n",
              "      <td>...</td>\n",
              "      <td>120800</td>\n",
              "      <td>121300</td>\n",
              "      <td>122200</td>\n",
              "      <td>123000</td>\n",
              "      <td>123600</td>\n",
              "      <td>124500</td>\n",
              "      <td>125600</td>\n",
              "      <td>126300</td>\n",
              "      <td>126800</td>\n",
              "      <td>127400</td>\n",
              "    </tr>\n",
              "    <tr>\n",
              "      <th>4</th>\n",
              "      <td>91940</td>\n",
              "      <td>77449</td>\n",
              "      <td>Katy</td>\n",
              "      <td>TX</td>\n",
              "      <td>Houston-The Woodlands-Sugar Land</td>\n",
              "      <td>Harris County</td>\n",
              "      <td>5</td>\n",
              "      <td>95400.000</td>\n",
              "      <td>95600.000</td>\n",
              "      <td>95800.000</td>\n",
              "      <td>...</td>\n",
              "      <td>175500</td>\n",
              "      <td>176400</td>\n",
              "      <td>176900</td>\n",
              "      <td>176900</td>\n",
              "      <td>177300</td>\n",
              "      <td>178000</td>\n",
              "      <td>178500</td>\n",
              "      <td>179300</td>\n",
              "      <td>180200</td>\n",
              "      <td>180700</td>\n",
              "    </tr>\n",
              "  </tbody>\n",
              "</table>\n",
              "<p>5 rows × 280 columns</p>\n",
              "</div>"
            ],
            "text/plain": [
              "  RegionID ZipCode     City State                             Metro  \\\n",
              "0    84654   60657  Chicago    IL          Chicago-Naperville-Elgin   \n",
              "1    91982   77494     Katy    TX  Houston-The Woodlands-Sugar Land   \n",
              "2    84616   60614  Chicago    IL          Chicago-Naperville-Elgin   \n",
              "3    93144   79936  El Paso    TX                           El Paso   \n",
              "4    91940   77449     Katy    TX  Houston-The Woodlands-Sugar Land   \n",
              "\n",
              "       CountyName  SizeRank    1996-04    1996-05    1996-06   ...     \\\n",
              "0     Cook County         1 334200.000 335400.000 336500.000   ...      \n",
              "1   Harris County         2 210400.000 212200.000 212200.000   ...      \n",
              "2     Cook County         3 498100.000 500900.000 503100.000   ...      \n",
              "3  El Paso County         4  77300.000  77300.000  77300.000   ...      \n",
              "4   Harris County         5  95400.000  95600.000  95800.000   ...      \n",
              "\n",
              "   2018-03  2018-04  2018-05  2018-06  2018-07  2018-08  2018-09  2018-10  \\\n",
              "0  1037400  1038700  1041500  1042800  1042900  1044400  1047800  1049700   \n",
              "1   330400   332700   334500   335900   337000   338300   338400   336900   \n",
              "2  1317900  1321100  1325300  1323800  1321200  1320700  1319500  1318800   \n",
              "3   120800   121300   122200   123000   123600   124500   125600   126300   \n",
              "4   175500   176400   176900   176900   177300   178000   178500   179300   \n",
              "\n",
              "   2018-11  2018-12  \n",
              "0  1048300  1047900  \n",
              "1   336000   336500  \n",
              "2  1319700  1323300  \n",
              "3   126800   127400  \n",
              "4   180200   180700  \n",
              "\n",
              "[5 rows x 280 columns]"
            ]
          },
          "metadata": {
            "tags": []
          },
          "execution_count": 4
        }
      ]
    },
    {
      "metadata": {
        "id": "RqzPnIu5I71t",
        "colab_type": "code",
        "colab": {}
      },
      "cell_type": "code",
      "source": [
        "median_prices = df.median()\n",
        "#sf_prices = df[\"City\"] == \"San Francisco\".median()\n"
      ],
      "execution_count": 0,
      "outputs": []
    },
    {
      "metadata": {
        "id": "WAPkk69KVg2b",
        "colab_type": "text"
      },
      "cell_type": "markdown",
      "source": [
        "**Median USA Prices December, 2018**"
      ]
    },
    {
      "metadata": {
        "id": "y9KkD7sJI71w",
        "colab_type": "code",
        "outputId": "d0c84805-886d-41a8-d68b-2c8869061b65",
        "colab": {
          "base_uri": "https://localhost:8080/"
        }
      },
      "cell_type": "code",
      "source": [
        "median_prices.tail()"
      ],
      "execution_count": 0,
      "outputs": [
        {
          "output_type": "execute_result",
          "data": {
            "text/plain": [
              "2018-08   196900.000\n",
              "2018-09   198100.000\n",
              "2018-10   199600.000\n",
              "2018-11   201100.000\n",
              "2018-12   202150.000\n",
              "dtype: float64"
            ]
          },
          "metadata": {
            "tags": []
          },
          "execution_count": 6
        }
      ]
    },
    {
      "metadata": {
        "id": "pBfbTmQmI710",
        "colab_type": "code",
        "outputId": "32262d26-bcfe-40b4-e770-83cbeadcff24",
        "colab": {
          "base_uri": "https://localhost:8080/"
        }
      },
      "cell_type": "code",
      "source": [
        "sf_df = df[df[\"City\"] == \"San Francisco\"].median()\n",
        "df_comparison = pd.concat([sf_df,median_prices], axis=1)\n",
        "df_comparison.columns = [\"San Francisco\",\"Median USA\"]\n",
        "df_comparison.tail()\n"
      ],
      "execution_count": 0,
      "outputs": [
        {
          "output_type": "execute_result",
          "data": {
            "text/html": [
              "<div>\n",
              "<style scoped>\n",
              "    .dataframe tbody tr th:only-of-type {\n",
              "        vertical-align: middle;\n",
              "    }\n",
              "\n",
              "    .dataframe tbody tr th {\n",
              "        vertical-align: top;\n",
              "    }\n",
              "\n",
              "    .dataframe thead th {\n",
              "        text-align: right;\n",
              "    }\n",
              "</style>\n",
              "<table border=\"1\" class=\"dataframe\">\n",
              "  <thead>\n",
              "    <tr style=\"text-align: right;\">\n",
              "      <th></th>\n",
              "      <th>San Francisco</th>\n",
              "      <th>Median USA</th>\n",
              "    </tr>\n",
              "  </thead>\n",
              "  <tbody>\n",
              "    <tr>\n",
              "      <th>2018-08</th>\n",
              "      <td>1828600.000</td>\n",
              "      <td>196900.000</td>\n",
              "    </tr>\n",
              "    <tr>\n",
              "      <th>2018-09</th>\n",
              "      <td>1823200.000</td>\n",
              "      <td>198100.000</td>\n",
              "    </tr>\n",
              "    <tr>\n",
              "      <th>2018-10</th>\n",
              "      <td>1823700.000</td>\n",
              "      <td>199600.000</td>\n",
              "    </tr>\n",
              "    <tr>\n",
              "      <th>2018-11</th>\n",
              "      <td>1813400.000</td>\n",
              "      <td>201100.000</td>\n",
              "    </tr>\n",
              "    <tr>\n",
              "      <th>2018-12</th>\n",
              "      <td>1806000.000</td>\n",
              "      <td>202150.000</td>\n",
              "    </tr>\n",
              "  </tbody>\n",
              "</table>\n",
              "</div>"
            ],
            "text/plain": [
              "         San Francisco  Median USA\n",
              "2018-08    1828600.000  196900.000\n",
              "2018-09    1823200.000  198100.000\n",
              "2018-10    1823700.000  199600.000\n",
              "2018-11    1813400.000  201100.000\n",
              "2018-12    1806000.000  202150.000"
            ]
          },
          "metadata": {
            "tags": []
          },
          "execution_count": 7
        }
      ]
    },
    {
      "metadata": {
        "id": "jFFma2gyyl2B",
        "colab_type": "code",
        "outputId": "45ef00d7-6bb0-4f4a-fc61-676401056556",
        "colab": {
          "base_uri": "https://localhost:8080/"
        }
      },
      "cell_type": "code",
      "source": [
        "df_comparison[['San Francisco']].plot(x = df_comparison.index,figsize = (8,8))"
      ],
      "execution_count": 0,
      "outputs": [
        {
          "output_type": "execute_result",
          "data": {
            "text/plain": [
              "<matplotlib.axes._subplots.AxesSubplot at 0x7f1a08b1d208>"
            ]
          },
          "metadata": {
            "tags": []
          },
          "execution_count": 8
        },
        {
          "output_type": "display_data",
          "data": {
            "image/png": "[encoded data removed]",
            "text/plain": [
              "<Figure size 576x576 with 1 Axes>"
            ]
          },
          "metadata": {
            "tags": []
          }
        }
      ]
    },
    {
      "metadata": {
        "id": "4c6K_Ih9cGga",
        "colab_type": "text"
      },
      "cell_type": "markdown",
      "source": [
        "## Modelling"
      ]
    },
    {
      "metadata": {
        "id": "_EQruuGKw6q3",
        "colab_type": "text"
      },
      "cell_type": "markdown",
      "source": [
        "###Using Prophet from Facebook for timeseries regession"
      ]
    },
    {
      "metadata": {
        "id": "6PmcIGXXa7U_",
        "colab_type": "code",
        "colab": {}
      },
      "cell_type": "code",
      "source": [
        "from fbprophet import Prophet\n",
        "df_ts = df_comparison.iloc[3:,:][['San Francisco']]\n",
        "df_ts.reset_index(inplace = True)\n",
        "df_ts.columns = ['ds', 'y']"
      ],
      "execution_count": 0,
      "outputs": []
    },
    {
      "metadata": {
        "id": "yVMhZAyVcM1I",
        "colab_type": "code",
        "outputId": "1d20e9d1-9f55-4452-ccb8-00309d8764cd",
        "colab": {
          "base_uri": "https://localhost:8080/",
          "height": 206
        }
      },
      "cell_type": "code",
      "source": [
        "df_ts.head()"
      ],
      "execution_count": 0,
      "outputs": [
        {
          "output_type": "execute_result",
          "data": {
            "text/html": [
              "<div>\n",
              "<style scoped>\n",
              "    .dataframe tbody tr th:only-of-type {\n",
              "        vertical-align: middle;\n",
              "    }\n",
              "\n",
              "    .dataframe tbody tr th {\n",
              "        vertical-align: top;\n",
              "    }\n",
              "\n",
              "    .dataframe thead th {\n",
              "        text-align: right;\n",
              "    }\n",
              "</style>\n",
              "<table border=\"1\" class=\"dataframe\">\n",
              "  <thead>\n",
              "    <tr style=\"text-align: right;\">\n",
              "      <th></th>\n",
              "      <th>ds</th>\n",
              "      <th>y</th>\n",
              "    </tr>\n",
              "  </thead>\n",
              "  <tbody>\n",
              "    <tr>\n",
              "      <th>0</th>\n",
              "      <td>1996-04</td>\n",
              "      <td>306900.000</td>\n",
              "    </tr>\n",
              "    <tr>\n",
              "      <th>1</th>\n",
              "      <td>1996-05</td>\n",
              "      <td>307600.000</td>\n",
              "    </tr>\n",
              "    <tr>\n",
              "      <th>2</th>\n",
              "      <td>1996-06</td>\n",
              "      <td>308400.000</td>\n",
              "    </tr>\n",
              "    <tr>\n",
              "      <th>3</th>\n",
              "      <td>1996-07</td>\n",
              "      <td>309300.000</td>\n",
              "    </tr>\n",
              "    <tr>\n",
              "      <th>4</th>\n",
              "      <td>1996-08</td>\n",
              "      <td>310500.000</td>\n",
              "    </tr>\n",
              "  </tbody>\n",
              "</table>\n",
              "</div>"
            ],
            "text/plain": [
              "        ds          y\n",
              "0  1996-04 306900.000\n",
              "1  1996-05 307600.000\n",
              "2  1996-06 308400.000\n",
              "3  1996-07 309300.000\n",
              "4  1996-08 310500.000"
            ]
          },
          "metadata": {
            "tags": []
          },
          "execution_count": 10
        }
      ]
    },
    {
      "metadata": {
        "colab_type": "code",
        "outputId": "530ed062-2e16-4dc9-cb40-6288cc5e07c9",
        "id": "1dZAVvHrbzsE",
        "colab": {
          "base_uri": "https://localhost:8080/",
          "height": 72
        }
      },
      "cell_type": "code",
      "source": [
        "m = Prophet()\n",
        "m.fit(df_ts)"
      ],
      "execution_count": 0,
      "outputs": [
        {
          "output_type": "stream",
          "text": [
            "INFO:fbprophet:Disabling weekly seasonality. Run prophet with weekly_seasonality=True to override this.\n",
            "INFO:fbprophet:Disabling daily seasonality. Run prophet with daily_seasonality=True to override this.\n"
          ],
          "name": "stderr"
        },
        {
          "output_type": "execute_result",
          "data": {
            "text/plain": [
              "<fbprophet.forecaster.Prophet at 0x7f1a08c437f0>"
            ]
          },
          "metadata": {
            "tags": []
          },
          "execution_count": 11
        }
      ]
    },
    {
      "metadata": {
        "id": "kePZGJUNdI-M",
        "colab_type": "code",
        "outputId": "9440b73d-b57b-455f-f73f-81be8d25b6da",
        "colab": {
          "base_uri": "https://localhost:8080/",
          "height": 206
        }
      },
      "cell_type": "code",
      "source": [
        "future = m.make_future_dataframe(periods=3650)\n",
        "future.tail()"
      ],
      "execution_count": 0,
      "outputs": [
        {
          "output_type": "execute_result",
          "data": {
            "text/html": [
              "<div>\n",
              "<style scoped>\n",
              "    .dataframe tbody tr th:only-of-type {\n",
              "        vertical-align: middle;\n",
              "    }\n",
              "\n",
              "    .dataframe tbody tr th {\n",
              "        vertical-align: top;\n",
              "    }\n",
              "\n",
              "    .dataframe thead th {\n",
              "        text-align: right;\n",
              "    }\n",
              "</style>\n",
              "<table border=\"1\" class=\"dataframe\">\n",
              "  <thead>\n",
              "    <tr style=\"text-align: right;\">\n",
              "      <th></th>\n",
              "      <th>ds</th>\n",
              "    </tr>\n",
              "  </thead>\n",
              "  <tbody>\n",
              "    <tr>\n",
              "      <th>3918</th>\n",
              "      <td>2028-11-24</td>\n",
              "    </tr>\n",
              "    <tr>\n",
              "      <th>3919</th>\n",
              "      <td>2028-11-25</td>\n",
              "    </tr>\n",
              "    <tr>\n",
              "      <th>3920</th>\n",
              "      <td>2028-11-26</td>\n",
              "    </tr>\n",
              "    <tr>\n",
              "      <th>3921</th>\n",
              "      <td>2028-11-27</td>\n",
              "    </tr>\n",
              "    <tr>\n",
              "      <th>3922</th>\n",
              "      <td>2028-11-28</td>\n",
              "    </tr>\n",
              "  </tbody>\n",
              "</table>\n",
              "</div>"
            ],
            "text/plain": [
              "             ds\n",
              "3918 2028-11-24\n",
              "3919 2028-11-25\n",
              "3920 2028-11-26\n",
              "3921 2028-11-27\n",
              "3922 2028-11-28"
            ]
          },
          "metadata": {
            "tags": []
          },
          "execution_count": 12
        }
      ]
    },
    {
      "metadata": {
        "id": "dqKrudc4dMx6",
        "colab_type": "code",
        "outputId": "99ffb2e3-1e1e-4f4e-cc93-7c3cc2ad8671",
        "colab": {
          "base_uri": "https://localhost:8080/",
          "height": 206
        }
      },
      "cell_type": "code",
      "source": [
        "forecast = m.predict(future)\n",
        "forecast[['ds', 'yhat', 'yhat_lower', 'yhat_upper']].tail()"
      ],
      "execution_count": 0,
      "outputs": [
        {
          "output_type": "execute_result",
          "data": {
            "text/html": [
              "<div>\n",
              "<style scoped>\n",
              "    .dataframe tbody tr th:only-of-type {\n",
              "        vertical-align: middle;\n",
              "    }\n",
              "\n",
              "    .dataframe tbody tr th {\n",
              "        vertical-align: top;\n",
              "    }\n",
              "\n",
              "    .dataframe thead th {\n",
              "        text-align: right;\n",
              "    }\n",
              "</style>\n",
              "<table border=\"1\" class=\"dataframe\">\n",
              "  <thead>\n",
              "    <tr style=\"text-align: right;\">\n",
              "      <th></th>\n",
              "      <th>ds</th>\n",
              "      <th>yhat</th>\n",
              "      <th>yhat_lower</th>\n",
              "      <th>yhat_upper</th>\n",
              "    </tr>\n",
              "  </thead>\n",
              "  <tbody>\n",
              "    <tr>\n",
              "      <th>3918</th>\n",
              "      <td>2028-11-24</td>\n",
              "      <td>3187334.524</td>\n",
              "      <td>2585523.957</td>\n",
              "      <td>3793600.716</td>\n",
              "    </tr>\n",
              "    <tr>\n",
              "      <th>3919</th>\n",
              "      <td>2028-11-25</td>\n",
              "      <td>3185446.969</td>\n",
              "      <td>2584577.430</td>\n",
              "      <td>3801124.902</td>\n",
              "    </tr>\n",
              "    <tr>\n",
              "      <th>3920</th>\n",
              "      <td>2028-11-26</td>\n",
              "      <td>3184375.245</td>\n",
              "      <td>2584201.394</td>\n",
              "      <td>3803133.613</td>\n",
              "    </tr>\n",
              "    <tr>\n",
              "      <th>3921</th>\n",
              "      <td>2028-11-27</td>\n",
              "      <td>3184200.109</td>\n",
              "      <td>2584237.528</td>\n",
              "      <td>3799852.815</td>\n",
              "    </tr>\n",
              "    <tr>\n",
              "      <th>3922</th>\n",
              "      <td>2028-11-28</td>\n",
              "      <td>3184975.971</td>\n",
              "      <td>2585196.672</td>\n",
              "      <td>3800666.268</td>\n",
              "    </tr>\n",
              "  </tbody>\n",
              "</table>\n",
              "</div>"
            ],
            "text/plain": [
              "             ds        yhat  yhat_lower  yhat_upper\n",
              "3918 2028-11-24 3187334.524 2585523.957 3793600.716\n",
              "3919 2028-11-25 3185446.969 2584577.430 3801124.902\n",
              "3920 2028-11-26 3184375.245 2584201.394 3803133.613\n",
              "3921 2028-11-27 3184200.109 2584237.528 3799852.815\n",
              "3922 2028-11-28 3184975.971 2585196.672 3800666.268"
            ]
          },
          "metadata": {
            "tags": []
          },
          "execution_count": 13
        }
      ]
    },
    {
      "metadata": {
        "id": "aMVcwKV1xIFQ",
        "colab_type": "text"
      },
      "cell_type": "markdown",
      "source": [
        "### Using linear regression to predict prices"
      ]
    },
    {
      "metadata": {
        "id": "6-IWVLrEgnKo",
        "colab_type": "code",
        "colab": {}
      },
      "cell_type": "code",
      "source": [
        "from sklearn.model_selection import train_test_split\n",
        "from sklearn import linear_model"
      ],
      "execution_count": 0,
      "outputs": []
    },
    {
      "metadata": {
        "id": "PpfDpcVieuAj",
        "colab_type": "code",
        "colab": {}
      },
      "cell_type": "code",
      "source": [
        "dates = df_ts.ds.values\n",
        "X= np.array(list(map(lambda x: int(x[:4]), dates)), dtype = 'int64')\n",
        "y = df_ts.y.values"
      ],
      "execution_count": 0,
      "outputs": []
    },
    {
      "metadata": {
        "id": "41gJuSXafbCJ",
        "colab_type": "code",
        "outputId": "e0fc63b9-d131-479d-cbfc-6f5f4ed676f6",
        "colab": {
          "base_uri": "https://localhost:8080/",
          "height": 35
        }
      },
      "cell_type": "code",
      "source": [
        "X_train, X_test, y_train, y_test = train_test_split(X.reshape(-1, 1), y, test_size = 0.3, random_state=20)\n",
        "reg_ts = linear_model.LinearRegression()\n",
        "reg_ts.fit(X_train, y_train)\n",
        "y_ts = reg_ts.predict(X_test)\n",
        "reg_ts.score(X_test, y_test)"
      ],
      "execution_count": 0,
      "outputs": [
        {
          "output_type": "execute_result",
          "data": {
            "text/plain": [
              "0.8617052779107007"
            ]
          },
          "metadata": {
            "tags": []
          },
          "execution_count": 16
        }
      ]
    },
    {
      "metadata": {
        "id": "lpgrkQOUhVlE",
        "colab_type": "code",
        "colab": {}
      },
      "cell_type": "code",
      "source": [
        "y_future = np.array(range(2020, 2029))"
      ],
      "execution_count": 0,
      "outputs": []
    },
    {
      "metadata": {
        "id": "jtSfPGpOiFuX",
        "colab_type": "code",
        "colab": {}
      },
      "cell_type": "code",
      "source": [
        "y_pred = reg_ts.predict(y_future.reshape(-1,1))"
      ],
      "execution_count": 0,
      "outputs": []
    },
    {
      "metadata": {
        "id": "xibJ9CjQo3ZH",
        "colab_type": "code",
        "outputId": "286cccd9-2b8f-4552-cdaf-ee9166afdfb1",
        "colab": {
          "base_uri": "https://localhost:8080/",
          "height": 72
        }
      },
      "cell_type": "code",
      "source": [
        "y_pred"
      ],
      "execution_count": 0,
      "outputs": [
        {
          "output_type": "execute_result",
          "data": {
            "text/plain": [
              "array([1606621.96406606, 1661824.32172945, 1717026.67939284,\n",
              "       1772229.03705624, 1827431.39471963, 1882633.75238302,\n",
              "       1937836.11004642, 1993038.46770981, 2048240.8253732 ])"
            ]
          },
          "metadata": {
            "tags": []
          },
          "execution_count": 19
        }
      ]
    },
    {
      "metadata": {
        "id": "9NTkAPQPxhaJ",
        "colab_type": "text"
      },
      "cell_type": "markdown",
      "source": [
        "### Comparing results from Prophet and linear regression"
      ]
    },
    {
      "metadata": {
        "id": "SXf17ut0lAhd",
        "colab_type": "code",
        "colab": {}
      },
      "cell_type": "code",
      "source": [
        "from datetime import datetime"
      ],
      "execution_count": 0,
      "outputs": []
    },
    {
      "metadata": {
        "id": "N4oQf7gSnse2",
        "colab_type": "code",
        "colab": {}
      },
      "cell_type": "code",
      "source": [
        "forecast['year'] = list(map(lambda x: x.year, forecast.ds.astype(datetime).values))\n",
        "prophet_forecast = pd.DataFrame(forecast.groupby(['year'])['yhat'].mean().reset_index()).iloc[24:,:]"
      ],
      "execution_count": 0,
      "outputs": []
    },
    {
      "metadata": {
        "id": "gCKr9gbgkxSa",
        "colab_type": "code",
        "colab": {}
      },
      "cell_type": "code",
      "source": [
        "df_compare = pd.concat([prophet_forecast.reset_index(),pd.DataFrame(y_pred)], axis = 1)\n",
        "df_compare.rename(columns={0:'regression_prediction'}, inplace = True)\n",
        "df_compare.rename(columns={'yhat':'prophet_prediction'}, inplace = True)\n",
        "df_compare.drop(['index'], axis = 1, inplace = True)"
      ],
      "execution_count": 0,
      "outputs": []
    },
    {
      "metadata": {
        "id": "neD2zSS4r_bc",
        "colab_type": "code",
        "outputId": "115be547-79d3-4660-92bd-afec27a66020",
        "colab": {
          "base_uri": "https://localhost:8080/",
          "height": 331
        }
      },
      "cell_type": "code",
      "source": [
        "df_compare"
      ],
      "execution_count": 0,
      "outputs": [
        {
          "output_type": "execute_result",
          "data": {
            "text/html": [
              "<div>\n",
              "<style scoped>\n",
              "    .dataframe tbody tr th:only-of-type {\n",
              "        vertical-align: middle;\n",
              "    }\n",
              "\n",
              "    .dataframe tbody tr th {\n",
              "        vertical-align: top;\n",
              "    }\n",
              "\n",
              "    .dataframe thead th {\n",
              "        text-align: right;\n",
              "    }\n",
              "</style>\n",
              "<table border=\"1\" class=\"dataframe\">\n",
              "  <thead>\n",
              "    <tr style=\"text-align: right;\">\n",
              "      <th></th>\n",
              "      <th>year</th>\n",
              "      <th>prophet_prediction</th>\n",
              "      <th>regression_prediction</th>\n",
              "    </tr>\n",
              "  </thead>\n",
              "  <tbody>\n",
              "    <tr>\n",
              "      <th>0</th>\n",
              "      <td>2020</td>\n",
              "      <td>2047389.345</td>\n",
              "      <td>1606621.964</td>\n",
              "    </tr>\n",
              "    <tr>\n",
              "      <th>1</th>\n",
              "      <td>2021</td>\n",
              "      <td>2183870.757</td>\n",
              "      <td>1661824.322</td>\n",
              "    </tr>\n",
              "    <tr>\n",
              "      <th>2</th>\n",
              "      <td>2022</td>\n",
              "      <td>2320164.192</td>\n",
              "      <td>1717026.679</td>\n",
              "    </tr>\n",
              "    <tr>\n",
              "      <th>3</th>\n",
              "      <td>2023</td>\n",
              "      <td>2456457.587</td>\n",
              "      <td>1772229.037</td>\n",
              "    </tr>\n",
              "    <tr>\n",
              "      <th>4</th>\n",
              "      <td>2024</td>\n",
              "      <td>2592939.476</td>\n",
              "      <td>1827431.395</td>\n",
              "    </tr>\n",
              "    <tr>\n",
              "      <th>5</th>\n",
              "      <td>2025</td>\n",
              "      <td>2729420.889</td>\n",
              "      <td>1882633.752</td>\n",
              "    </tr>\n",
              "    <tr>\n",
              "      <th>6</th>\n",
              "      <td>2026</td>\n",
              "      <td>2865714.324</td>\n",
              "      <td>1937836.110</td>\n",
              "    </tr>\n",
              "    <tr>\n",
              "      <th>7</th>\n",
              "      <td>2027</td>\n",
              "      <td>3002007.718</td>\n",
              "      <td>1993038.468</td>\n",
              "    </tr>\n",
              "    <tr>\n",
              "      <th>8</th>\n",
              "      <td>2028</td>\n",
              "      <td>3128552.229</td>\n",
              "      <td>2048240.825</td>\n",
              "    </tr>\n",
              "  </tbody>\n",
              "</table>\n",
              "</div>"
            ],
            "text/plain": [
              "   year  prophet_prediction  regression_prediction\n",
              "0  2020         2047389.345            1606621.964\n",
              "1  2021         2183870.757            1661824.322\n",
              "2  2022         2320164.192            1717026.679\n",
              "3  2023         2456457.587            1772229.037\n",
              "4  2024         2592939.476            1827431.395\n",
              "5  2025         2729420.889            1882633.752\n",
              "6  2026         2865714.324            1937836.110\n",
              "7  2027         3002007.718            1993038.468\n",
              "8  2028         3128552.229            2048240.825"
            ]
          },
          "metadata": {
            "tags": []
          },
          "execution_count": 23
        }
      ]
    },
    {
      "metadata": {
        "id": "-OzqlAzvLXrA",
        "colab_type": "text"
      },
      "cell_type": "markdown",
      "source": [
        "##Visualize"
      ]
    },
    {
      "metadata": {
        "id": "DxidLLD1yWJb",
        "colab_type": "text"
      },
      "cell_type": "markdown",
      "source": [
        "### Plot from Prophet"
      ]
    },
    {
      "metadata": {
        "id": "qECy9dmVdVTu",
        "colab_type": "code",
        "outputId": "63a56d15-7b97-4d95-ee51-d4f8996e3e3e",
        "colab": {
          "base_uri": "https://localhost:8080/",
          "height": 441
        }
      },
      "cell_type": "code",
      "source": [
        "fig1 = m.plot(forecast)"
      ],
      "execution_count": 0,
      "outputs": [
        {
          "output_type": "display_data",
          "data": {
            "image/png": "[encoded data removed]",
            "text/plain": [
              "<Figure size 720x432 with 1 Axes>"
            ]
          },
          "metadata": {
            "tags": []
          }
        }
      ]
    },
    {
      "metadata": {
        "id": "_DC5Em9BdbKx",
        "colab_type": "code",
        "outputId": "6d1b3164-7a0b-449e-f7b9-c65d93cefab7",
        "colab": {
          "base_uri": "https://localhost:8080/",
          "height": 441
        }
      },
      "cell_type": "code",
      "source": [
        "fig2 = m.plot_components(forecast)"
      ],
      "execution_count": 0,
      "outputs": [
        {
          "output_type": "display_data",
          "data": {
            "image/png": "[encoded data removed]",
            "text/plain": [
              "<Figure size 648x432 with 2 Axes>"
            ]
          },
          "metadata": {
            "tags": []
          }
        }
      ]
    },
    {
      "metadata": {
        "id": "YC_DyZUoyahr",
        "colab_type": "text"
      },
      "cell_type": "markdown",
      "source": [
        "### Comparison between Prophet and Linear Regression"
      ]
    },
    {
      "metadata": {
        "id": "H1b7HG-wvSw1",
        "colab_type": "code",
        "outputId": "a05f46e8-e383-4929-ae1a-33f0574d38ac",
        "colab": {
          "base_uri": "https://localhost:8080/",
          "height": 518
        }
      },
      "cell_type": "code",
      "source": [
        "fig = plt.figure(figsize=(100, 50))\n",
        "df_compare.plot(x = 'year', figsize=(10,8))\n",
        "plt.show()"
      ],
      "execution_count": 0,
      "outputs": [
        {
          "output_type": "display_data",
          "data": {
            "text/plain": [
              "<Figure size 7200x3600 with 0 Axes>"
            ]
          },
          "metadata": {
            "tags": []
          }
        },
        {
          "output_type": "display_data",
          "data": {
            "image/png": "[encoded data removed]",
            "text/plain": [
              "<Figure size 720x576 with 1 Axes>"
            ]
          },
          "metadata": {
            "tags": []
          }
        }
      ]
    },
    {
      "metadata": {
        "id": "zMptumzKyTQH",
        "colab_type": "text"
      },
      "cell_type": "markdown",
      "source": [
        ""
      ]
    }
  ]
}